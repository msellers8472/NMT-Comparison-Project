{
 "cells": [
  {
   "cell_type": "code",
   "execution_count": null,
   "id": "b042eea0",
   "metadata": {
    "colab": {
     "base_uri": "https://localhost:8080/"
    },
    "id": "b042eea0",
    "outputId": "47c7819b-b60c-4f5b-817b-d90ccc7eedc7"
   },
   "outputs": [
    {
     "name": "stdout",
     "output_type": "stream",
     "text": [
      "Mounted at /content/gdrive\n"
     ]
    }
   ],
   "source": [
    "#Import required libraries\n",
    "import string\n",
    "import statistics\n",
    "import re\n",
    "from nltk.translate.bleu_score import corpus_bleu\n",
    "from nltk.translate import bleu_score\n",
    "from numpy import array, argmax, random, take\n",
    "import pandas as pd\n",
    "from keras.models import Sequential\n",
    "from keras.layers import Dense, LSTM, Embedding, Bidirectional, RepeatVector, TimeDistributed\n",
    "from keras.preprocessing.text import Tokenizer\n",
    "from keras.callbacks import ModelCheckpoint\n",
    "from keras.preprocessing.sequence import pad_sequences\n",
    "from keras.models import load_model\n",
    "from keras import optimizers\n",
    "import matplotlib.pyplot as plt\n",
    "from sklearn.model_selection import train_test_split\n",
    "import collections\n",
    "#matplotlib inline\n",
    "pd.set_option('display.max_colwidth', 200)\n",
    "\n",
    "from google.colab import drive\n",
    "\n",
    "drive.mount(\"/content/gdrive\")"
   ]
  },
  {
   "cell_type": "code",
   "execution_count": null,
   "id": "q5gWcYep7Bc5",
   "metadata": {
    "colab": {
     "base_uri": "https://localhost:8080/"
    },
    "id": "q5gWcYep7Bc5",
    "outputId": "d367ed20-ff3d-4279-b999-c192336d5d5a"
   },
   "outputs": [
    {
     "name": "stdout",
     "output_type": "stream",
     "text": [
      "Collecting rouge\n",
      "  Downloading https://files.pythonhosted.org/packages/43/cc/e18e33be20971ff73a056ebdb023476b5a545e744e3fc22acd8c758f1e0d/rouge-1.0.0-py3-none-any.whl\n",
      "Requirement already satisfied: six in /usr/local/lib/python3.7/dist-packages (from rouge) (1.15.0)\n",
      "Installing collected packages: rouge\n",
      "Successfully installed rouge-1.0.0\n"
     ]
    }
   ],
   "source": [
    "!pip install rouge\n",
    "from rouge import Rouge"
   ]
  },
  {
   "cell_type": "markdown",
   "id": "d0ek7370DRFb",
   "metadata": {
    "id": "d0ek7370DRFb"
   },
   "source": [
    "# German Models"
   ]
  },
  {
   "cell_type": "markdown",
   "id": "ohIz86tMzIkr",
   "metadata": {
    "id": "ohIz86tMzIkr"
   },
   "source": [
    "## German Preprocessing"
   ]
  },
  {
   "cell_type": "code",
   "execution_count": null,
   "id": "5a57ce71",
   "metadata": {
    "id": "5a57ce71"
   },
   "outputs": [],
   "source": [
    "#Make sure this file is uploaded to your Google Drive in the same \n",
    "#folder as this notebook.\n",
    "german_path = 'deu_short.txt'\n",
    "#Data source:\n",
    "#http://www.manythings.org/anki/"
   ]
  },
  {
   "cell_type": "code",
   "execution_count": null,
   "id": "IEoUcZiklyjP",
   "metadata": {
    "id": "IEoUcZiklyjP"
   },
   "outputs": [],
   "source": [
    "# function to read raw text file\n",
    "def read_text(filename):\n",
    "    # open the file\n",
    "    file = open(filename, mode='rt', encoding='utf-8')\n",
    "    # read all text\n",
    "    text = file.read()\n",
    "    file.close()\n",
    "    return text"
   ]
  },
  {
   "cell_type": "code",
   "execution_count": null,
   "id": "9R2tlpF2mbrt",
   "metadata": {
    "id": "9R2tlpF2mbrt"
   },
   "outputs": [],
   "source": [
    "def to_lines(text):\n",
    "    sents = text.strip().split('\\n')\n",
    "    sents = [i.split('\\t') for i in sents]\n",
    "    return sents"
   ]
  },
  {
   "cell_type": "code",
   "execution_count": null,
   "id": "jGrCMlqjm9LK",
   "metadata": {
    "id": "jGrCMlqjm9LK"
   },
   "outputs": [],
   "source": [
    "#load German data\n",
    "data = read_text(german_path)\n",
    "deu_eng = to_lines(data)\n",
    "deu_eng = array(deu_eng)\n"
   ]
  },
  {
   "cell_type": "code",
   "execution_count": null,
   "id": "fkelRhI3nAu1",
   "metadata": {
    "id": "fkelRhI3nAu1"
   },
   "outputs": [],
   "source": [
    "#get manageable sample\n",
    "deu_eng = deu_eng[:10000,:]"
   ]
  },
  {
   "cell_type": "code",
   "execution_count": null,
   "id": "NLs81ldBn0ZE",
   "metadata": {
    "id": "NLs81ldBn0ZE"
   },
   "outputs": [],
   "source": [
    "#Remove punctuation\n",
    "deu_eng[:,0] = [s.translate(str.maketrans('','', string.punctuation)) for s in deu_eng[:,0]]\n",
    "deu_eng[:,1] = [s.translate(str.maketrans('','', string.punctuation)) for s in deu_eng[:,1]]"
   ]
  },
  {
   "cell_type": "code",
   "execution_count": null,
   "id": "wDKkJHrSofIc",
   "metadata": {
    "id": "wDKkJHrSofIc"
   },
   "outputs": [],
   "source": [
    "#Convert to lowercase.\n",
    "for i in range(len(deu_eng)):\n",
    "    deu_eng[i,0]=deu_eng[i,0].lower()\n",
    "    deu_eng[i,1]=deu_eng[i,1].lower()"
   ]
  },
  {
   "cell_type": "code",
   "execution_count": null,
   "id": "RCTQtIB7agCh",
   "metadata": {
    "colab": {
     "base_uri": "https://localhost:8080/"
    },
    "id": "RCTQtIB7agCh",
    "outputId": "104181b6-1e2f-42b7-f185-b49e62fd0550"
   },
   "outputs": [
    {
     "name": "stdout",
     "output_type": "stream",
     "text": [
      "28171 English words/tokens in English-German corpus, sample\n",
      "2276 unique English words/tokens in English-German corpus, sample\n",
      "10 most common English word in the English-German sample corpus, stop words included:\n",
      "\"\"tom\" \"i\" \"it\" \"is\" \"you\" \"a\" \"im\" \"me\" \"its\" \"he\"\n",
      "33356 German words/tokens in English-German sample corpus\n",
      "3646 unique German words/tokens in English-German sample corpus\n",
      "10 most common German words in the English-German sample corpus, stop words included:\n",
      "\"ich\" \"tom\" \"ist\" \"sie\" \"es\" \"das\" \"bin\" \"nicht\" \"wir\" \"hat\"\n"
     ]
    }
   ],
   "source": [
    "#Analyze vocabulary of German dataset.\n",
    "german_words_counter = collections.Counter([word for sentence in deu_eng[:,1] for word in sentence.split()])\n",
    "english_words_counter_de = collections.Counter([word for sentence in deu_eng[:,0] for word in sentence.split()])\n",
    "print('{} English words/tokens in English-German corpus, sample'.format(len([word for sentence in deu_eng[:,0]\n",
    "                                                                     for word in sentence.split()])))\n",
    "print('{} unique English words/tokens in English-German corpus, sample'.format(len(english_words_counter_de)))\n",
    "print('10 most common English word in the English-German sample corpus, stop words included:')\n",
    "print('\"\"'+'\" \"'.join(list(zip(*english_words_counter_de.most_common(10)))[0])+'\"')\n",
    "print('{} German words/tokens in English-German sample corpus'.format(len([word for sentence in deu_eng[:,1] \n",
    "                                                                   for word in sentence.split()])))\n",
    "print('{} unique German words/tokens in English-German sample corpus'.format(len(german_words_counter)))\n",
    "print('10 most common German words in the English-German sample corpus, stop words included:')\n",
    "print('\"'+'\" \"'.join(list(zip(*german_words_counter.most_common(10)))[0])+'\"')"
   ]
  },
  {
   "cell_type": "code",
   "execution_count": null,
   "id": "8PZXpuKba-Xs",
   "metadata": {
    "id": "8PZXpuKba-Xs"
   },
   "outputs": [],
   "source": [
    "#create empty lists\n",
    "eng_l = []\n",
    "deu_l = []\n",
    "#populate lists w/ sentence lengths\n",
    "for i in deu_eng[:,0]:\n",
    "    eng_l.append(len(i.split()))\n",
    "for i in deu_eng[:,1]:\n",
    "    deu_l.append(len(i.split()))"
   ]
  },
  {
   "cell_type": "code",
   "execution_count": null,
   "id": "B_CE2fyMa-d6",
   "metadata": {
    "colab": {
     "base_uri": "https://localhost:8080/"
    },
    "id": "B_CE2fyMa-d6",
    "outputId": "7eb72d27-d9a6-4f3e-904b-e377318caa76"
   },
   "outputs": [
    {
     "name": "stdout",
     "output_type": "stream",
     "text": [
      "                  0\n",
      "count  10000.000000\n",
      "mean       2.817100\n",
      "std        0.658704\n",
      "min        1.000000\n",
      "25%        2.000000\n",
      "50%        3.000000\n",
      "75%        3.000000\n",
      "max        5.000000\n",
      "Average English sentence length in English-German sample corpus:  2.8171\n",
      "                  0\n",
      "count  10000.000000\n",
      "mean       3.335600\n",
      "std        0.886031\n",
      "min        1.000000\n",
      "25%        3.000000\n",
      "50%        3.000000\n",
      "75%        4.000000\n",
      "max        9.000000\n",
      "Average German sentence length in English-German sample corpus:  3.3356\n"
     ]
    }
   ],
   "source": [
    "#Display descriptive statistics for English and German sentence lengths\n",
    "df_eng_l_sample = pd.DataFrame(eng_l)\n",
    "print(df_eng_l_sample.describe())\n",
    "print(\"Average English sentence length in English-German sample corpus: \",statistics.mean(df_eng_l_sample.iloc[:,0]))\n",
    "\n",
    "df_deu_l_sample = pd.DataFrame(deu_l)\n",
    "print(df_deu_l_sample.describe())\n",
    "print(\"Average German sentence length in English-German sample corpus: \", statistics.mean(df_deu_l_sample.iloc[:,0]))"
   ]
  },
  {
   "cell_type": "code",
   "execution_count": null,
   "id": "GRdEY-CDa-j6",
   "metadata": {
    "id": "GRdEY-CDa-j6"
   },
   "outputs": [],
   "source": [
    "#create length dataframe\n",
    "length_df = pd.DataFrame({'eng':eng_l, 'deu':deu_l})"
   ]
  },
  {
   "cell_type": "code",
   "execution_count": null,
   "id": "bEvELxH7a-rW",
   "metadata": {
    "colab": {
     "base_uri": "https://localhost:8080/",
     "height": 281
    },
    "id": "bEvELxH7a-rW",
    "outputId": "68e45eef-b5cb-417c-a6c4-5cc3ca59cee5"
   },
   "outputs": [
    {
     "data": {
      "image/png": "[encoded data removed]",
      "text/plain": [
       "<Figure size 432x288 with 2 Axes>"
      ]
     },
     "metadata": {
      "needs_background": "light",
      "tags": []
     },
     "output_type": "display_data"
    }
   ],
   "source": [
    "#examine distribution of lengths\n",
    "length_df.hist(bins=30)\n",
    "plt.show()"
   ]
  },
  {
   "cell_type": "code",
   "execution_count": null,
   "id": "qfyGZ1K7ohrQ",
   "metadata": {
    "id": "qfyGZ1K7ohrQ"
   },
   "outputs": [],
   "source": [
    "#define tokenizer-builder function\n",
    "def tokenization(lines):\n",
    "    tokenizer=Tokenizer()\n",
    "    tokenizer.fit_on_texts(lines)\n",
    "    return tokenizer"
   ]
  },
  {
   "cell_type": "code",
   "execution_count": null,
   "id": "wiK4RhEbwR6E",
   "metadata": {
    "id": "wiK4RhEbwR6E"
   },
   "outputs": [],
   "source": [
    "def max_length(lines):\n",
    "\treturn max(len(line.split()) for line in lines)"
   ]
  },
  {
   "cell_type": "code",
   "execution_count": null,
   "id": "NEqYBhBtora1",
   "metadata": {
    "colab": {
     "base_uri": "https://localhost:8080/"
    },
    "id": "NEqYBhBtora1",
    "outputId": "f6e719fa-e28b-4661-d328-71af626fdc82"
   },
   "outputs": [
    {
     "name": "stdout",
     "output_type": "stream",
     "text": [
      "English vocabulary size: 2277\n"
     ]
    }
   ],
   "source": [
    "#prep english tokenizer for german translation\n",
    "eng_de_tokenizer = tokenization(deu_eng[:,0])\n",
    "#get english vocab size for german translation\n",
    "eng_de_vocab_size = len(eng_de_tokenizer.word_index)+1\n",
    "eng_length = max_length(deu_eng[:,0])\n",
    "print(\"English vocabulary size: %d\" % eng_de_vocab_size)"
   ]
  },
  {
   "cell_type": "code",
   "execution_count": null,
   "id": "8s1vLrCHosUH",
   "metadata": {
    "colab": {
     "base_uri": "https://localhost:8080/"
    },
    "id": "8s1vLrCHosUH",
    "outputId": "1200a54d-a3cd-42fd-82a8-2cd51888cb4d"
   },
   "outputs": [
    {
     "name": "stdout",
     "output_type": "stream",
     "text": [
      "German Vocabulary Size: 3647\n"
     ]
    }
   ],
   "source": [
    "#prepare german tokenizer\n",
    "deu_tokenizer = tokenization(deu_eng[:, 1])\n",
    "deu_vocab_size = len(deu_tokenizer.word_index) + 1\n",
    "\n",
    "deu_length = max_length(deu_eng[:,1])\n",
    "print('German Vocabulary Size: %d' % deu_vocab_size)"
   ]
  },
  {
   "cell_type": "code",
   "execution_count": null,
   "id": "C2KoX0zkow-k",
   "metadata": {
    "id": "C2KoX0zkow-k"
   },
   "outputs": [],
   "source": [
    "# encode and pad sequences\n",
    "def encode_sequences(tokenizer, length, lines):\n",
    "    # integer encode sequences\n",
    "    seq = tokenizer.texts_to_sequences(lines)\n",
    "    # pad sequences with 0 values\n",
    "    seq = pad_sequences(seq, maxlen=length, padding='post')\n",
    "    return seq"
   ]
  },
  {
   "cell_type": "markdown",
   "id": "u1fsKV0pzzLO",
   "metadata": {
    "id": "u1fsKV0pzzLO"
   },
   "source": [
    "## German Baseline Model"
   ]
  },
  {
   "cell_type": "code",
   "execution_count": null,
   "id": "KjekW1ioYX9_",
   "metadata": {
    "id": "KjekW1ioYX9_"
   },
   "outputs": [],
   "source": [
    "#Model 1: Code From \n",
    "#https://www.analyticsvidhya.com/blog/2019/01/neural-machine-translation-keras/"
   ]
  },
  {
   "cell_type": "code",
   "execution_count": null,
   "id": "AToIFPdmoyni",
   "metadata": {
    "id": "AToIFPdmoyni"
   },
   "outputs": [],
   "source": [
    "#Create training and test data.\n",
    "trainDeu, testDeu = train_test_split(deu_eng, test_size=0.2, random_state=12)"
   ]
  },
  {
   "cell_type": "code",
   "execution_count": null,
   "id": "EzqbE_APo0Qa",
   "metadata": {
    "id": "EzqbE_APo0Qa"
   },
   "outputs": [],
   "source": [
    "#prepare training data\n",
    "trainGermanX = encode_sequences(deu_tokenizer, deu_length, trainDeu[:,1])\n",
    "trainEnglishGermanY = encode_sequences(eng_de_tokenizer, eng_length, trainDeu[:,0])"
   ]
  },
  {
   "cell_type": "code",
   "execution_count": null,
   "id": "cqbw4X0ko1zA",
   "metadata": {
    "id": "cqbw4X0ko1zA"
   },
   "outputs": [],
   "source": [
    "#prepare test data\n",
    "testGermanX = encode_sequences(deu_tokenizer, deu_length, testDeu[:,1])\n",
    "testEnglishGermanY=encode_sequences(eng_de_tokenizer, eng_length, testDeu[:,0])"
   ]
  },
  {
   "cell_type": "code",
   "execution_count": null,
   "id": "kcG2FXPAo32c",
   "metadata": {
    "id": "kcG2FXPAo32c"
   },
   "outputs": [],
   "source": [
    "#build NMT model. This model is LSTM-based.\n",
    "def build_model1(in_vocab, out_vocab, in_timesteps, out_timesteps, units):\n",
    "    model = Sequential()\n",
    "    model.add(Embedding(in_vocab, units, input_length=in_timesteps, mask_zero=True))\n",
    "    model.add(LSTM(units))\n",
    "    model.add(RepeatVector(out_timesteps))\n",
    "    model.add(LSTM(units, return_sequences=True))\n",
    "    model.add(Dense(out_vocab, activation='softmax'))\n",
    "    return model"
   ]
  },
  {
   "cell_type": "code",
   "execution_count": null,
   "id": "ngajh4D0o6_d",
   "metadata": {
    "colab": {
     "base_uri": "https://localhost:8080/"
    },
    "id": "ngajh4D0o6_d",
    "outputId": "3a05381c-846e-4422-ba8e-890af4e9ce26"
   },
   "outputs": [
    {
     "name": "stdout",
     "output_type": "stream",
     "text": [
      "Model: \"sequential\"\n",
      "_________________________________________________________________\n",
      "Layer (type)                 Output Shape              Param #   \n",
      "=================================================================\n",
      "embedding (Embedding)        (None, 9, 512)            1867264   \n",
      "_________________________________________________________________\n",
      "lstm (LSTM)                  (None, 512)               2099200   \n",
      "_________________________________________________________________\n",
      "repeat_vector (RepeatVector) (None, 5, 512)            0         \n",
      "_________________________________________________________________\n",
      "lstm_1 (LSTM)                (None, 5, 512)            2099200   \n",
      "_________________________________________________________________\n",
      "dense (Dense)                (None, 5, 2277)           1168101   \n",
      "=================================================================\n",
      "Total params: 7,233,765\n",
      "Trainable params: 7,233,765\n",
      "Non-trainable params: 0\n",
      "_________________________________________________________________\n"
     ]
    }
   ],
   "source": [
    "#Build and compile the model and define the optimizer.\n",
    "model_de_1 = build_model1(deu_vocab_size, eng_de_vocab_size, deu_length, eng_length, 512)\n",
    "model_de_1.summary()\n",
    "rms_de_1 = optimizers.RMSprop(lr=0.001)\n",
    "model_de_1.compile(optimizer=rms_de_1, loss='sparse_categorical_crossentropy', metrics = ['accuracy'])"
   ]
  },
  {
   "cell_type": "code",
   "execution_count": null,
   "id": "rcgnKVm7o_d7",
   "metadata": {
    "colab": {
     "base_uri": "https://localhost:8080/"
    },
    "id": "rcgnKVm7o_d7",
    "outputId": "418f063e-bacc-42ee-ab05-2ec43a467525"
   },
   "outputs": [
    {
     "name": "stdout",
     "output_type": "stream",
     "text": [
      "Epoch 1/30\n",
      "13/13 [==============================] - 38s 190ms/step - loss: 6.1435 - accuracy: 0.3356 - val_loss: 3.9788 - val_accuracy: 0.4576\n",
      "\n",
      "Epoch 00001: val_loss improved from inf to 3.97878, saving model to model.h1.1_may_21_model1\n"
     ]
    },
    {
     "name": "stderr",
     "output_type": "stream",
     "text": [
      "WARNING:absl:Found untraced functions such as lstm_cell_layer_call_and_return_conditional_losses, lstm_cell_layer_call_fn, lstm_cell_1_layer_call_and_return_conditional_losses, lstm_cell_1_layer_call_fn, lstm_cell_layer_call_fn while saving (showing 5 of 10). These functions will not be directly callable after loading.\n",
      "WARNING:absl:Found untraced functions such as lstm_cell_layer_call_and_return_conditional_losses, lstm_cell_layer_call_fn, lstm_cell_1_layer_call_and_return_conditional_losses, lstm_cell_1_layer_call_fn, lstm_cell_layer_call_fn while saving (showing 5 of 10). These functions will not be directly callable after loading.\n"
     ]
    },
    {
     "name": "stdout",
     "output_type": "stream",
     "text": [
      "INFO:tensorflow:Assets written to: model.h1.1_may_21_model1/assets\n"
     ]
    },
    {
     "name": "stderr",
     "output_type": "stream",
     "text": [
      "INFO:tensorflow:Assets written to: model.h1.1_may_21_model1/assets\n"
     ]
    },
    {
     "name": "stdout",
     "output_type": "stream",
     "text": [
      "Epoch 2/30\n",
      "13/13 [==============================] - 1s 56ms/step - loss: 3.7958 - accuracy: 0.4583 - val_loss: 3.5635 - val_accuracy: 0.4676\n",
      "\n",
      "Epoch 00002: val_loss improved from 3.97878 to 3.56348, saving model to model.h1.1_may_21_model1\n"
     ]
    },
    {
     "name": "stderr",
     "output_type": "stream",
     "text": [
      "WARNING:absl:Found untraced functions such as lstm_cell_layer_call_and_return_conditional_losses, lstm_cell_layer_call_fn, lstm_cell_1_layer_call_and_return_conditional_losses, lstm_cell_1_layer_call_fn, lstm_cell_layer_call_fn while saving (showing 5 of 10). These functions will not be directly callable after loading.\n",
      "WARNING:absl:Found untraced functions such as lstm_cell_layer_call_and_return_conditional_losses, lstm_cell_layer_call_fn, lstm_cell_1_layer_call_and_return_conditional_losses, lstm_cell_1_layer_call_fn, lstm_cell_layer_call_fn while saving (showing 5 of 10). These functions will not be directly callable after loading.\n"
     ]
    },
    {
     "name": "stdout",
     "output_type": "stream",
     "text": [
      "INFO:tensorflow:Assets written to: model.h1.1_may_21_model1/assets\n"
     ]
    },
    {
     "name": "stderr",
     "output_type": "stream",
     "text": [
      "INFO:tensorflow:Assets written to: model.h1.1_may_21_model1/assets\n"
     ]
    },
    {
     "name": "stdout",
     "output_type": "stream",
     "text": [
      "Epoch 3/30\n",
      "13/13 [==============================] - 1s 58ms/step - loss: 3.4129 - accuracy: 0.4707 - val_loss: 3.3533 - val_accuracy: 0.4794\n",
      "\n",
      "Epoch 00003: val_loss improved from 3.56348 to 3.35333, saving model to model.h1.1_may_21_model1\n"
     ]
    },
    {
     "name": "stderr",
     "output_type": "stream",
     "text": [
      "WARNING:absl:Found untraced functions such as lstm_cell_layer_call_and_return_conditional_losses, lstm_cell_layer_call_fn, lstm_cell_1_layer_call_and_return_conditional_losses, lstm_cell_1_layer_call_fn, lstm_cell_layer_call_fn while saving (showing 5 of 10). These functions will not be directly callable after loading.\n",
      "WARNING:absl:Found untraced functions such as lstm_cell_layer_call_and_return_conditional_losses, lstm_cell_layer_call_fn, lstm_cell_1_layer_call_and_return_conditional_losses, lstm_cell_1_layer_call_fn, lstm_cell_layer_call_fn while saving (showing 5 of 10). These functions will not be directly callable after loading.\n"
     ]
    },
    {
     "name": "stdout",
     "output_type": "stream",
     "text": [
      "INFO:tensorflow:Assets written to: model.h1.1_may_21_model1/assets\n"
     ]
    },
    {
     "name": "stderr",
     "output_type": "stream",
     "text": [
      "INFO:tensorflow:Assets written to: model.h1.1_may_21_model1/assets\n"
     ]
    },
    {
     "name": "stdout",
     "output_type": "stream",
     "text": [
      "Epoch 4/30\n",
      "13/13 [==============================] - 1s 54ms/step - loss: 3.2507 - accuracy: 0.4799 - val_loss: 3.3187 - val_accuracy: 0.4810\n",
      "\n",
      "Epoch 00004: val_loss improved from 3.35333 to 3.31865, saving model to model.h1.1_may_21_model1\n"
     ]
    },
    {
     "name": "stderr",
     "output_type": "stream",
     "text": [
      "WARNING:absl:Found untraced functions such as lstm_cell_layer_call_and_return_conditional_losses, lstm_cell_layer_call_fn, lstm_cell_1_layer_call_and_return_conditional_losses, lstm_cell_1_layer_call_fn, lstm_cell_layer_call_fn while saving (showing 5 of 10). These functions will not be directly callable after loading.\n",
      "WARNING:absl:Found untraced functions such as lstm_cell_layer_call_and_return_conditional_losses, lstm_cell_layer_call_fn, lstm_cell_1_layer_call_and_return_conditional_losses, lstm_cell_1_layer_call_fn, lstm_cell_layer_call_fn while saving (showing 5 of 10). These functions will not be directly callable after loading.\n"
     ]
    },
    {
     "name": "stdout",
     "output_type": "stream",
     "text": [
      "INFO:tensorflow:Assets written to: model.h1.1_may_21_model1/assets\n"
     ]
    },
    {
     "name": "stderr",
     "output_type": "stream",
     "text": [
      "INFO:tensorflow:Assets written to: model.h1.1_may_21_model1/assets\n"
     ]
    },
    {
     "name": "stdout",
     "output_type": "stream",
     "text": [
      "Epoch 5/30\n",
      "13/13 [==============================] - 1s 54ms/step - loss: 3.1595 - accuracy: 0.4860 - val_loss: 3.2769 - val_accuracy: 0.4824\n",
      "\n",
      "Epoch 00005: val_loss improved from 3.31865 to 3.27694, saving model to model.h1.1_may_21_model1\n"
     ]
    },
    {
     "name": "stderr",
     "output_type": "stream",
     "text": [
      "WARNING:absl:Found untraced functions such as lstm_cell_layer_call_and_return_conditional_losses, lstm_cell_layer_call_fn, lstm_cell_1_layer_call_and_return_conditional_losses, lstm_cell_1_layer_call_fn, lstm_cell_layer_call_fn while saving (showing 5 of 10). These functions will not be directly callable after loading.\n",
      "WARNING:absl:Found untraced functions such as lstm_cell_layer_call_and_return_conditional_losses, lstm_cell_layer_call_fn, lstm_cell_1_layer_call_and_return_conditional_losses, lstm_cell_1_layer_call_fn, lstm_cell_layer_call_fn while saving (showing 5 of 10). These functions will not be directly callable after loading.\n"
     ]
    },
    {
     "name": "stdout",
     "output_type": "stream",
     "text": [
      "INFO:tensorflow:Assets written to: model.h1.1_may_21_model1/assets\n"
     ]
    },
    {
     "name": "stderr",
     "output_type": "stream",
     "text": [
      "INFO:tensorflow:Assets written to: model.h1.1_may_21_model1/assets\n"
     ]
    },
    {
     "name": "stdout",
     "output_type": "stream",
     "text": [
      "Epoch 6/30\n",
      "13/13 [==============================] - 1s 55ms/step - loss: 3.1293 - accuracy: 0.4896 - val_loss: 3.2683 - val_accuracy: 0.4820\n",
      "\n",
      "Epoch 00006: val_loss improved from 3.27694 to 3.26830, saving model to model.h1.1_may_21_model1\n"
     ]
    },
    {
     "name": "stderr",
     "output_type": "stream",
     "text": [
      "WARNING:absl:Found untraced functions such as lstm_cell_layer_call_and_return_conditional_losses, lstm_cell_layer_call_fn, lstm_cell_1_layer_call_and_return_conditional_losses, lstm_cell_1_layer_call_fn, lstm_cell_layer_call_fn while saving (showing 5 of 10). These functions will not be directly callable after loading.\n",
      "WARNING:absl:Found untraced functions such as lstm_cell_layer_call_and_return_conditional_losses, lstm_cell_layer_call_fn, lstm_cell_1_layer_call_and_return_conditional_losses, lstm_cell_1_layer_call_fn, lstm_cell_layer_call_fn while saving (showing 5 of 10). These functions will not be directly callable after loading.\n"
     ]
    },
    {
     "name": "stdout",
     "output_type": "stream",
     "text": [
      "INFO:tensorflow:Assets written to: model.h1.1_may_21_model1/assets\n"
     ]
    },
    {
     "name": "stderr",
     "output_type": "stream",
     "text": [
      "INFO:tensorflow:Assets written to: model.h1.1_may_21_model1/assets\n"
     ]
    },
    {
     "name": "stdout",
     "output_type": "stream",
     "text": [
      "Epoch 7/30\n",
      "13/13 [==============================] - 1s 53ms/step - loss: 3.0559 - accuracy: 0.5000 - val_loss: 3.2025 - val_accuracy: 0.5033\n",
      "\n",
      "Epoch 00007: val_loss improved from 3.26830 to 3.20249, saving model to model.h1.1_may_21_model1\n"
     ]
    },
    {
     "name": "stderr",
     "output_type": "stream",
     "text": [
      "WARNING:absl:Found untraced functions such as lstm_cell_layer_call_and_return_conditional_losses, lstm_cell_layer_call_fn, lstm_cell_1_layer_call_and_return_conditional_losses, lstm_cell_1_layer_call_fn, lstm_cell_layer_call_fn while saving (showing 5 of 10). These functions will not be directly callable after loading.\n",
      "WARNING:absl:Found untraced functions such as lstm_cell_layer_call_and_return_conditional_losses, lstm_cell_layer_call_fn, lstm_cell_1_layer_call_and_return_conditional_losses, lstm_cell_1_layer_call_fn, lstm_cell_layer_call_fn while saving (showing 5 of 10). These functions will not be directly callable after loading.\n"
     ]
    },
    {
     "name": "stdout",
     "output_type": "stream",
     "text": [
      "INFO:tensorflow:Assets written to: model.h1.1_may_21_model1/assets\n"
     ]
    },
    {
     "name": "stderr",
     "output_type": "stream",
     "text": [
      "INFO:tensorflow:Assets written to: model.h1.1_may_21_model1/assets\n"
     ]
    },
    {
     "name": "stdout",
     "output_type": "stream",
     "text": [
      "Epoch 8/30\n",
      "13/13 [==============================] - 1s 53ms/step - loss: 2.9644 - accuracy: 0.5110 - val_loss: 3.1626 - val_accuracy: 0.5085\n",
      "\n",
      "Epoch 00008: val_loss improved from 3.20249 to 3.16263, saving model to model.h1.1_may_21_model1\n"
     ]
    },
    {
     "name": "stderr",
     "output_type": "stream",
     "text": [
      "WARNING:absl:Found untraced functions such as lstm_cell_layer_call_and_return_conditional_losses, lstm_cell_layer_call_fn, lstm_cell_1_layer_call_and_return_conditional_losses, lstm_cell_1_layer_call_fn, lstm_cell_layer_call_fn while saving (showing 5 of 10). These functions will not be directly callable after loading.\n",
      "WARNING:absl:Found untraced functions such as lstm_cell_layer_call_and_return_conditional_losses, lstm_cell_layer_call_fn, lstm_cell_1_layer_call_and_return_conditional_losses, lstm_cell_1_layer_call_fn, lstm_cell_layer_call_fn while saving (showing 5 of 10). These functions will not be directly callable after loading.\n"
     ]
    },
    {
     "name": "stdout",
     "output_type": "stream",
     "text": [
      "INFO:tensorflow:Assets written to: model.h1.1_may_21_model1/assets\n"
     ]
    },
    {
     "name": "stderr",
     "output_type": "stream",
     "text": [
      "INFO:tensorflow:Assets written to: model.h1.1_may_21_model1/assets\n"
     ]
    },
    {
     "name": "stdout",
     "output_type": "stream",
     "text": [
      "Epoch 9/30\n",
      "13/13 [==============================] - 1s 55ms/step - loss: 2.8714 - accuracy: 0.5229 - val_loss: 3.1104 - val_accuracy: 0.5180\n",
      "\n",
      "Epoch 00009: val_loss improved from 3.16263 to 3.11036, saving model to model.h1.1_may_21_model1\n"
     ]
    },
    {
     "name": "stderr",
     "output_type": "stream",
     "text": [
      "WARNING:absl:Found untraced functions such as lstm_cell_layer_call_and_return_conditional_losses, lstm_cell_layer_call_fn, lstm_cell_1_layer_call_and_return_conditional_losses, lstm_cell_1_layer_call_fn, lstm_cell_layer_call_fn while saving (showing 5 of 10). These functions will not be directly callable after loading.\n",
      "WARNING:absl:Found untraced functions such as lstm_cell_layer_call_and_return_conditional_losses, lstm_cell_layer_call_fn, lstm_cell_1_layer_call_and_return_conditional_losses, lstm_cell_1_layer_call_fn, lstm_cell_layer_call_fn while saving (showing 5 of 10). These functions will not be directly callable after loading.\n"
     ]
    },
    {
     "name": "stdout",
     "output_type": "stream",
     "text": [
      "INFO:tensorflow:Assets written to: model.h1.1_may_21_model1/assets\n"
     ]
    },
    {
     "name": "stderr",
     "output_type": "stream",
     "text": [
      "INFO:tensorflow:Assets written to: model.h1.1_may_21_model1/assets\n"
     ]
    },
    {
     "name": "stdout",
     "output_type": "stream",
     "text": [
      "Epoch 10/30\n",
      "13/13 [==============================] - 1s 55ms/step - loss: 2.7945 - accuracy: 0.5306 - val_loss: 3.1191 - val_accuracy: 0.5228\n",
      "\n",
      "Epoch 00010: val_loss did not improve from 3.11036\n",
      "Epoch 11/30\n",
      "13/13 [==============================] - 1s 46ms/step - loss: 2.7139 - accuracy: 0.5421 - val_loss: 2.9638 - val_accuracy: 0.5315\n",
      "\n",
      "Epoch 00011: val_loss improved from 3.11036 to 2.96384, saving model to model.h1.1_may_21_model1\n"
     ]
    },
    {
     "name": "stderr",
     "output_type": "stream",
     "text": [
      "WARNING:absl:Found untraced functions such as lstm_cell_layer_call_and_return_conditional_losses, lstm_cell_layer_call_fn, lstm_cell_1_layer_call_and_return_conditional_losses, lstm_cell_1_layer_call_fn, lstm_cell_layer_call_fn while saving (showing 5 of 10). These functions will not be directly callable after loading.\n",
      "WARNING:absl:Found untraced functions such as lstm_cell_layer_call_and_return_conditional_losses, lstm_cell_layer_call_fn, lstm_cell_1_layer_call_and_return_conditional_losses, lstm_cell_1_layer_call_fn, lstm_cell_layer_call_fn while saving (showing 5 of 10). These functions will not be directly callable after loading.\n"
     ]
    },
    {
     "name": "stdout",
     "output_type": "stream",
     "text": [
      "INFO:tensorflow:Assets written to: model.h1.1_may_21_model1/assets\n"
     ]
    },
    {
     "name": "stderr",
     "output_type": "stream",
     "text": [
      "INFO:tensorflow:Assets written to: model.h1.1_may_21_model1/assets\n"
     ]
    },
    {
     "name": "stdout",
     "output_type": "stream",
     "text": [
      "Epoch 12/30\n",
      "13/13 [==============================] - 1s 56ms/step - loss: 2.6022 - accuracy: 0.5493 - val_loss: 2.9678 - val_accuracy: 0.5408\n",
      "\n",
      "Epoch 00012: val_loss did not improve from 2.96384\n",
      "Epoch 13/30\n",
      "13/13 [==============================] - 1s 45ms/step - loss: 2.5560 - accuracy: 0.5515 - val_loss: 2.8924 - val_accuracy: 0.5447\n",
      "\n",
      "Epoch 00013: val_loss improved from 2.96384 to 2.89235, saving model to model.h1.1_may_21_model1\n"
     ]
    },
    {
     "name": "stderr",
     "output_type": "stream",
     "text": [
      "WARNING:absl:Found untraced functions such as lstm_cell_layer_call_and_return_conditional_losses, lstm_cell_layer_call_fn, lstm_cell_1_layer_call_and_return_conditional_losses, lstm_cell_1_layer_call_fn, lstm_cell_layer_call_fn while saving (showing 5 of 10). These functions will not be directly callable after loading.\n",
      "WARNING:absl:Found untraced functions such as lstm_cell_layer_call_and_return_conditional_losses, lstm_cell_layer_call_fn, lstm_cell_1_layer_call_and_return_conditional_losses, lstm_cell_1_layer_call_fn, lstm_cell_layer_call_fn while saving (showing 5 of 10). These functions will not be directly callable after loading.\n"
     ]
    },
    {
     "name": "stdout",
     "output_type": "stream",
     "text": [
      "INFO:tensorflow:Assets written to: model.h1.1_may_21_model1/assets\n"
     ]
    },
    {
     "name": "stderr",
     "output_type": "stream",
     "text": [
      "INFO:tensorflow:Assets written to: model.h1.1_may_21_model1/assets\n"
     ]
    },
    {
     "name": "stdout",
     "output_type": "stream",
     "text": [
      "Epoch 14/30\n",
      "13/13 [==============================] - 1s 55ms/step - loss: 2.4628 - accuracy: 0.5649 - val_loss: 2.8892 - val_accuracy: 0.5510\n",
      "\n",
      "Epoch 00014: val_loss improved from 2.89235 to 2.88916, saving model to model.h1.1_may_21_model1\n"
     ]
    },
    {
     "name": "stderr",
     "output_type": "stream",
     "text": [
      "WARNING:absl:Found untraced functions such as lstm_cell_layer_call_and_return_conditional_losses, lstm_cell_layer_call_fn, lstm_cell_1_layer_call_and_return_conditional_losses, lstm_cell_1_layer_call_fn, lstm_cell_layer_call_fn while saving (showing 5 of 10). These functions will not be directly callable after loading.\n",
      "WARNING:absl:Found untraced functions such as lstm_cell_layer_call_and_return_conditional_losses, lstm_cell_layer_call_fn, lstm_cell_1_layer_call_and_return_conditional_losses, lstm_cell_1_layer_call_fn, lstm_cell_layer_call_fn while saving (showing 5 of 10). These functions will not be directly callable after loading.\n"
     ]
    },
    {
     "name": "stdout",
     "output_type": "stream",
     "text": [
      "INFO:tensorflow:Assets written to: model.h1.1_may_21_model1/assets\n"
     ]
    },
    {
     "name": "stderr",
     "output_type": "stream",
     "text": [
      "INFO:tensorflow:Assets written to: model.h1.1_may_21_model1/assets\n"
     ]
    },
    {
     "name": "stdout",
     "output_type": "stream",
     "text": [
      "Epoch 15/30\n",
      "13/13 [==============================] - 1s 54ms/step - loss: 2.3949 - accuracy: 0.5708 - val_loss: 2.8182 - val_accuracy: 0.5573\n",
      "\n",
      "Epoch 00015: val_loss improved from 2.88916 to 2.81822, saving model to model.h1.1_may_21_model1\n"
     ]
    },
    {
     "name": "stderr",
     "output_type": "stream",
     "text": [
      "WARNING:absl:Found untraced functions such as lstm_cell_layer_call_and_return_conditional_losses, lstm_cell_layer_call_fn, lstm_cell_1_layer_call_and_return_conditional_losses, lstm_cell_1_layer_call_fn, lstm_cell_layer_call_fn while saving (showing 5 of 10). These functions will not be directly callable after loading.\n",
      "WARNING:absl:Found untraced functions such as lstm_cell_layer_call_and_return_conditional_losses, lstm_cell_layer_call_fn, lstm_cell_1_layer_call_and_return_conditional_losses, lstm_cell_1_layer_call_fn, lstm_cell_layer_call_fn while saving (showing 5 of 10). These functions will not be directly callable after loading.\n"
     ]
    },
    {
     "name": "stdout",
     "output_type": "stream",
     "text": [
      "INFO:tensorflow:Assets written to: model.h1.1_may_21_model1/assets\n"
     ]
    },
    {
     "name": "stderr",
     "output_type": "stream",
     "text": [
      "INFO:tensorflow:Assets written to: model.h1.1_may_21_model1/assets\n"
     ]
    },
    {
     "name": "stdout",
     "output_type": "stream",
     "text": [
      "Epoch 16/30\n",
      "13/13 [==============================] - 1s 53ms/step - loss: 2.3059 - accuracy: 0.5804 - val_loss: 2.8249 - val_accuracy: 0.5589\n",
      "\n",
      "Epoch 00016: val_loss did not improve from 2.81822\n",
      "Epoch 17/30\n",
      "13/13 [==============================] - 1s 46ms/step - loss: 2.2541 - accuracy: 0.5865 - val_loss: 2.8229 - val_accuracy: 0.5601\n",
      "\n",
      "Epoch 00017: val_loss did not improve from 2.81822\n",
      "Epoch 18/30\n",
      "13/13 [==============================] - 1s 46ms/step - loss: 2.1881 - accuracy: 0.5920 - val_loss: 2.7773 - val_accuracy: 0.5635\n",
      "\n",
      "Epoch 00018: val_loss improved from 2.81822 to 2.77726, saving model to model.h1.1_may_21_model1\n"
     ]
    },
    {
     "name": "stderr",
     "output_type": "stream",
     "text": [
      "WARNING:absl:Found untraced functions such as lstm_cell_layer_call_and_return_conditional_losses, lstm_cell_layer_call_fn, lstm_cell_1_layer_call_and_return_conditional_losses, lstm_cell_1_layer_call_fn, lstm_cell_layer_call_fn while saving (showing 5 of 10). These functions will not be directly callable after loading.\n",
      "WARNING:absl:Found untraced functions such as lstm_cell_layer_call_and_return_conditional_losses, lstm_cell_layer_call_fn, lstm_cell_1_layer_call_and_return_conditional_losses, lstm_cell_1_layer_call_fn, lstm_cell_layer_call_fn while saving (showing 5 of 10). These functions will not be directly callable after loading.\n"
     ]
    },
    {
     "name": "stdout",
     "output_type": "stream",
     "text": [
      "INFO:tensorflow:Assets written to: model.h1.1_may_21_model1/assets\n"
     ]
    },
    {
     "name": "stderr",
     "output_type": "stream",
     "text": [
      "INFO:tensorflow:Assets written to: model.h1.1_may_21_model1/assets\n"
     ]
    },
    {
     "name": "stdout",
     "output_type": "stream",
     "text": [
      "Epoch 19/30\n",
      "13/13 [==============================] - 1s 55ms/step - loss: 2.1418 - accuracy: 0.5981 - val_loss: 2.7529 - val_accuracy: 0.5684\n",
      "\n",
      "Epoch 00019: val_loss improved from 2.77726 to 2.75287, saving model to model.h1.1_may_21_model1\n"
     ]
    },
    {
     "name": "stderr",
     "output_type": "stream",
     "text": [
      "WARNING:absl:Found untraced functions such as lstm_cell_layer_call_and_return_conditional_losses, lstm_cell_layer_call_fn, lstm_cell_1_layer_call_and_return_conditional_losses, lstm_cell_1_layer_call_fn, lstm_cell_layer_call_fn while saving (showing 5 of 10). These functions will not be directly callable after loading.\n",
      "WARNING:absl:Found untraced functions such as lstm_cell_layer_call_and_return_conditional_losses, lstm_cell_layer_call_fn, lstm_cell_1_layer_call_and_return_conditional_losses, lstm_cell_1_layer_call_fn, lstm_cell_layer_call_fn while saving (showing 5 of 10). These functions will not be directly callable after loading.\n"
     ]
    },
    {
     "name": "stdout",
     "output_type": "stream",
     "text": [
      "INFO:tensorflow:Assets written to: model.h1.1_may_21_model1/assets\n"
     ]
    },
    {
     "name": "stderr",
     "output_type": "stream",
     "text": [
      "INFO:tensorflow:Assets written to: model.h1.1_may_21_model1/assets\n"
     ]
    },
    {
     "name": "stdout",
     "output_type": "stream",
     "text": [
      "Epoch 20/30\n",
      "13/13 [==============================] - 1s 52ms/step - loss: 2.0674 - accuracy: 0.6038 - val_loss: 2.7258 - val_accuracy: 0.5734\n",
      "\n",
      "Epoch 00020: val_loss improved from 2.75287 to 2.72583, saving model to model.h1.1_may_21_model1\n"
     ]
    },
    {
     "name": "stderr",
     "output_type": "stream",
     "text": [
      "WARNING:absl:Found untraced functions such as lstm_cell_layer_call_and_return_conditional_losses, lstm_cell_layer_call_fn, lstm_cell_1_layer_call_and_return_conditional_losses, lstm_cell_1_layer_call_fn, lstm_cell_layer_call_fn while saving (showing 5 of 10). These functions will not be directly callable after loading.\n",
      "WARNING:absl:Found untraced functions such as lstm_cell_layer_call_and_return_conditional_losses, lstm_cell_layer_call_fn, lstm_cell_1_layer_call_and_return_conditional_losses, lstm_cell_1_layer_call_fn, lstm_cell_layer_call_fn while saving (showing 5 of 10). These functions will not be directly callable after loading.\n"
     ]
    },
    {
     "name": "stdout",
     "output_type": "stream",
     "text": [
      "INFO:tensorflow:Assets written to: model.h1.1_may_21_model1/assets\n"
     ]
    },
    {
     "name": "stderr",
     "output_type": "stream",
     "text": [
      "INFO:tensorflow:Assets written to: model.h1.1_may_21_model1/assets\n"
     ]
    },
    {
     "name": "stdout",
     "output_type": "stream",
     "text": [
      "Epoch 21/30\n",
      "13/13 [==============================] - 1s 53ms/step - loss: 2.0209 - accuracy: 0.6053 - val_loss: 2.7074 - val_accuracy: 0.5742\n",
      "\n",
      "Epoch 00021: val_loss improved from 2.72583 to 2.70741, saving model to model.h1.1_may_21_model1\n"
     ]
    },
    {
     "name": "stderr",
     "output_type": "stream",
     "text": [
      "WARNING:absl:Found untraced functions such as lstm_cell_layer_call_and_return_conditional_losses, lstm_cell_layer_call_fn, lstm_cell_1_layer_call_and_return_conditional_losses, lstm_cell_1_layer_call_fn, lstm_cell_layer_call_fn while saving (showing 5 of 10). These functions will not be directly callable after loading.\n",
      "WARNING:absl:Found untraced functions such as lstm_cell_layer_call_and_return_conditional_losses, lstm_cell_layer_call_fn, lstm_cell_1_layer_call_and_return_conditional_losses, lstm_cell_1_layer_call_fn, lstm_cell_layer_call_fn while saving (showing 5 of 10). These functions will not be directly callable after loading.\n"
     ]
    },
    {
     "name": "stdout",
     "output_type": "stream",
     "text": [
      "INFO:tensorflow:Assets written to: model.h1.1_may_21_model1/assets\n"
     ]
    },
    {
     "name": "stderr",
     "output_type": "stream",
     "text": [
      "INFO:tensorflow:Assets written to: model.h1.1_may_21_model1/assets\n"
     ]
    },
    {
     "name": "stdout",
     "output_type": "stream",
     "text": [
      "Epoch 22/30\n",
      "13/13 [==============================] - 1s 53ms/step - loss: 1.9733 - accuracy: 0.6147 - val_loss: 2.7142 - val_accuracy: 0.5719\n",
      "\n",
      "Epoch 00022: val_loss did not improve from 2.70741\n",
      "Epoch 23/30\n",
      "13/13 [==============================] - 1s 47ms/step - loss: 1.9355 - accuracy: 0.6124 - val_loss: 2.6367 - val_accuracy: 0.5845\n",
      "\n",
      "Epoch 00023: val_loss improved from 2.70741 to 2.63666, saving model to model.h1.1_may_21_model1\n"
     ]
    },
    {
     "name": "stderr",
     "output_type": "stream",
     "text": [
      "WARNING:absl:Found untraced functions such as lstm_cell_layer_call_and_return_conditional_losses, lstm_cell_layer_call_fn, lstm_cell_1_layer_call_and_return_conditional_losses, lstm_cell_1_layer_call_fn, lstm_cell_layer_call_fn while saving (showing 5 of 10). These functions will not be directly callable after loading.\n",
      "WARNING:absl:Found untraced functions such as lstm_cell_layer_call_and_return_conditional_losses, lstm_cell_layer_call_fn, lstm_cell_1_layer_call_and_return_conditional_losses, lstm_cell_1_layer_call_fn, lstm_cell_layer_call_fn while saving (showing 5 of 10). These functions will not be directly callable after loading.\n"
     ]
    },
    {
     "name": "stdout",
     "output_type": "stream",
     "text": [
      "INFO:tensorflow:Assets written to: model.h1.1_may_21_model1/assets\n"
     ]
    },
    {
     "name": "stderr",
     "output_type": "stream",
     "text": [
      "INFO:tensorflow:Assets written to: model.h1.1_may_21_model1/assets\n"
     ]
    },
    {
     "name": "stdout",
     "output_type": "stream",
     "text": [
      "Epoch 24/30\n",
      "13/13 [==============================] - 1s 55ms/step - loss: 1.8573 - accuracy: 0.6231 - val_loss: 2.6253 - val_accuracy: 0.5895\n",
      "\n",
      "Epoch 00024: val_loss improved from 2.63666 to 2.62534, saving model to model.h1.1_may_21_model1\n"
     ]
    },
    {
     "name": "stderr",
     "output_type": "stream",
     "text": [
      "WARNING:absl:Found untraced functions such as lstm_cell_layer_call_and_return_conditional_losses, lstm_cell_layer_call_fn, lstm_cell_1_layer_call_and_return_conditional_losses, lstm_cell_1_layer_call_fn, lstm_cell_layer_call_fn while saving (showing 5 of 10). These functions will not be directly callable after loading.\n",
      "WARNING:absl:Found untraced functions such as lstm_cell_layer_call_and_return_conditional_losses, lstm_cell_layer_call_fn, lstm_cell_1_layer_call_and_return_conditional_losses, lstm_cell_1_layer_call_fn, lstm_cell_layer_call_fn while saving (showing 5 of 10). These functions will not be directly callable after loading.\n"
     ]
    },
    {
     "name": "stdout",
     "output_type": "stream",
     "text": [
      "INFO:tensorflow:Assets written to: model.h1.1_may_21_model1/assets\n"
     ]
    },
    {
     "name": "stderr",
     "output_type": "stream",
     "text": [
      "INFO:tensorflow:Assets written to: model.h1.1_may_21_model1/assets\n"
     ]
    },
    {
     "name": "stdout",
     "output_type": "stream",
     "text": [
      "Epoch 25/30\n",
      "13/13 [==============================] - 1s 52ms/step - loss: 1.8015 - accuracy: 0.6334 - val_loss: 2.6230 - val_accuracy: 0.5886\n",
      "\n",
      "Epoch 00025: val_loss improved from 2.62534 to 2.62299, saving model to model.h1.1_may_21_model1\n"
     ]
    },
    {
     "name": "stderr",
     "output_type": "stream",
     "text": [
      "WARNING:absl:Found untraced functions such as lstm_cell_layer_call_and_return_conditional_losses, lstm_cell_layer_call_fn, lstm_cell_1_layer_call_and_return_conditional_losses, lstm_cell_1_layer_call_fn, lstm_cell_layer_call_fn while saving (showing 5 of 10). These functions will not be directly callable after loading.\n",
      "WARNING:absl:Found untraced functions such as lstm_cell_layer_call_and_return_conditional_losses, lstm_cell_layer_call_fn, lstm_cell_1_layer_call_and_return_conditional_losses, lstm_cell_1_layer_call_fn, lstm_cell_layer_call_fn while saving (showing 5 of 10). These functions will not be directly callable after loading.\n"
     ]
    },
    {
     "name": "stdout",
     "output_type": "stream",
     "text": [
      "INFO:tensorflow:Assets written to: model.h1.1_may_21_model1/assets\n"
     ]
    },
    {
     "name": "stderr",
     "output_type": "stream",
     "text": [
      "INFO:tensorflow:Assets written to: model.h1.1_may_21_model1/assets\n"
     ]
    },
    {
     "name": "stdout",
     "output_type": "stream",
     "text": [
      "Epoch 26/30\n",
      "13/13 [==============================] - 1s 51ms/step - loss: 1.7707 - accuracy: 0.6333 - val_loss: 2.6401 - val_accuracy: 0.5914\n",
      "\n",
      "Epoch 00026: val_loss did not improve from 2.62299\n",
      "Epoch 27/30\n",
      "13/13 [==============================] - 1s 47ms/step - loss: 1.7361 - accuracy: 0.6392 - val_loss: 2.6283 - val_accuracy: 0.5879\n",
      "\n",
      "Epoch 00027: val_loss did not improve from 2.62299\n",
      "Epoch 28/30\n",
      "13/13 [==============================] - 1s 46ms/step - loss: 1.6739 - accuracy: 0.6462 - val_loss: 2.6344 - val_accuracy: 0.5938\n",
      "\n",
      "Epoch 00028: val_loss did not improve from 2.62299\n",
      "Epoch 29/30\n",
      "13/13 [==============================] - 1s 47ms/step - loss: 1.6518 - accuracy: 0.6480 - val_loss: 2.5858 - val_accuracy: 0.6014\n",
      "\n",
      "Epoch 00029: val_loss improved from 2.62299 to 2.58576, saving model to model.h1.1_may_21_model1\n"
     ]
    },
    {
     "name": "stderr",
     "output_type": "stream",
     "text": [
      "WARNING:absl:Found untraced functions such as lstm_cell_layer_call_and_return_conditional_losses, lstm_cell_layer_call_fn, lstm_cell_1_layer_call_and_return_conditional_losses, lstm_cell_1_layer_call_fn, lstm_cell_layer_call_fn while saving (showing 5 of 10). These functions will not be directly callable after loading.\n",
      "WARNING:absl:Found untraced functions such as lstm_cell_layer_call_and_return_conditional_losses, lstm_cell_layer_call_fn, lstm_cell_1_layer_call_and_return_conditional_losses, lstm_cell_1_layer_call_fn, lstm_cell_layer_call_fn while saving (showing 5 of 10). These functions will not be directly callable after loading.\n"
     ]
    },
    {
     "name": "stdout",
     "output_type": "stream",
     "text": [
      "INFO:tensorflow:Assets written to: model.h1.1_may_21_model1/assets\n"
     ]
    },
    {
     "name": "stderr",
     "output_type": "stream",
     "text": [
      "INFO:tensorflow:Assets written to: model.h1.1_may_21_model1/assets\n"
     ]
    },
    {
     "name": "stdout",
     "output_type": "stream",
     "text": [
      "Epoch 30/30\n",
      "13/13 [==============================] - 1s 54ms/step - loss: 1.6009 - accuracy: 0.6546 - val_loss: 2.5444 - val_accuracy: 0.6075\n",
      "\n",
      "Epoch 00030: val_loss improved from 2.58576 to 2.54442, saving model to model.h1.1_may_21_model1\n"
     ]
    },
    {
     "name": "stderr",
     "output_type": "stream",
     "text": [
      "WARNING:absl:Found untraced functions such as lstm_cell_layer_call_and_return_conditional_losses, lstm_cell_layer_call_fn, lstm_cell_1_layer_call_and_return_conditional_losses, lstm_cell_1_layer_call_fn, lstm_cell_layer_call_fn while saving (showing 5 of 10). These functions will not be directly callable after loading.\n",
      "WARNING:absl:Found untraced functions such as lstm_cell_layer_call_and_return_conditional_losses, lstm_cell_layer_call_fn, lstm_cell_1_layer_call_and_return_conditional_losses, lstm_cell_1_layer_call_fn, lstm_cell_layer_call_fn while saving (showing 5 of 10). These functions will not be directly callable after loading.\n"
     ]
    },
    {
     "name": "stdout",
     "output_type": "stream",
     "text": [
      "INFO:tensorflow:Assets written to: model.h1.1_may_21_model1/assets\n"
     ]
    },
    {
     "name": "stderr",
     "output_type": "stream",
     "text": [
      "INFO:tensorflow:Assets written to: model.h1.1_may_21_model1/assets\n"
     ]
    }
   ],
   "source": [
    "#Fit the model and save it so we do not have to run this entire block \n",
    "#of code again later, because that takes far too long.\n",
    "filename_de_1 = 'model.h1.1_may_21_model1'\n",
    "checkpoint_de_1 = ModelCheckpoint(filename_de_1, monitor='val_loss', verbose=1, save_best_only=True, mode='min')\n",
    "history_de_1 = model_de_1.fit(trainGermanX, trainEnglishGermanY.reshape(trainEnglishGermanY.shape[0], trainEnglishGermanY.shape[1],1),\n",
    "                      epochs=30, batch_size=512, validation_split=0.2, callbacks=[checkpoint_de_1], verbose =1)"
   ]
  },
  {
   "cell_type": "code",
   "execution_count": null,
   "id": "NCf-mZm1pJtQ",
   "metadata": {
    "colab": {
     "base_uri": "https://localhost:8080/"
    },
    "id": "NCf-mZm1pJtQ",
    "outputId": "1e34aad8-523d-4d72-b81b-f8f18f39d60e"
   },
   "outputs": [
    {
     "name": "stderr",
     "output_type": "stream",
     "text": [
      "/usr/local/lib/python3.7/dist-packages/tensorflow/python/keras/engine/sequential.py:450: UserWarning: `model.predict_classes()` is deprecated and will be removed after 2021-01-01. Please use instead:* `np.argmax(model.predict(x), axis=-1)`,   if your model does multi-class classification   (e.g. if it uses a `softmax` last-layer activation).* `(model.predict(x) > 0.5).astype(\"int32\")`,   if your model does binary classification   (e.g. if it uses a `sigmoid` last-layer activation).\n",
      "  warnings.warn('`model.predict_classes()` is deprecated and '\n"
     ]
    }
   ],
   "source": [
    "#make predictions on the test data\n",
    "model_de_pred_1 = load_model('model.h1.1_may_21_model1')\n",
    "preds_de_1 = model_de_pred_1.predict_classes(testGermanX.reshape(testGermanX.shape[0], testGermanX.shape[1]))"
   ]
  },
  {
   "cell_type": "code",
   "execution_count": null,
   "id": "xdQh0aX-pMrk",
   "metadata": {
    "id": "xdQh0aX-pMrk"
   },
   "outputs": [],
   "source": [
    "#Define function to get a word from the tokenizer.\n",
    "def get_word(n, tokenizer):\n",
    "    for word, index in tokenizer.word_index.items():\n",
    "        if index == n:\n",
    "            return word\n",
    "    return None"
   ]
  },
  {
   "cell_type": "code",
   "execution_count": null,
   "id": "ac1fHaR1pbC2",
   "metadata": {
    "id": "ac1fHaR1pbC2"
   },
   "outputs": [],
   "source": [
    "#Convert predictions into text (English)\n",
    "preds_text_eng_de_1 = []\n",
    "for i in preds_de_1:\n",
    "    temp = []\n",
    "    for j in range(len(i)):\n",
    "        t = get_word(i[j], eng_de_tokenizer)\n",
    "        if j > 0:\n",
    "            if (t == get_word(i[j-1], eng_de_tokenizer)) or (t == None):\n",
    "                temp.append('')\n",
    "            else:\n",
    "                temp.append(t)\n",
    "        else:\n",
    "            if (t == None):\n",
    "                temp.append('')\n",
    "            else:\n",
    "                temp.append(t)\n",
    "    preds_text_eng_de_1.append(' '.join(temp))"
   ]
  },
  {
   "cell_type": "code",
   "execution_count": null,
   "id": "5Py3Hh2Upguc",
   "metadata": {
    "id": "5Py3Hh2Upguc"
   },
   "outputs": [],
   "source": [
    "#Convert the predictions into a dataframe and display the first fifteen rows.\n",
    "pred_df_de_1 = pd.DataFrame({'actual': testDeu[:,0], 'predicted': preds_text_eng_de_1})"
   ]
  },
  {
   "cell_type": "code",
   "execution_count": null,
   "id": "ahF5a6KrplWt",
   "metadata": {
    "id": "ahF5a6KrplWt"
   },
   "outputs": [],
   "source": [
    "pd.set_option('display.max_colwidth', 200)"
   ]
  },
  {
   "cell_type": "code",
   "execution_count": null,
   "id": "6Ly9tMAgpmRF",
   "metadata": {
    "colab": {
     "base_uri": "https://localhost:8080/",
     "height": 514
    },
    "id": "6Ly9tMAgpmRF",
    "outputId": "8d82c8fb-82ab-4097-8097-5f6b13df94ce"
   },
   "outputs": [
    {
     "data": {
      "text/html": [
       "<div>\n",
       "<style scoped>\n",
       "    .dataframe tbody tr th:only-of-type {\n",
       "        vertical-align: middle;\n",
       "    }\n",
       "\n",
       "    .dataframe tbody tr th {\n",
       "        vertical-align: top;\n",
       "    }\n",
       "\n",
       "    .dataframe thead th {\n",
       "        text-align: right;\n",
       "    }\n",
       "</style>\n",
       "<table border=\"1\" class=\"dataframe\">\n",
       "  <thead>\n",
       "    <tr style=\"text-align: right;\">\n",
       "      <th></th>\n",
       "      <th>actual</th>\n",
       "      <th>predicted</th>\n",
       "    </tr>\n",
       "  </thead>\n",
       "  <tbody>\n",
       "    <tr>\n",
       "      <th>0</th>\n",
       "      <td>i love garlic</td>\n",
       "      <td>i like coffee</td>\n",
       "    </tr>\n",
       "    <tr>\n",
       "      <th>1</th>\n",
       "      <td>it was on sale</td>\n",
       "      <td>he has a</td>\n",
       "    </tr>\n",
       "    <tr>\n",
       "      <th>2</th>\n",
       "      <td>who are you</td>\n",
       "      <td>we are</td>\n",
       "    </tr>\n",
       "    <tr>\n",
       "      <th>3</th>\n",
       "      <td>is it for here</td>\n",
       "      <td>keep to me</td>\n",
       "    </tr>\n",
       "    <tr>\n",
       "      <th>4</th>\n",
       "      <td>send it to me</td>\n",
       "      <td>is it to</td>\n",
       "    </tr>\n",
       "    <tr>\n",
       "      <th>5</th>\n",
       "      <td>tom is loving</td>\n",
       "      <td>tom is</td>\n",
       "    </tr>\n",
       "    <tr>\n",
       "      <th>6</th>\n",
       "      <td>i was bullied</td>\n",
       "      <td>im not</td>\n",
       "    </tr>\n",
       "    <tr>\n",
       "      <th>7</th>\n",
       "      <td>tom got hacked</td>\n",
       "      <td>tom was</td>\n",
       "    </tr>\n",
       "    <tr>\n",
       "      <th>8</th>\n",
       "      <td>tom just ate</td>\n",
       "      <td>tom was me</td>\n",
       "    </tr>\n",
       "    <tr>\n",
       "      <th>9</th>\n",
       "      <td>tom saw me</td>\n",
       "      <td>tom was it</td>\n",
       "    </tr>\n",
       "    <tr>\n",
       "      <th>10</th>\n",
       "      <td>hes not ready</td>\n",
       "      <td>hes an</td>\n",
       "    </tr>\n",
       "    <tr>\n",
       "      <th>11</th>\n",
       "      <td>tom is a slob</td>\n",
       "      <td>tom is a</td>\n",
       "    </tr>\n",
       "    <tr>\n",
       "      <th>12</th>\n",
       "      <td>come early</td>\n",
       "      <td>come back</td>\n",
       "    </tr>\n",
       "    <tr>\n",
       "      <th>13</th>\n",
       "      <td>im not happy</td>\n",
       "      <td>im not busy</td>\n",
       "    </tr>\n",
       "    <tr>\n",
       "      <th>14</th>\n",
       "      <td>this is life</td>\n",
       "      <td>thats is</td>\n",
       "    </tr>\n",
       "  </tbody>\n",
       "</table>\n",
       "</div>"
      ],
      "text/plain": [
       "            actual        predicted\n",
       "0    i love garlic  i like coffee  \n",
       "1   it was on sale       he has a  \n",
       "2      who are you        we are   \n",
       "3   is it for here     keep to me  \n",
       "4    send it to me       is it to  \n",
       "5    tom is loving        tom is   \n",
       "6    i was bullied        im not   \n",
       "7   tom got hacked       tom was   \n",
       "8     tom just ate     tom was me  \n",
       "9       tom saw me     tom was it  \n",
       "10   hes not ready        hes an   \n",
       "11   tom is a slob       tom is a  \n",
       "12      come early     come back   \n",
       "13    im not happy    im not busy  \n",
       "14    this is life      thats is   "
      ]
     },
     "execution_count": 32,
     "metadata": {
      "tags": []
     },
     "output_type": "execute_result"
    }
   ],
   "source": [
    "pred_df_de_1.head(15)"
   ]
  },
  {
   "cell_type": "markdown",
   "id": "k0hNK_D5zRGA",
   "metadata": {
    "id": "k0hNK_D5zRGA"
   },
   "source": [
    "### German Baseline Model Metrics"
   ]
  },
  {
   "cell_type": "code",
   "execution_count": null,
   "id": "pPU9jur6pmKq",
   "metadata": {
    "colab": {
     "base_uri": "https://localhost:8080/"
    },
    "id": "pPU9jur6pmKq",
    "outputId": "0af19a1a-5f09-4538-9c66-16480df92484"
   },
   "outputs": [
    {
     "name": "stderr",
     "output_type": "stream",
     "text": [
      "/usr/local/lib/python3.7/dist-packages/tensorflow/python/keras/engine/sequential.py:450: UserWarning: `model.predict_classes()` is deprecated and will be removed after 2021-01-01. Please use instead:* `np.argmax(model.predict(x), axis=-1)`,   if your model does multi-class classification   (e.g. if it uses a `softmax` last-layer activation).* `(model.predict(x) > 0.5).astype(\"int32\")`,   if your model does binary classification   (e.g. if it uses a `sigmoid` last-layer activation).\n",
      "  warnings.warn('`model.predict_classes()` is deprecated and '\n"
     ]
    },
    {
     "name": "stdout",
     "output_type": "stream",
     "text": [
      "[[  2  33 293   0   0]\n",
      " [ 10  59   6   0   0]\n",
      " [ 13  18   0   0   0]\n",
      " ...\n",
      " [ 41   3   0   0   0]\n",
      " [  2  40   3   3   0]\n",
      " [ 10   4   0   0   0]]\n",
      "[2 1 1 ... 0 1 0]\n",
      "[2 3 0 ... 0 3 1]\n",
      "Accuracy: 0.4635\n",
      "Precision: 0.4463172676770609\n",
      "Recall: 0.3179522171281914\n"
     ]
    }
   ],
   "source": [
    "#Calculate German metrics: accuracy, precision, recall\n",
    "y_pred_de_1 = model_de_1.predict_classes(testGermanX, verbose=0)\n",
    "print(y_pred_de_1)\n",
    "y_pred_de_1 = argmax(y_pred_de_1, axis=1)\n",
    "print(y_pred_de_1)\n",
    "y_test_de_1 = argmax(testEnglishGermanY, axis=1)\n",
    "print(y_test_de_1)\n",
    "\n",
    "from sklearn import metrics\n",
    "print(\"Accuracy:\",metrics.accuracy_score(y_test_de_1, y_pred_de_1))\n",
    "print(\"Precision:\",metrics.precision_score(y_test_de_1, y_pred_de_1, average = \"macro\"))\n",
    "print(\"Recall:\",metrics.recall_score(y_test_de_1, y_pred_de_1, average = \"macro\"))"
   ]
  },
  {
   "cell_type": "code",
   "execution_count": null,
   "id": "cBdHfvLwp1_A",
   "metadata": {
    "colab": {
     "base_uri": "https://localhost:8080/"
    },
    "id": "cBdHfvLwp1_A",
    "outputId": "41536eac-b397-44d5-ffbf-62ec4319f811"
   },
   "outputs": [
    {
     "name": "stdout",
     "output_type": "stream",
     "text": [
      "16/16 [==============================] - 2s 19ms/step - loss: 1.7164 - accuracy: 0.6562\n",
      "{'loss': 1.7163742780685425, 'accuracy': 0.6562250256538391}\n"
     ]
    }
   ],
   "source": [
    "#Training accuracy\n",
    "metricsModelDe1 = model_de_1.evaluate(trainGermanX, trainEnglishGermanY, batch_size=512, return_dict=True)\n",
    "print(metricsModelDe1)"
   ]
  },
  {
   "cell_type": "code",
   "execution_count": null,
   "id": "Dbu05G_5p8QC",
   "metadata": {
    "colab": {
     "base_uri": "https://localhost:8080/"
    },
    "id": "Dbu05G_5p8QC",
    "outputId": "1950fef4-5207-46c4-ac6a-8cd88e99dbba"
   },
   "outputs": [
    {
     "name": "stdout",
     "output_type": "stream",
     "text": [
      "4/4 [==============================] - 0s 16ms/step - loss: 2.5876 - accuracy: 0.6082\n",
      "Test accuracy: 60.82\n"
     ]
    }
   ],
   "source": [
    "#Test accuracy\n",
    "_, accuracy = model_de_1.evaluate(testGermanX, testEnglishGermanY, batch_size=512)\n",
    "print('Test accuracy: %.2f' % (accuracy*100))"
   ]
  },
  {
   "cell_type": "code",
   "execution_count": null,
   "id": "V9c2nwYfS235",
   "metadata": {
    "colab": {
     "base_uri": "https://localhost:8080/"
    },
    "id": "V9c2nwYfS235",
    "outputId": "c3b3046f-3ba6-41b9-b214-760746a812fe"
   },
   "outputs": [
    {
     "name": "stdout",
     "output_type": "stream",
     "text": [
      "0.448643903340572\n"
     ]
    },
    {
     "name": "stderr",
     "output_type": "stream",
     "text": [
      "/usr/local/lib/python3.7/dist-packages/nltk/translate/bleu_score.py:490: UserWarning: \n",
      "Corpus/Sentence contains 0 counts of 2-gram overlaps.\n",
      "BLEU scores might be undesirable; use SmoothingFunction().\n",
      "  warnings.warn(_msg)\n"
     ]
    }
   ],
   "source": [
    "# calculate bleu metric\n",
    "\n",
    "references_de_1 = pred_df_de_1.actual\n",
    "candidates_de_1 = pred_df_de_1.predicted\n",
    "score_de_1 = corpus_bleu(references_de_1, candidates_de_1, weights=(1,0,0,0))\n",
    "print(score_de_1)"
   ]
  },
  {
   "cell_type": "code",
   "execution_count": null,
   "id": "3cjdMCQnW6na",
   "metadata": {
    "colab": {
     "base_uri": "https://localhost:8080/"
    },
    "id": "3cjdMCQnW6na",
    "outputId": "9397d8df-57c9-42ff-d53d-5929dc6c29e3"
   },
   "outputs": [
    {
     "name": "stderr",
     "output_type": "stream",
     "text": [
      "/usr/local/lib/python3.7/dist-packages/nltk/translate/bleu_score.py:490: UserWarning: \n",
      "Corpus/Sentence contains 0 counts of 2-gram overlaps.\n",
      "BLEU scores might be undesirable; use SmoothingFunction().\n",
      "  warnings.warn(_msg)\n"
     ]
    }
   ],
   "source": [
    "#average BLEU score\n",
    "from statistics import mean\n",
    "\n",
    "def evaluate_test_model1(references, hypothesis):\n",
    "  bleuScores = []\n",
    "  for i in range(len(references)):\n",
    "    bleuScore = bleu_score.sentence_bleu(references[i], hypothesis[i], weights=(0.5, 0.5))\n",
    "    bleuScores.append(bleuScore)\n",
    "    bleuScoreMean = mean(bleuScores)\n",
    "    return bleuScoreMean\n",
    "bleuScoreMeanDeu1 = evaluate_test_model1(references_de_1, candidates_de_1)\n"
   ]
  },
  {
   "cell_type": "code",
   "execution_count": null,
   "id": "9quuM-JfXrsc",
   "metadata": {
    "colab": {
     "base_uri": "https://localhost:8080/"
    },
    "id": "9quuM-JfXrsc",
    "outputId": "244f053f-4ed5-4dfa-8a37-b940c3415155"
   },
   "outputs": [
    {
     "name": "stdout",
     "output_type": "stream",
     "text": [
      "Average BLEU score on test data for German model 1:  0.6324555320336759\n"
     ]
    }
   ],
   "source": [
    "print(\"Average BLEU score on test data for German model 1: \", bleuScoreMeanDeu1)"
   ]
  },
  {
   "cell_type": "code",
   "execution_count": null,
   "id": "m9c027dn_X5f",
   "metadata": {
    "colab": {
     "base_uri": "https://localhost:8080/"
    },
    "id": "m9c027dn_X5f",
    "outputId": "122d71ca-c9b7-4164-9391-b53fd502d0d0"
   },
   "outputs": [
    {
     "name": "stdout",
     "output_type": "stream",
     "text": [
      "{'rouge-1': {'f': 0.3543904727903922, 'p': 0.40383333333333354, 'r': 0.3248333333333337}, 'rouge-2': {'f': 0.09814999923764693, 'p': 0.12833333333333335, 'r': 0.08308333333333333}, 'rouge-l': {'f': 0.3542285680297718, 'p': 0.40425000000000016, 'r': 0.32433333333333364}}\n"
     ]
    }
   ],
   "source": [
    "#Get ROUGE scores.\n",
    "rouge = Rouge()\n",
    "scores_de_1 = rouge.get_scores(candidates_de_1, references_de_1, avg = True)\n",
    "print(scores_de_1)"
   ]
  },
  {
   "cell_type": "markdown",
   "id": "7m3ymsICzNZD",
   "metadata": {
    "id": "7m3ymsICzNZD"
   },
   "source": [
    "## German Final Model"
   ]
  },
  {
   "cell_type": "code",
   "execution_count": null,
   "id": "_EZE9h9qTMZi",
   "metadata": {
    "id": "_EZE9h9qTMZi"
   },
   "outputs": [],
   "source": [
    "#Model 2: An attempt at an encoder-decoder model. uses average BLEU as metric.\n",
    "#Source: https://medium.com/analytics-vidhya/seq2seq-models-french-to-english-translation-using-encoder-decoder-model-with-attention-9c05b2c09af8\n",
    "import unicodedata\n",
    "import io\n",
    "from tqdm import tqdm\n",
    "from numpy.random import shuffle\n",
    "def unicode_to_ascii(s) :\n",
    "  \"\"\"\n",
    "  Unicode to ascii conversion\n",
    "  \"\"\"\n",
    "  return ''.join(c for c in unicodedata.normalize('NFD', s) if unicodedata.category(c) != 'Mn')\n",
    "def cleanString(incomingString):\n",
    "  \"\"\"\n",
    "  Function to clean unwanted symbol from text\n",
    "  \"\"\"\n",
    "  newstring = incomingString\n",
    "  newstring = newstring.replace(\"!\",\"\")\n",
    "  newstring = newstring.replace(\"@\",\"\")\n",
    "  newstring = newstring.replace(\"#\",\"\")\n",
    "  newstring = newstring.replace(\"$\",\"\")\n",
    "  newstring = newstring.replace(\"%\",\"\")\n",
    "  newstring = newstring.replace(\"^\",\"\")\n",
    "  newstring = newstring.replace(\"&\",\"and\")\n",
    "  newstring = newstring.replace(\"*\",\"\")\n",
    "  newstring = newstring.replace(\"(\",\"\")\n",
    "  newstring = newstring.replace(\")\",\"\")\n",
    "  newstring = newstring.replace(\"+\",\"\")\n",
    "  newstring = newstring.replace(\"=\",\"\")\n",
    "  newstring = newstring.replace(\"?\",\"\")\n",
    "  newstring = newstring.replace(\"\\'\",\"\")\n",
    "  newstring = newstring.replace(\"\\\"\",\"\")\n",
    "  newstring = newstring.replace(\"{\",\"\")\n",
    "  newstring = newstring.replace(\"}\",\"\")\n",
    "  newstring = newstring.replace(\"[\",\"\")\n",
    "  newstring = newstring.replace(\"]\",\"\")\n",
    "  newstring = newstring.replace(\"<\",\"\")\n",
    "  newstring = newstring.replace(\">\",\"\")\n",
    "  newstring = newstring.replace(\"~\",\"\")\n",
    "  newstring = newstring.replace(\"`\",\"\")\n",
    "  newstring = newstring.replace(\":\",\"\")\n",
    "  newstring = newstring.replace(\";\",\"\")\n",
    "  newstring = newstring.replace(\"|\",\"\")\n",
    "  newstring = newstring.replace(\"\\\\\",\"\")\n",
    "  newstring = newstring.replace(\"/\",\"\")     \n",
    "  return ' '.join(newstring.split())\n",
    "def preprocess_string(data) :\n",
    "  \"\"\"\n",
    "  This function calls other\n",
    "  preprocessing function for\n",
    "  cleaning data\n",
    "  \"\"\"\n",
    "  data = unicode_to_ascii(data)\n",
    "  \n",
    "  #Remove unwanted symbols\n",
    "  data = cleanString(data)\n",
    "  return data\n",
    "\n",
    "lines_de = io.open(german_path, encoding = 'UTF-8').read().split('\\n')\n",
    "\n"
   ]
  },
  {
   "cell_type": "code",
   "execution_count": null,
   "id": "i4CIeK4Yvxc4",
   "metadata": {
    "colab": {
     "base_uri": "https://localhost:8080/"
    },
    "id": "i4CIeK4Yvxc4",
    "outputId": "b42c7bb0-a13a-43f9-868f-6dd21c3d00fc"
   },
   "outputs": [
    {
     "name": "stderr",
     "output_type": "stream",
     "text": [
      "100%|██████████| 227081/227081 [00:06<00:00, 33956.57it/s]"
     ]
    },
    {
     "name": "stdout",
     "output_type": "stream",
     "text": [
      "['<start> Geh. <end>', '<start> Hallo <end>', '<start> Gruß Gott <end>', '<start> Lauf <end>', '<start> Lauf <end>', '<start> Potzdonner <end>', '<start> Donnerwetter <end>', '<start> Feuer <end>', '<start> Hilfe <end>', '<start> Zu Hulf <end>']\n"
     ]
    },
    {
     "name": "stderr",
     "output_type": "stream",
     "text": [
      "\n"
     ]
    }
   ],
   "source": [
    "def get_data(raw_lines) :\n",
    "  lang_a = []\n",
    "  english = []\n",
    "  for itr in tqdm(range(len(raw_lines))) :\n",
    "    if len(raw_lines[itr].split()) > 2 :\n",
    "      eng, langa, _ = raw_lines[itr].split('\\t')\n",
    "      english.append('<start> ' + preprocess_string(eng) + ' <end>')\n",
    "      lang_a.append('<start> ' + preprocess_string(langa) + ' <end>')\n",
    "  return lang_a, english\n",
    "  \n",
    "#Get data\n",
    "german, english = get_data(lines_de)\n",
    "#get manageable sample\n",
    "german = german[:10000:]\n",
    "#get manageable sample\n",
    "english = english[:10000:]\n",
    "print(german[0:10])"
   ]
  },
  {
   "cell_type": "code",
   "execution_count": null,
   "id": "0QAGUM_kv9sK",
   "metadata": {
    "id": "0QAGUM_kv9sK"
   },
   "outputs": [],
   "source": [
    "#Define the train-test split\n",
    "deu_tr, deu_te, eng_tr, eng_te = train_test_split(german, english, test_size = 0.2, random_state = 42)"
   ]
  },
  {
   "cell_type": "code",
   "execution_count": null,
   "id": "jwKkGGK6wH7G",
   "metadata": {
    "id": "jwKkGGK6wH7G"
   },
   "outputs": [],
   "source": [
    "#Tokenizing, padding input language\n",
    "deu_token = Tokenizer(filters = '', lower=False)\n",
    "deu_token.fit_on_texts(deu_tr)\n",
    "deu_tokenized = deu_token.texts_to_sequences(deu_tr)\n",
    "deu_padded = pad_sequences(deu_tokenized, padding='post')"
   ]
  },
  {
   "cell_type": "code",
   "execution_count": null,
   "id": "C0zFbak2wnKV",
   "metadata": {
    "id": "C0zFbak2wnKV"
   },
   "outputs": [],
   "source": [
    "#tokenizing and padding target language\n",
    "eng_token = Tokenizer(filters = '', lower = False)\n",
    "eng_token.fit_on_texts(eng_tr)\n",
    "eng_tokenized = eng_token.texts_to_sequences(eng_tr)\n",
    "eng_padded = pad_sequences(eng_tokenized, padding='post')"
   ]
  },
  {
   "cell_type": "code",
   "execution_count": null,
   "id": "7L-GdaoWw9uo",
   "metadata": {
    "id": "7L-GdaoWw9uo"
   },
   "outputs": [],
   "source": [
    "#find the vocabulary size and maximum sentence length\n",
    "num_ip_tokens = len(deu_token.word_index) #German\n",
    "num_op_tokens = len(eng_token.word_index) #English\n",
    "max_len_ip = deu_padded.shape[1] #German\n",
    "max_len_op = eng_padded.shape[1] #English\n"
   ]
  },
  {
   "cell_type": "code",
   "execution_count": null,
   "id": "klZ9T5QsxN_F",
   "metadata": {
    "id": "klZ9T5QsxN_F"
   },
   "outputs": [],
   "source": [
    "#Define constants and create a tf.data dataset of language data.\n",
    "import tensorflow as tf\n",
    "\n",
    "BUFFER_SIZE = len(deu_padded)\n",
    "BATCH_SIZE = 64\n",
    "N_BATCH = BUFFER_SIZE // BATCH_SIZE\n",
    "embedding_dim = 256\n",
    "units = 512\n",
    "\n",
    "dataset_de = tf.data.Dataset.from_tensor_slices((deu_padded, eng_padded)).shuffle(BUFFER_SIZE)\n",
    "dataset_de = dataset_de.batch(BATCH_SIZE, drop_remainder=True)"
   ]
  },
  {
   "cell_type": "code",
   "execution_count": null,
   "id": "LTAEi3Wm3zgE",
   "metadata": {
    "colab": {
     "base_uri": "https://localhost:8080/"
    },
    "id": "LTAEi3Wm3zgE",
    "outputId": "580b257b-4b46-4543-8752-ab632f9f763e"
   },
   "outputs": [
    {
     "name": "stdout",
     "output_type": "stream",
     "text": [
      "WARNING:tensorflow:From <ipython-input-47-97fd0bcc5858>:6: is_gpu_available (from tensorflow.python.framework.test_util) is deprecated and will be removed in a future version.\n",
      "Instructions for updating:\n",
      "Use `tf.config.list_physical_devices('GPU')` instead.\n"
     ]
    },
    {
     "name": "stderr",
     "output_type": "stream",
     "text": [
      "WARNING:tensorflow:From <ipython-input-47-97fd0bcc5858>:6: is_gpu_available (from tensorflow.python.framework.test_util) is deprecated and will be removed in a future version.\n",
      "Instructions for updating:\n",
      "Use `tf.config.list_physical_devices('GPU')` instead.\n"
     ]
    }
   ],
   "source": [
    "\n",
    "#This function will return CuDNNGRU if GPU is available for faster execution\n",
    "def gru(units):\n",
    "    # If you have a GPU, i recommend using CuDNNGRU(provides a 3x speedup than GRU)\n",
    "    # the code automatically does that.\n",
    "    if tf.test.is_gpu_available():\n",
    "        return tf.compat.v1.keras.layers.CuDNNGRU(units, \n",
    "                                    return_sequences=True, \n",
    "                                    return_state=True, \n",
    "                                    recurrent_initializer='glorot_uniform')\n",
    "    else:\n",
    "        return tf.keras.layers.GRU(units,\n",
    "                                  return_sequences=True,\n",
    "                                  return_state=True,\n",
    "                                  recurrent_initializer='glorot_uniform',\n",
    "                                  recurrent_activation='sigmoid')\n",
    "     \n",
    "#Encoder architecture :\n",
    "class Encoder(tf.keras.Model):\n",
    "    def __init__(self, vocab_size, embedding_dim, enc_units, batch_sz):\n",
    "        super(Encoder, self).__init__()\n",
    "        self.batch_sz = batch_sz\n",
    "        self.enc_units = enc_units\n",
    "        self.embedding = tf.keras.layers.Embedding(vocab_size, embedding_dim)\n",
    "        self.gru = gru(self.enc_units)\n",
    "    def call(self, x, hidden):\n",
    "        x = self.embedding(x)\n",
    "        output, state = self.gru(x, initial_state = hidden)\n",
    "        return output, state\n",
    "    def initial_hidden_state(self):\n",
    "        #Generating encoder initial states as all zeros\n",
    "        return tf.zeros((self.batch_sz, self.enc_units))\n",
    "   \n",
    "#Decoder with attention\n",
    "class Decoder(tf.keras.Model):\n",
    "    def __init__(self, vocab_size, embedding_dim, dec_units, batch_sz):\n",
    "        super(Decoder, self).__init__()\n",
    "        self.batch_sz = batch_sz\n",
    "        self.dec_units = dec_units\n",
    "        self.embedding = tf.keras.layers.Embedding(vocab_size, embedding_dim)\n",
    "        self.gru = gru(self.dec_units)\n",
    "        self.fc = tf.keras.layers.Dense(vocab_size)\n",
    "        \n",
    "        # used for attention\n",
    "        self.W1 = tf.keras.layers.Dense(self.dec_units)\n",
    "        self.W2 = tf.keras.layers.Dense(self.dec_units)\n",
    "        self.V = tf.keras.layers.Dense(1)\n",
    "    \n",
    "    def call(self, x, hidden, enc_output):\n",
    "        # enc_output shape == (batch_size, max_length, hidden_size)\n",
    "        # hidden shape == (batch_size, hidden size)\n",
    "        # hidden_with_time_axis shape == (batch_size, 1, hidden size)\n",
    "        # we are doing this to perform addition to calculate the score\n",
    "        hidden_with_time_axis = tf.expand_dims(hidden, 1)\n",
    "        # score shape == (batch_size, max_length, 1)\n",
    "        # we get 1 at the last axis because we are applying tanh(FC(EO) + FC(H)) to self.V\n",
    "        #Getting scores\n",
    "        score = self.V(tf.nn.tanh(self.W1(enc_output)+self.W2(hidden_with_time_axis)))\n",
    "        # attention_weights shape == (batch_size, max_length, 1)\n",
    "        #Attention weights from softmax\n",
    "        attention_weights = tf.nn.softmax(score, axis=1)\n",
    "        # context_vector shape after sum == (batch_size, hidden_size)\n",
    "        #getting context vector\n",
    "        context_vector = attention_weights*enc_output\n",
    "        context_vector = tf.reduce_sum(context_vector, axis=1)\n",
    "        # x shape after passing through embedding == (batch_size, 1, embedding_dim)\n",
    "        x = self.embedding(x)\n",
    "        # x shape after concatenation == (batch_size, 1, embedding_dim + hidden_size)\n",
    "        #Concatenating previous op with cv\n",
    "        x = tf.concat([tf.expand_dims(context_vector, 1), x], axis=-1)\n",
    "        # passing the concatenated vector to the GRU\n",
    "        output, state = self.gru(x)\n",
    "        # output shape == (batch_size * 1, hidden_size)\n",
    "        output = tf.reshape(output, (-1, output.shape[2]))\n",
    "        # output shape == (batch_size * 1, vocab)\n",
    "        x = self.fc(output)\n",
    "        return x, state, attention_weights\n",
    "    \n",
    "    def initialize_hidden_state(self):\n",
    "        return tf.zeros(self.batch_sz, self.dec_units)\n",
    "#Define an encoder and decoder.  \n",
    "encoder = Encoder(num_ip_tokens + 1, embedding_dim, units, BATCH_SIZE)\n",
    "decoder = Decoder(num_op_tokens + 1, embedding_dim, units, BATCH_SIZE)"
   ]
  },
  {
   "cell_type": "code",
   "execution_count": null,
   "id": "wG4YtaJH7Prh",
   "metadata": {
    "id": "wG4YtaJH7Prh"
   },
   "outputs": [],
   "source": [
    "#Define an optimizer.\n",
    "optimizer_de = tf.keras.optimizers.Adam()\n",
    "#Define a loss function.\n",
    "def loss_function_de(real, pred):\n",
    "  mask = 1 - np.equal(real, 0)\n",
    "  loss_ = tf.nn.sparse_softmax_cross_entropy_with_logits(labels = real, logits = pred)*mask\n",
    "  return tf.reduce_mean(loss_)\n",
    "#Define the checkpoint used to save\n",
    "import os\n",
    "from tensorflow.train import Checkpoint\n",
    "checkpoint_dir_de = '/content/drive/MyDrive/GermanToEnglish/CheckPoint'\n",
    "checkpoint_prefix_de = os.path.join(checkpoint_dir_de, 'ckpt')\n",
    "checkpoint_de = Checkpoint(optimizer=optimizer_de, encoder=encoder, decoder=decoder)"
   ]
  },
  {
   "cell_type": "code",
   "execution_count": null,
   "id": "BjHSjAP58GU2",
   "metadata": {
    "colab": {
     "base_uri": "https://localhost:8080/"
    },
    "id": "BjHSjAP58GU2",
    "outputId": "d5797cfe-17d0-4794-f34b-9bb873cffe6f"
   },
   "outputs": [
    {
     "name": "stdout",
     "output_type": "stream",
     "text": [
      "Epoch 1 Batch 0 Loss 4.2699\n",
      "Epoch 1 Loss 2.7049\n",
      "Time taken for 1 epoch 0.29 minutes\n",
      "\n",
      "Epoch 2 Batch 0 Loss 2.2097\n",
      "Epoch 2 Loss 2.0931\n",
      "Time taken for 1 epoch 0.29 minutes\n",
      "\n",
      "Epoch 3 Batch 0 Loss 1.9003\n",
      "Epoch 3 Loss 1.8130\n",
      "Time taken for 1 epoch 0.29 minutes\n",
      "\n",
      "Epoch 4 Batch 0 Loss 1.6486\n",
      "Epoch 4 Loss 1.5731\n",
      "Time taken for 1 epoch 0.29 minutes\n",
      "\n",
      "Epoch 5 Batch 0 Loss 1.5141\n",
      "Epoch 5 Loss 1.3524\n",
      "Time taken for 1 epoch 0.29 minutes\n",
      "\n",
      "Epoch 6 Batch 0 Loss 1.2033\n",
      "Epoch 6 Loss 1.1538\n",
      "Time taken for 1 epoch 0.29 minutes\n",
      "\n",
      "Epoch 7 Batch 0 Loss 0.9708\n",
      "Epoch 7 Loss 0.9827\n",
      "Time taken for 1 epoch 0.29 minutes\n",
      "\n",
      "Epoch 8 Batch 0 Loss 0.7792\n",
      "Epoch 8 Loss 0.8275\n",
      "Time taken for 1 epoch 0.29 minutes\n",
      "\n",
      "Epoch 9 Batch 0 Loss 0.6931\n",
      "Epoch 9 Loss 0.6931\n",
      "Time taken for 1 epoch 0.29 minutes\n",
      "\n",
      "Epoch 10 Batch 0 Loss 0.5774\n",
      "Epoch 10 Loss 0.5723\n",
      "Time taken for 1 epoch 0.29 minutes\n",
      "\n",
      "Epoch 11 Batch 0 Loss 0.4010\n",
      "Epoch 11 Loss 0.4718\n",
      "Time taken for 1 epoch 0.28 minutes\n",
      "\n",
      "Epoch 12 Batch 0 Loss 0.3571\n",
      "Epoch 12 Loss 0.3862\n",
      "Time taken for 1 epoch 0.29 minutes\n",
      "\n",
      "Epoch 13 Batch 0 Loss 0.2336\n",
      "Epoch 13 Loss 0.3124\n",
      "Time taken for 1 epoch 0.28 minutes\n",
      "\n",
      "Epoch 14 Batch 0 Loss 0.2583\n",
      "Epoch 14 Loss 0.2549\n",
      "Time taken for 1 epoch 0.29 minutes\n",
      "\n",
      "Epoch 15 Batch 0 Loss 0.1547\n",
      "Epoch 15 Loss 0.2093\n",
      "Time taken for 1 epoch 0.28 minutes\n",
      "\n",
      "Epoch 16 Batch 0 Loss 0.1371\n",
      "Epoch 16 Loss 0.1752\n",
      "Time taken for 1 epoch 0.29 minutes\n",
      "\n",
      "Epoch 17 Batch 0 Loss 0.1355\n",
      "Epoch 17 Loss 0.1464\n",
      "Time taken for 1 epoch 0.29 minutes\n",
      "\n",
      "Epoch 18 Batch 0 Loss 0.1252\n",
      "Epoch 18 Loss 0.1268\n",
      "Time taken for 1 epoch 0.29 minutes\n",
      "\n",
      "Epoch 19 Batch 0 Loss 0.1071\n",
      "Epoch 19 Loss 0.1127\n",
      "Time taken for 1 epoch 0.29 minutes\n",
      "\n",
      "Epoch 20 Batch 0 Loss 0.0819\n",
      "Epoch 20 Loss 0.1005\n",
      "Time taken for 1 epoch 0.29 minutes\n",
      "\n"
     ]
    }
   ],
   "source": [
    "#train model\n",
    "import numpy as np\n",
    "import time\n",
    "EPOCH = 20\n",
    "for epoch in range(EPOCH) :\n",
    "  start = time.time()\n",
    "  #Getting initial encoder states (all zeros)\n",
    "  hidden = encoder.initial_hidden_state()\n",
    "  total_loss = 0\n",
    "  for (batch, (inp, targ)) in enumerate(dataset_de) :\n",
    "    loss = 0\n",
    "    with tf.GradientTape() as tape :\n",
    "      enc_output , enc_hidden = encoder(inp, hidden)\n",
    "      #Setting final encoder states as initial decoder states\n",
    "      dec_hidden = enc_hidden\n",
    "      # Teacher forcing - feeding the target as the next input\n",
    "      #Passing '<start>' token as initial token\n",
    "      dec_input = tf.expand_dims([eng_token.word_index['<start>']]*BATCH_SIZE, 1)\n",
    "      for t in range(1, targ.shape[1]) :\n",
    "        # passing enc_output to the decoder\n",
    "        predictions, dec_hidden, _ = decoder(dec_input, dec_hidden, enc_output)\n",
    "        loss += loss_function_de(targ[:,t], predictions)\n",
    "        # using teacher forcing\n",
    "        dec_input = tf.expand_dims(targ[:,t], 1)\n",
    "    batch_loss = (loss / int(targ.shape[1]))\n",
    "    total_loss += batch_loss        \n",
    "    variables = encoder.variables + decoder.variables\n",
    "    gradients = tape.gradient(loss, variables)\n",
    "    optimizer_de.apply_gradients(zip(gradients, variables))\n",
    "    if batch % 1000 == 0 :\n",
    "      print('Epoch {} Batch {} Loss {:.4f}'.format(epoch + 1, batch, batch_loss.numpy()))\n",
    "    # saving (checkpoint)  the model every 2 epochs\n",
    "  if (epoch + 1)%2 == 0 :\n",
    "    checkpoint_de.save(file_prefix=checkpoint_prefix_de)\n",
    "  print('Epoch {} Loss {:.4f}'.format(epoch + 1, total_loss / N_BATCH))\n",
    "  print('Time taken for 1 epoch {0:0.2f} minutes\\n'.format((time.time() - start)/60))"
   ]
  },
  {
   "cell_type": "markdown",
   "id": "frFBrSFOzZKi",
   "metadata": {
    "id": "frFBrSFOzZKi"
   },
   "source": [
    "### German Final Model Metrics"
   ]
  },
  {
   "cell_type": "code",
   "execution_count": null,
   "id": "MbmmNBCzTP5m",
   "metadata": {
    "id": "MbmmNBCzTP5m"
   },
   "outputs": [],
   "source": [
    "#Evaluate model\n",
    "def evaluate(sentence, encoder, decoder, inp_lang, targ_lang, max_length_inp, max_length_targ):\n",
    "    #attention_plot = np.zeros((max_length_targ, max_length_inp))\n",
    "    \n",
    "    sentence = preprocess_string(sentence)\n",
    "    inputs = []\n",
    "    for w in sentence.split(' ') :\n",
    "      if w in inp_lang.word_index.keys() :\n",
    "        inputs.append(inp_lang.word_index[w])\n",
    "    \n",
    "    #inputs = [inp_lang.word_index[i] for i in sentence.split(' ')]\n",
    "    inputs = tf.keras.preprocessing.sequence.pad_sequences([inputs], maxlen=max_length_inp, padding='post')\n",
    "    inputs = tf.convert_to_tensor(inputs)\n",
    "    \n",
    "    result = ''\n",
    "    \n",
    "    hidden = [tf.zeros((1,units))]\n",
    "    enc_out, enc_hidden = encoder(inputs, hidden)\n",
    "\n",
    "    dec_hidden = enc_hidden\n",
    "    dec_input = tf.expand_dims([targ_lang.word_index['<start>']], 0)\n",
    "    \n",
    "    for t in range(max_length_targ):\n",
    "        predictions, dec_hidden, attention_weights = decoder(dec_input, dec_hidden, enc_out)\n",
    "        \n",
    "        # storing the attention weigths to plot later on\n",
    "        #attention_weights = tf.reshape(attention_weights, (-1, ))\n",
    "        #attention_plot[t] = attention_weights.numpy()\n",
    "\n",
    "        predicted_id = tf.argmax(predictions[0]).numpy()\n",
    "\n",
    "        result += targ_lang.index_word[predicted_id] + ' '\n",
    "\n",
    "        if targ_lang.index_word[predicted_id] == '<end>':\n",
    "            return result, sentence\n",
    "        \n",
    "        # the predicted ID is fed back into the model\n",
    "        dec_input = tf.expand_dims([predicted_id], 0)\n",
    "\n",
    "    return result, sentence\n",
    "  \n",
    "\n",
    "\n",
    "    \n",
    "def translate(sentence, eng_sen, encoder, decoder, inp_lang, targ_lang, max_length_inp, max_length_targ):\n",
    "    result, sentence = evaluate(sentence, encoder, decoder, inp_lang, targ_lang, max_length_inp, max_length_targ)\n",
    "    #print('Input: {}'.format(sentence))\n",
    "    #print('Actual translation: {}'.format(eng_sen))\n",
    "    #print('Predicted translation: {}'.format(result[:-7]))\n",
    "    bleu = bleu_score.sentence_bleu(eng_sen, result[:-7], weights=(0.5, 0.5))\n",
    "    #print(\"BLEU Score : {0:0.2f}\".format(bleu_score.sentence_bleu(eng_sen, result[:-7], weights=(0.5, 0.5))))\n",
    "    return bleu, result[:-7]\n",
    "    #attention_plot = attention_plot[:len(result.split(' ')), :len(sentence.split(' '))]\n",
    "    #plot_attention(attention_plot, sentence.split(' '), result.split(' '))\n",
    "    #plt.show()"
   ]
  },
  {
   "cell_type": "code",
   "execution_count": null,
   "id": "Z1tt_lrYTmV4",
   "metadata": {
    "id": "Z1tt_lrYTmV4"
   },
   "outputs": [],
   "source": [
    "#define function for average BLEU score\n",
    "from statistics import mean\n",
    "def evaluate_test_model2(testDataX, testDataY, encoder, decoder, inp_lang, targ_lang, max_length_inp, max_length_targ):\n",
    "  bleuScores = []\n",
    "  references = []\n",
    "  hypotheses = []\n",
    "  for i in range(len(testDataX)):\n",
    "    bleuScore, hypothesis = translate(testDataX[i], testDataY[i], encoder, decoder, inp_lang, targ_lang, max_length_inp, max_length_targ)\n",
    "    bleuScores.append(bleuScore)\n",
    "    references.append(testDataY[i])\n",
    "    hypotheses.append(hypothesis)\n",
    "  bleuScoreMean = mean(bleuScores)\n",
    "  return bleuScoreMean, references, hypotheses\n"
   ]
  },
  {
   "cell_type": "code",
   "execution_count": null,
   "id": "tG2GQOUnVTdX",
   "metadata": {
    "colab": {
     "base_uri": "https://localhost:8080/"
    },
    "id": "tG2GQOUnVTdX",
    "outputId": "75076560-777b-4c50-bfdc-d13a387c1135"
   },
   "outputs": [
    {
     "name": "stderr",
     "output_type": "stream",
     "text": [
      "/usr/local/lib/python3.7/dist-packages/nltk/translate/bleu_score.py:490: UserWarning: \n",
      "Corpus/Sentence contains 0 counts of 2-gram overlaps.\n",
      "BLEU scores might be undesirable; use SmoothingFunction().\n",
      "  warnings.warn(_msg)\n"
     ]
    }
   ],
   "source": [
    "#get average BLEU score\n",
    "bleuScoreMeanDeu, referencesDe2, hypothesesDe2 = evaluate_test_model2(deu_te, eng_te, encoder, decoder, deu_token, eng_token, max_len_ip, max_len_op)"
   ]
  },
  {
   "cell_type": "code",
   "execution_count": null,
   "id": "xCBNCW7SWgXZ",
   "metadata": {
    "colab": {
     "base_uri": "https://localhost:8080/"
    },
    "id": "xCBNCW7SWgXZ",
    "outputId": "8c3acee2-e1a3-4998-b71c-426f499abce2"
   },
   "outputs": [
    {
     "name": "stdout",
     "output_type": "stream",
     "text": [
      "Average BLEU score on test data for German model 2:  0.766439849896392\n"
     ]
    }
   ],
   "source": [
    "print(\"Average BLEU score on test data for German model 2: \", bleuScoreMeanDeu)"
   ]
  },
  {
   "cell_type": "code",
   "execution_count": null,
   "id": "4yEpsFiTWEjt",
   "metadata": {
    "id": "4yEpsFiTWEjt"
   },
   "outputs": [],
   "source": [
    "# Filter out hyps of 0 length\n",
    "hyps_and_refs = zip(hypothesesDe2, referencesDe2)\n",
    "hyps_and_refs = [ _ for _ in hyps_and_refs if len(_[0]) > 0]\n",
    "hypothesesDe2, referencesDe2 = zip(*hyps_and_refs)"
   ]
  },
  {
   "cell_type": "code",
   "execution_count": null,
   "id": "HjsTIcqoEHVR",
   "metadata": {
    "colab": {
     "base_uri": "https://localhost:8080/"
    },
    "id": "HjsTIcqoEHVR",
    "outputId": "b692bdf0-1cf2-4982-922a-733f8145be64"
   },
   "outputs": [
    {
     "name": "stdout",
     "output_type": "stream",
     "text": [
      "{'rouge-1': {'f': 0.1786756551527325, 'p': 0.25935672514619856, 'r': 0.1399916457811185}, 'rouge-2': {'f': 0.05328917470467728, 'p': 0.08120300751879697, 'r': 0.04034252297410197}, 'rouge-l': {'f': 0.17931574745787113, 'p': 0.2628654970760231, 'r': 0.13982456140350782}}\n"
     ]
    }
   ],
   "source": [
    "#Get ROUGE scores.\n",
    "rouge = Rouge()\n",
    "scores_de_2 = rouge.get_scores(hypothesesDe2, referencesDe2, avg = True)\n",
    "print(scores_de_2)"
   ]
  },
  {
   "cell_type": "markdown",
   "id": "7LeN41YDDfaI",
   "metadata": {
    "id": "7LeN41YDDfaI"
   },
   "source": [
    "# Italian Models"
   ]
  },
  {
   "cell_type": "markdown",
   "id": "xCdnMCsWzb0h",
   "metadata": {
    "id": "xCdnMCsWzb0h"
   },
   "source": [
    "## Italian Preprocessing"
   ]
  },
  {
   "cell_type": "code",
   "execution_count": null,
   "id": "ZH0jNon40AYw",
   "metadata": {
    "id": "ZH0jNon40AYw"
   },
   "outputs": [],
   "source": [
    "#Make sure this file is uploaded to your Google Drive in the same \n",
    "#folder as this notebook.\n",
    "italian_path = '/content/gdrive/MyDrive/ita_short.txt'"
   ]
  },
  {
   "cell_type": "code",
   "execution_count": null,
   "id": "8x13R7lW0KYb",
   "metadata": {
    "id": "8x13R7lW0KYb"
   },
   "outputs": [],
   "source": [
    "#load Italian data\n",
    "data = read_text(italian_path)\n",
    "ita_eng = to_lines(data)\n",
    "ita_eng = array(ita_eng)"
   ]
  },
  {
   "cell_type": "code",
   "execution_count": null,
   "id": "IhGUcskV0S1F",
   "metadata": {
    "id": "IhGUcskV0S1F"
   },
   "outputs": [],
   "source": [
    "#get manageable sample\n",
    "ita_eng = ita_eng[:10000,:]"
   ]
  },
  {
   "cell_type": "code",
   "execution_count": null,
   "id": "Bx3S0O3P0cby",
   "metadata": {
    "id": "Bx3S0O3P0cby"
   },
   "outputs": [],
   "source": [
    "#Remove punctuation\n",
    "ita_eng[:,0] = [s.translate(str.maketrans('','', string.punctuation)) for s in ita_eng[:,0]]\n",
    "ita_eng[:,1] = [s.translate(str.maketrans('','', string.punctuation)) for s in ita_eng[:,1]]"
   ]
  },
  {
   "cell_type": "code",
   "execution_count": null,
   "id": "62c_CEux0hL2",
   "metadata": {
    "id": "62c_CEux0hL2"
   },
   "outputs": [],
   "source": [
    "#Convert to lowercase.\n",
    "for i in range(len(ita_eng)):\n",
    "    ita_eng[i,0]=ita_eng[i,0].lower()\n",
    "    ita_eng[i,1]=ita_eng[i,1].lower()"
   ]
  },
  {
   "cell_type": "code",
   "execution_count": null,
   "id": "cuYhYfLHdDe9",
   "metadata": {
    "colab": {
     "base_uri": "https://localhost:8080/"
    },
    "id": "cuYhYfLHdDe9",
    "outputId": "c1cd433d-e40e-4083-cd5f-9706b5b9c5cf"
   },
   "outputs": [
    {
     "name": "stdout",
     "output_type": "stream",
     "text": [
      "24736 English words/tokens in English-Italian corpus, sample\n",
      "1415 unique English words/tokens in English-Italian corpus, sample\n",
      "10 most common English word in the English-Italian sample corpus, stop words included:\n",
      "\"\"i\" \"im\" \"tom\" \"it\" \"you\" \"is\" \"a\" \"me\" \"was\" \"we\"\n",
      "26023 Italian words/tokens in English-Italian sample corpus\n",
      "3665 unique Italian words/tokens in English-Italian sample corpus\n",
      "10 most common Italian words in the English-Italian sample corpus, stop words included:\n",
      "\"sono\" \"io\" \"è\" \"tom\" \"mi\" \"a\" \"ho\" \"non\" \"la\" \"di\"\n"
     ]
    }
   ],
   "source": [
    "#Analyze vocabulary of Italian dataset.\n",
    "italian_words_counter = collections.Counter([word for sentence in ita_eng[:,1] for word in sentence.split()])\n",
    "english_words_counter_ita = collections.Counter([word for sentence in ita_eng[:,0] for word in sentence.split()])\n",
    "print('{} English words/tokens in English-Italian corpus, sample'.format(len([word for sentence in ita_eng[:,0]\n",
    "                                                                     for word in sentence.split()])))\n",
    "print('{} unique English words/tokens in English-Italian corpus, sample'.format(len(english_words_counter_ita)))\n",
    "print('10 most common English word in the English-Italian sample corpus, stop words included:')\n",
    "print('\"\"'+'\" \"'.join(list(zip(*english_words_counter_ita.most_common(10)))[0])+'\"')\n",
    "print('{} Italian words/tokens in English-Italian sample corpus'.format(len([word for sentence in ita_eng[:,1] \n",
    "                                                                   for word in sentence.split()])))\n",
    "print('{} unique Italian words/tokens in English-Italian sample corpus'.format(len(italian_words_counter)))\n",
    "print('10 most common Italian words in the English-Italian sample corpus, stop words included:')\n",
    "print('\"'+'\" \"'.join(list(zip(*italian_words_counter.most_common(10)))[0])+'\"')"
   ]
  },
  {
   "cell_type": "code",
   "execution_count": null,
   "id": "nfF2rr94dDn4",
   "metadata": {
    "id": "nfF2rr94dDn4"
   },
   "outputs": [],
   "source": [
    "#create empty lists\n",
    "eng_l_ita_sample = []\n",
    "ita_l_sample = []\n",
    "#populate lists w/ sentence lengths\n",
    "for i in ita_eng[:,0]:\n",
    "    eng_l_ita_sample.append(len(i.split()))\n",
    "for i in ita_eng[:,1]:\n",
    "    ita_l_sample.append(len(i.split()))"
   ]
  },
  {
   "cell_type": "code",
   "execution_count": null,
   "id": "17WOZZ5RdDtf",
   "metadata": {
    "colab": {
     "base_uri": "https://localhost:8080/"
    },
    "id": "17WOZZ5RdDtf",
    "outputId": "617c1f04-b20f-4695-978e-44d3bb4428cc"
   },
   "outputs": [
    {
     "name": "stdout",
     "output_type": "stream",
     "text": [
      "                  0\n",
      "count  10000.000000\n",
      "mean       2.473600\n",
      "std        0.559227\n",
      "min        1.000000\n",
      "25%        2.000000\n",
      "50%        2.000000\n",
      "75%        3.000000\n",
      "max        4.000000\n",
      "Average English sentence length in English-Italian sample corpus:  2.4736\n",
      "                  0\n",
      "count  10000.000000\n",
      "mean       2.602300\n",
      "std        0.918705\n",
      "min        1.000000\n",
      "25%        2.000000\n",
      "50%        3.000000\n",
      "75%        3.000000\n",
      "max        7.000000\n",
      "Average Italian sentence length in English-Italian sample corpus:  2.6023\n"
     ]
    }
   ],
   "source": [
    "#Display descriptive statistics for English and French sentence lengths\n",
    "df_eng_ita_l_sample = pd.DataFrame(eng_l_ita_sample)\n",
    "print(df_eng_ita_l_sample.describe())\n",
    "print(\"Average English sentence length in English-Italian sample corpus: \",statistics.mean(df_eng_ita_l_sample.iloc[:,0]))\n",
    "\n",
    "df_ita_l_sample = pd.DataFrame(ita_l_sample)\n",
    "print(df_ita_l_sample.describe())\n",
    "print(\"Average Italian sentence length in English-Italian sample corpus: \", statistics.mean(df_ita_l_sample.iloc[:,0]))"
   ]
  },
  {
   "cell_type": "code",
   "execution_count": null,
   "id": "rh2cLomAdDz3",
   "metadata": {
    "id": "rh2cLomAdDz3"
   },
   "outputs": [],
   "source": [
    "#create length dataframe\n",
    "length_df_ita_sample = pd.DataFrame({'eng':eng_l_ita_sample, 'ital':ita_l_sample})"
   ]
  },
  {
   "cell_type": "code",
   "execution_count": null,
   "id": "cf3hdmRudD4w",
   "metadata": {
    "colab": {
     "base_uri": "https://localhost:8080/",
     "height": 281
    },
    "id": "cf3hdmRudD4w",
    "outputId": "6e858368-7b17-4cd5-d002-7313627eeb0f"
   },
   "outputs": [
    {
     "data": {
      "image/png": "[encoded data removed]",
      "text/plain": [
       "<Figure size 432x288 with 2 Axes>"
      ]
     },
     "metadata": {
      "needs_background": "light",
      "tags": []
     },
     "output_type": "display_data"
    }
   ],
   "source": [
    "#examine distribution of lengths\n",
    "length_df_ita_sample.hist(bins=30)\n",
    "plt.show()"
   ]
  },
  {
   "cell_type": "code",
   "execution_count": null,
   "id": "IPlQm2X70hQt",
   "metadata": {
    "colab": {
     "base_uri": "https://localhost:8080/"
    },
    "id": "IPlQm2X70hQt",
    "outputId": "b700f073-9d83-46cf-8681-d057728da9e9"
   },
   "outputs": [
    {
     "name": "stdout",
     "output_type": "stream",
     "text": [
      "English vocabulary size: 1416\n"
     ]
    }
   ],
   "source": [
    "#prep english tokenizer for italian translation\n",
    "eng_it_tokenizer = tokenization(ita_eng[:,0])\n",
    "#get english vocab size for italian translation\n",
    "eng_it_vocab_size = len(eng_it_tokenizer.word_index)+1\n",
    "eng_it_length = max_length(ita_eng[:,0])\n",
    "print(\"English vocabulary size: %d\" % eng_it_vocab_size)"
   ]
  },
  {
   "cell_type": "code",
   "execution_count": null,
   "id": "G7xMsD1r0hTg",
   "metadata": {
    "colab": {
     "base_uri": "https://localhost:8080/"
    },
    "id": "G7xMsD1r0hTg",
    "outputId": "eb39cc41-7a45-426a-f4d3-ee194cfe9656"
   },
   "outputs": [
    {
     "name": "stdout",
     "output_type": "stream",
     "text": [
      "Italian Vocabulary Size: 3666\n"
     ]
    }
   ],
   "source": [
    "#prepare italian tokenizer\n",
    "ita_tokenizer = tokenization(ita_eng[:, 1])\n",
    "ita_vocab_size = len(ita_tokenizer.word_index) + 1\n",
    "\n",
    "ita_length = max_length(ita_eng[:,1])\n",
    "print('Italian Vocabulary Size: %d' % ita_vocab_size)"
   ]
  },
  {
   "cell_type": "markdown",
   "id": "WxAYq1h11iP8",
   "metadata": {
    "id": "WxAYq1h11iP8"
   },
   "source": [
    "## Italian Baseline Model"
   ]
  },
  {
   "cell_type": "code",
   "execution_count": null,
   "id": "a2fuAgXj1YC9",
   "metadata": {
    "id": "a2fuAgXj1YC9"
   },
   "outputs": [],
   "source": [
    "#Get training, test data\n",
    "trainIta, testIta = train_test_split(ita_eng, test_size=0.2, random_state=12)"
   ]
  },
  {
   "cell_type": "code",
   "execution_count": null,
   "id": "umxQHgE01gm0",
   "metadata": {
    "id": "umxQHgE01gm0"
   },
   "outputs": [],
   "source": [
    "#prepare training data\n",
    "trainItalianX = encode_sequences(ita_tokenizer, ita_length, trainIta[:,1])\n",
    "trainEnglishItalianY = encode_sequences(eng_it_tokenizer, eng_it_length, trainIta[:,0])"
   ]
  },
  {
   "cell_type": "code",
   "execution_count": null,
   "id": "fbAE8GHV1gsl",
   "metadata": {
    "id": "fbAE8GHV1gsl"
   },
   "outputs": [],
   "source": [
    "#prepare test data\n",
    "testItalianX = encode_sequences(ita_tokenizer, ita_length, testIta[:,1])\n",
    "testEnglishItalianY=encode_sequences(eng_it_tokenizer, eng_it_length, testIta[:,0])"
   ]
  },
  {
   "cell_type": "code",
   "execution_count": null,
   "id": "0O1V2lFe1gxV",
   "metadata": {
    "colab": {
     "base_uri": "https://localhost:8080/"
    },
    "id": "0O1V2lFe1gxV",
    "outputId": "6f921276-1879-4bd8-eda9-184e1e761986"
   },
   "outputs": [
    {
     "name": "stdout",
     "output_type": "stream",
     "text": [
      "Model: \"sequential_1\"\n",
      "_________________________________________________________________\n",
      "Layer (type)                 Output Shape              Param #   \n",
      "=================================================================\n",
      "embedding_3 (Embedding)      (None, 7, 512)            1876992   \n",
      "_________________________________________________________________\n",
      "lstm_2 (LSTM)                (None, 512)               2099200   \n",
      "_________________________________________________________________\n",
      "repeat_vector_1 (RepeatVecto (None, 4, 512)            0         \n",
      "_________________________________________________________________\n",
      "lstm_3 (LSTM)                (None, 4, 512)            2099200   \n",
      "_________________________________________________________________\n",
      "dense_5 (Dense)              (None, 4, 1416)           726408    \n",
      "=================================================================\n",
      "Total params: 6,801,800\n",
      "Trainable params: 6,801,800\n",
      "Non-trainable params: 0\n",
      "_________________________________________________________________\n"
     ]
    }
   ],
   "source": [
    "#Build model\n",
    "model_it_1 = build_model1(ita_vocab_size, eng_it_vocab_size, ita_length, eng_it_length, 512)\n",
    "model_it_1.summary()\n",
    "rms_it_1 = optimizers.RMSprop(lr=0.001)\n",
    "model_it_1.compile(optimizer=rms_it_1, loss='sparse_categorical_crossentropy', metrics = ['accuracy'])"
   ]
  },
  {
   "cell_type": "code",
   "execution_count": null,
   "id": "j31H1C3_1g08",
   "metadata": {
    "colab": {
     "base_uri": "https://localhost:8080/"
    },
    "id": "j31H1C3_1g08",
    "outputId": "39771cf6-5602-4d6c-abdb-d1d48ca10593"
   },
   "outputs": [
    {
     "name": "stdout",
     "output_type": "stream",
     "text": [
      "Epoch 1/30\n",
      "13/13 [==============================] - 6s 158ms/step - loss: 6.1473 - accuracy: 0.2926 - val_loss: 4.2615 - val_accuracy: 0.3989\n",
      "\n",
      "Epoch 00001: val_loss improved from inf to 4.26149, saving model to model.h1.1_may_21_model1\n"
     ]
    },
    {
     "name": "stderr",
     "output_type": "stream",
     "text": [
      "WARNING:absl:Found untraced functions such as lstm_cell_4_layer_call_and_return_conditional_losses, lstm_cell_4_layer_call_fn, lstm_cell_5_layer_call_and_return_conditional_losses, lstm_cell_5_layer_call_fn, lstm_cell_4_layer_call_fn while saving (showing 5 of 10). These functions will not be directly callable after loading.\n",
      "WARNING:absl:Found untraced functions such as lstm_cell_4_layer_call_and_return_conditional_losses, lstm_cell_4_layer_call_fn, lstm_cell_5_layer_call_and_return_conditional_losses, lstm_cell_5_layer_call_fn, lstm_cell_4_layer_call_fn while saving (showing 5 of 10). These functions will not be directly callable after loading.\n"
     ]
    },
    {
     "name": "stdout",
     "output_type": "stream",
     "text": [
      "INFO:tensorflow:Assets written to: model.h1.1_may_21_model1/assets\n"
     ]
    },
    {
     "name": "stderr",
     "output_type": "stream",
     "text": [
      "INFO:tensorflow:Assets written to: model.h1.1_may_21_model1/assets\n"
     ]
    },
    {
     "name": "stdout",
     "output_type": "stream",
     "text": [
      "Epoch 2/30\n",
      "13/13 [==============================] - 1s 50ms/step - loss: 4.0550 - accuracy: 0.4102 - val_loss: 3.7933 - val_accuracy: 0.4306\n",
      "\n",
      "Epoch 00002: val_loss improved from 4.26149 to 3.79325, saving model to model.h1.1_may_21_model1\n"
     ]
    },
    {
     "name": "stderr",
     "output_type": "stream",
     "text": [
      "WARNING:absl:Found untraced functions such as lstm_cell_4_layer_call_and_return_conditional_losses, lstm_cell_4_layer_call_fn, lstm_cell_5_layer_call_and_return_conditional_losses, lstm_cell_5_layer_call_fn, lstm_cell_4_layer_call_fn while saving (showing 5 of 10). These functions will not be directly callable after loading.\n",
      "WARNING:absl:Found untraced functions such as lstm_cell_4_layer_call_and_return_conditional_losses, lstm_cell_4_layer_call_fn, lstm_cell_5_layer_call_and_return_conditional_losses, lstm_cell_5_layer_call_fn, lstm_cell_4_layer_call_fn while saving (showing 5 of 10). These functions will not be directly callable after loading.\n"
     ]
    },
    {
     "name": "stdout",
     "output_type": "stream",
     "text": [
      "INFO:tensorflow:Assets written to: model.h1.1_may_21_model1/assets\n"
     ]
    },
    {
     "name": "stderr",
     "output_type": "stream",
     "text": [
      "INFO:tensorflow:Assets written to: model.h1.1_may_21_model1/assets\n"
     ]
    },
    {
     "name": "stdout",
     "output_type": "stream",
     "text": [
      "Epoch 3/30\n",
      "13/13 [==============================] - 1s 49ms/step - loss: 3.5935 - accuracy: 0.4358 - val_loss: 3.5797 - val_accuracy: 0.4333\n",
      "\n",
      "Epoch 00003: val_loss improved from 3.79325 to 3.57972, saving model to model.h1.1_may_21_model1\n"
     ]
    },
    {
     "name": "stderr",
     "output_type": "stream",
     "text": [
      "WARNING:absl:Found untraced functions such as lstm_cell_4_layer_call_and_return_conditional_losses, lstm_cell_4_layer_call_fn, lstm_cell_5_layer_call_and_return_conditional_losses, lstm_cell_5_layer_call_fn, lstm_cell_4_layer_call_fn while saving (showing 5 of 10). These functions will not be directly callable after loading.\n",
      "WARNING:absl:Found untraced functions such as lstm_cell_4_layer_call_and_return_conditional_losses, lstm_cell_4_layer_call_fn, lstm_cell_5_layer_call_and_return_conditional_losses, lstm_cell_5_layer_call_fn, lstm_cell_4_layer_call_fn while saving (showing 5 of 10). These functions will not be directly callable after loading.\n"
     ]
    },
    {
     "name": "stdout",
     "output_type": "stream",
     "text": [
      "INFO:tensorflow:Assets written to: model.h1.1_may_21_model1/assets\n"
     ]
    },
    {
     "name": "stderr",
     "output_type": "stream",
     "text": [
      "INFO:tensorflow:Assets written to: model.h1.1_may_21_model1/assets\n"
     ]
    },
    {
     "name": "stdout",
     "output_type": "stream",
     "text": [
      "Epoch 4/30\n",
      "13/13 [==============================] - 1s 48ms/step - loss: 3.4133 - accuracy: 0.4386 - val_loss: 3.5289 - val_accuracy: 0.4320\n",
      "\n",
      "Epoch 00004: val_loss improved from 3.57972 to 3.52893, saving model to model.h1.1_may_21_model1\n"
     ]
    },
    {
     "name": "stderr",
     "output_type": "stream",
     "text": [
      "WARNING:absl:Found untraced functions such as lstm_cell_4_layer_call_and_return_conditional_losses, lstm_cell_4_layer_call_fn, lstm_cell_5_layer_call_and_return_conditional_losses, lstm_cell_5_layer_call_fn, lstm_cell_4_layer_call_fn while saving (showing 5 of 10). These functions will not be directly callable after loading.\n",
      "WARNING:absl:Found untraced functions such as lstm_cell_4_layer_call_and_return_conditional_losses, lstm_cell_4_layer_call_fn, lstm_cell_5_layer_call_and_return_conditional_losses, lstm_cell_5_layer_call_fn, lstm_cell_4_layer_call_fn while saving (showing 5 of 10). These functions will not be directly callable after loading.\n"
     ]
    },
    {
     "name": "stdout",
     "output_type": "stream",
     "text": [
      "INFO:tensorflow:Assets written to: model.h1.1_may_21_model1/assets\n"
     ]
    },
    {
     "name": "stderr",
     "output_type": "stream",
     "text": [
      "INFO:tensorflow:Assets written to: model.h1.1_may_21_model1/assets\n"
     ]
    },
    {
     "name": "stdout",
     "output_type": "stream",
     "text": [
      "Epoch 5/30\n",
      "13/13 [==============================] - 1s 49ms/step - loss: 3.3222 - accuracy: 0.4402 - val_loss: 3.4208 - val_accuracy: 0.4408\n",
      "\n",
      "Epoch 00005: val_loss improved from 3.52893 to 3.42077, saving model to model.h1.1_may_21_model1\n"
     ]
    },
    {
     "name": "stderr",
     "output_type": "stream",
     "text": [
      "WARNING:absl:Found untraced functions such as lstm_cell_4_layer_call_and_return_conditional_losses, lstm_cell_4_layer_call_fn, lstm_cell_5_layer_call_and_return_conditional_losses, lstm_cell_5_layer_call_fn, lstm_cell_4_layer_call_fn while saving (showing 5 of 10). These functions will not be directly callable after loading.\n",
      "WARNING:absl:Found untraced functions such as lstm_cell_4_layer_call_and_return_conditional_losses, lstm_cell_4_layer_call_fn, lstm_cell_5_layer_call_and_return_conditional_losses, lstm_cell_5_layer_call_fn, lstm_cell_4_layer_call_fn while saving (showing 5 of 10). These functions will not be directly callable after loading.\n"
     ]
    },
    {
     "name": "stdout",
     "output_type": "stream",
     "text": [
      "INFO:tensorflow:Assets written to: model.h1.1_may_21_model1/assets\n"
     ]
    },
    {
     "name": "stderr",
     "output_type": "stream",
     "text": [
      "INFO:tensorflow:Assets written to: model.h1.1_may_21_model1/assets\n"
     ]
    },
    {
     "name": "stdout",
     "output_type": "stream",
     "text": [
      "Epoch 6/30\n",
      "13/13 [==============================] - 1s 53ms/step - loss: 3.2214 - accuracy: 0.4513 - val_loss: 3.3284 - val_accuracy: 0.4430\n",
      "\n",
      "Epoch 00006: val_loss improved from 3.42077 to 3.32844, saving model to model.h1.1_may_21_model1\n"
     ]
    },
    {
     "name": "stderr",
     "output_type": "stream",
     "text": [
      "WARNING:absl:Found untraced functions such as lstm_cell_4_layer_call_and_return_conditional_losses, lstm_cell_4_layer_call_fn, lstm_cell_5_layer_call_and_return_conditional_losses, lstm_cell_5_layer_call_fn, lstm_cell_4_layer_call_fn while saving (showing 5 of 10). These functions will not be directly callable after loading.\n",
      "WARNING:absl:Found untraced functions such as lstm_cell_4_layer_call_and_return_conditional_losses, lstm_cell_4_layer_call_fn, lstm_cell_5_layer_call_and_return_conditional_losses, lstm_cell_5_layer_call_fn, lstm_cell_4_layer_call_fn while saving (showing 5 of 10). These functions will not be directly callable after loading.\n"
     ]
    },
    {
     "name": "stdout",
     "output_type": "stream",
     "text": [
      "INFO:tensorflow:Assets written to: model.h1.1_may_21_model1/assets\n"
     ]
    },
    {
     "name": "stderr",
     "output_type": "stream",
     "text": [
      "INFO:tensorflow:Assets written to: model.h1.1_may_21_model1/assets\n"
     ]
    },
    {
     "name": "stdout",
     "output_type": "stream",
     "text": [
      "Epoch 7/30\n",
      "13/13 [==============================] - 1s 49ms/step - loss: 3.1105 - accuracy: 0.4581 - val_loss: 3.1865 - val_accuracy: 0.4705\n",
      "\n",
      "Epoch 00007: val_loss improved from 3.32844 to 3.18650, saving model to model.h1.1_may_21_model1\n"
     ]
    },
    {
     "name": "stderr",
     "output_type": "stream",
     "text": [
      "WARNING:absl:Found untraced functions such as lstm_cell_4_layer_call_and_return_conditional_losses, lstm_cell_4_layer_call_fn, lstm_cell_5_layer_call_and_return_conditional_losses, lstm_cell_5_layer_call_fn, lstm_cell_4_layer_call_fn while saving (showing 5 of 10). These functions will not be directly callable after loading.\n",
      "WARNING:absl:Found untraced functions such as lstm_cell_4_layer_call_and_return_conditional_losses, lstm_cell_4_layer_call_fn, lstm_cell_5_layer_call_and_return_conditional_losses, lstm_cell_5_layer_call_fn, lstm_cell_4_layer_call_fn while saving (showing 5 of 10). These functions will not be directly callable after loading.\n"
     ]
    },
    {
     "name": "stdout",
     "output_type": "stream",
     "text": [
      "INFO:tensorflow:Assets written to: model.h1.1_may_21_model1/assets\n"
     ]
    },
    {
     "name": "stderr",
     "output_type": "stream",
     "text": [
      "INFO:tensorflow:Assets written to: model.h1.1_may_21_model1/assets\n"
     ]
    },
    {
     "name": "stdout",
     "output_type": "stream",
     "text": [
      "Epoch 8/30\n",
      "13/13 [==============================] - 1s 46ms/step - loss: 2.9741 - accuracy: 0.4781 - val_loss: 3.0858 - val_accuracy: 0.4812\n",
      "\n",
      "Epoch 00008: val_loss improved from 3.18650 to 3.08578, saving model to model.h1.1_may_21_model1\n"
     ]
    },
    {
     "name": "stderr",
     "output_type": "stream",
     "text": [
      "WARNING:absl:Found untraced functions such as lstm_cell_4_layer_call_and_return_conditional_losses, lstm_cell_4_layer_call_fn, lstm_cell_5_layer_call_and_return_conditional_losses, lstm_cell_5_layer_call_fn, lstm_cell_4_layer_call_fn while saving (showing 5 of 10). These functions will not be directly callable after loading.\n",
      "WARNING:absl:Found untraced functions such as lstm_cell_4_layer_call_and_return_conditional_losses, lstm_cell_4_layer_call_fn, lstm_cell_5_layer_call_and_return_conditional_losses, lstm_cell_5_layer_call_fn, lstm_cell_4_layer_call_fn while saving (showing 5 of 10). These functions will not be directly callable after loading.\n"
     ]
    },
    {
     "name": "stdout",
     "output_type": "stream",
     "text": [
      "INFO:tensorflow:Assets written to: model.h1.1_may_21_model1/assets\n"
     ]
    },
    {
     "name": "stderr",
     "output_type": "stream",
     "text": [
      "INFO:tensorflow:Assets written to: model.h1.1_may_21_model1/assets\n"
     ]
    },
    {
     "name": "stdout",
     "output_type": "stream",
     "text": [
      "Epoch 9/30\n",
      "13/13 [==============================] - 1s 46ms/step - loss: 2.8519 - accuracy: 0.4906 - val_loss: 2.9895 - val_accuracy: 0.4956\n",
      "\n",
      "Epoch 00009: val_loss improved from 3.08578 to 2.98955, saving model to model.h1.1_may_21_model1\n"
     ]
    },
    {
     "name": "stderr",
     "output_type": "stream",
     "text": [
      "WARNING:absl:Found untraced functions such as lstm_cell_4_layer_call_and_return_conditional_losses, lstm_cell_4_layer_call_fn, lstm_cell_5_layer_call_and_return_conditional_losses, lstm_cell_5_layer_call_fn, lstm_cell_4_layer_call_fn while saving (showing 5 of 10). These functions will not be directly callable after loading.\n",
      "WARNING:absl:Found untraced functions such as lstm_cell_4_layer_call_and_return_conditional_losses, lstm_cell_4_layer_call_fn, lstm_cell_5_layer_call_and_return_conditional_losses, lstm_cell_5_layer_call_fn, lstm_cell_4_layer_call_fn while saving (showing 5 of 10). These functions will not be directly callable after loading.\n"
     ]
    },
    {
     "name": "stdout",
     "output_type": "stream",
     "text": [
      "INFO:tensorflow:Assets written to: model.h1.1_may_21_model1/assets\n"
     ]
    },
    {
     "name": "stderr",
     "output_type": "stream",
     "text": [
      "INFO:tensorflow:Assets written to: model.h1.1_may_21_model1/assets\n"
     ]
    },
    {
     "name": "stdout",
     "output_type": "stream",
     "text": [
      "Epoch 10/30\n",
      "13/13 [==============================] - 1s 49ms/step - loss: 2.7367 - accuracy: 0.5048 - val_loss: 2.9150 - val_accuracy: 0.5081\n",
      "\n",
      "Epoch 00010: val_loss improved from 2.98955 to 2.91502, saving model to model.h1.1_may_21_model1\n"
     ]
    },
    {
     "name": "stderr",
     "output_type": "stream",
     "text": [
      "WARNING:absl:Found untraced functions such as lstm_cell_4_layer_call_and_return_conditional_losses, lstm_cell_4_layer_call_fn, lstm_cell_5_layer_call_and_return_conditional_losses, lstm_cell_5_layer_call_fn, lstm_cell_4_layer_call_fn while saving (showing 5 of 10). These functions will not be directly callable after loading.\n",
      "WARNING:absl:Found untraced functions such as lstm_cell_4_layer_call_and_return_conditional_losses, lstm_cell_4_layer_call_fn, lstm_cell_5_layer_call_and_return_conditional_losses, lstm_cell_5_layer_call_fn, lstm_cell_4_layer_call_fn while saving (showing 5 of 10). These functions will not be directly callable after loading.\n"
     ]
    },
    {
     "name": "stdout",
     "output_type": "stream",
     "text": [
      "INFO:tensorflow:Assets written to: model.h1.1_may_21_model1/assets\n"
     ]
    },
    {
     "name": "stderr",
     "output_type": "stream",
     "text": [
      "INFO:tensorflow:Assets written to: model.h1.1_may_21_model1/assets\n"
     ]
    },
    {
     "name": "stdout",
     "output_type": "stream",
     "text": [
      "Epoch 11/30\n",
      "13/13 [==============================] - 1s 46ms/step - loss: 2.6250 - accuracy: 0.5167 - val_loss: 2.8373 - val_accuracy: 0.5114\n",
      "\n",
      "Epoch 00011: val_loss improved from 2.91502 to 2.83729, saving model to model.h1.1_may_21_model1\n"
     ]
    },
    {
     "name": "stderr",
     "output_type": "stream",
     "text": [
      "WARNING:absl:Found untraced functions such as lstm_cell_4_layer_call_and_return_conditional_losses, lstm_cell_4_layer_call_fn, lstm_cell_5_layer_call_and_return_conditional_losses, lstm_cell_5_layer_call_fn, lstm_cell_4_layer_call_fn while saving (showing 5 of 10). These functions will not be directly callable after loading.\n",
      "WARNING:absl:Found untraced functions such as lstm_cell_4_layer_call_and_return_conditional_losses, lstm_cell_4_layer_call_fn, lstm_cell_5_layer_call_and_return_conditional_losses, lstm_cell_5_layer_call_fn, lstm_cell_4_layer_call_fn while saving (showing 5 of 10). These functions will not be directly callable after loading.\n"
     ]
    },
    {
     "name": "stdout",
     "output_type": "stream",
     "text": [
      "INFO:tensorflow:Assets written to: model.h1.1_may_21_model1/assets\n"
     ]
    },
    {
     "name": "stderr",
     "output_type": "stream",
     "text": [
      "INFO:tensorflow:Assets written to: model.h1.1_may_21_model1/assets\n"
     ]
    },
    {
     "name": "stdout",
     "output_type": "stream",
     "text": [
      "Epoch 12/30\n",
      "13/13 [==============================] - 1s 46ms/step - loss: 2.5201 - accuracy: 0.5272 - val_loss: 2.7815 - val_accuracy: 0.5202\n",
      "\n",
      "Epoch 00012: val_loss improved from 2.83729 to 2.78152, saving model to model.h1.1_may_21_model1\n"
     ]
    },
    {
     "name": "stderr",
     "output_type": "stream",
     "text": [
      "WARNING:absl:Found untraced functions such as lstm_cell_4_layer_call_and_return_conditional_losses, lstm_cell_4_layer_call_fn, lstm_cell_5_layer_call_and_return_conditional_losses, lstm_cell_5_layer_call_fn, lstm_cell_4_layer_call_fn while saving (showing 5 of 10). These functions will not be directly callable after loading.\n",
      "WARNING:absl:Found untraced functions such as lstm_cell_4_layer_call_and_return_conditional_losses, lstm_cell_4_layer_call_fn, lstm_cell_5_layer_call_and_return_conditional_losses, lstm_cell_5_layer_call_fn, lstm_cell_4_layer_call_fn while saving (showing 5 of 10). These functions will not be directly callable after loading.\n"
     ]
    },
    {
     "name": "stdout",
     "output_type": "stream",
     "text": [
      "INFO:tensorflow:Assets written to: model.h1.1_may_21_model1/assets\n"
     ]
    },
    {
     "name": "stderr",
     "output_type": "stream",
     "text": [
      "INFO:tensorflow:Assets written to: model.h1.1_may_21_model1/assets\n"
     ]
    },
    {
     "name": "stdout",
     "output_type": "stream",
     "text": [
      "Epoch 13/30\n",
      "13/13 [==============================] - 1s 47ms/step - loss: 2.4117 - accuracy: 0.5365 - val_loss: 2.7153 - val_accuracy: 0.5281\n",
      "\n",
      "Epoch 00013: val_loss improved from 2.78152 to 2.71525, saving model to model.h1.1_may_21_model1\n"
     ]
    },
    {
     "name": "stderr",
     "output_type": "stream",
     "text": [
      "WARNING:absl:Found untraced functions such as lstm_cell_4_layer_call_and_return_conditional_losses, lstm_cell_4_layer_call_fn, lstm_cell_5_layer_call_and_return_conditional_losses, lstm_cell_5_layer_call_fn, lstm_cell_4_layer_call_fn while saving (showing 5 of 10). These functions will not be directly callable after loading.\n",
      "WARNING:absl:Found untraced functions such as lstm_cell_4_layer_call_and_return_conditional_losses, lstm_cell_4_layer_call_fn, lstm_cell_5_layer_call_and_return_conditional_losses, lstm_cell_5_layer_call_fn, lstm_cell_4_layer_call_fn while saving (showing 5 of 10). These functions will not be directly callable after loading.\n"
     ]
    },
    {
     "name": "stdout",
     "output_type": "stream",
     "text": [
      "INFO:tensorflow:Assets written to: model.h1.1_may_21_model1/assets\n"
     ]
    },
    {
     "name": "stderr",
     "output_type": "stream",
     "text": [
      "INFO:tensorflow:Assets written to: model.h1.1_may_21_model1/assets\n"
     ]
    },
    {
     "name": "stdout",
     "output_type": "stream",
     "text": [
      "Epoch 14/30\n",
      "13/13 [==============================] - 1s 47ms/step - loss: 2.2936 - accuracy: 0.5514 - val_loss: 2.7257 - val_accuracy: 0.5277\n",
      "\n",
      "Epoch 00014: val_loss did not improve from 2.71525\n",
      "Epoch 15/30\n",
      "13/13 [==============================] - 1s 41ms/step - loss: 2.2347 - accuracy: 0.5567 - val_loss: 2.6140 - val_accuracy: 0.5436\n",
      "\n",
      "Epoch 00015: val_loss improved from 2.71525 to 2.61397, saving model to model.h1.1_may_21_model1\n"
     ]
    },
    {
     "name": "stderr",
     "output_type": "stream",
     "text": [
      "WARNING:absl:Found untraced functions such as lstm_cell_4_layer_call_and_return_conditional_losses, lstm_cell_4_layer_call_fn, lstm_cell_5_layer_call_and_return_conditional_losses, lstm_cell_5_layer_call_fn, lstm_cell_4_layer_call_fn while saving (showing 5 of 10). These functions will not be directly callable after loading.\n",
      "WARNING:absl:Found untraced functions such as lstm_cell_4_layer_call_and_return_conditional_losses, lstm_cell_4_layer_call_fn, lstm_cell_5_layer_call_and_return_conditional_losses, lstm_cell_5_layer_call_fn, lstm_cell_4_layer_call_fn while saving (showing 5 of 10). These functions will not be directly callable after loading.\n"
     ]
    },
    {
     "name": "stdout",
     "output_type": "stream",
     "text": [
      "INFO:tensorflow:Assets written to: model.h1.1_may_21_model1/assets\n"
     ]
    },
    {
     "name": "stderr",
     "output_type": "stream",
     "text": [
      "INFO:tensorflow:Assets written to: model.h1.1_may_21_model1/assets\n"
     ]
    },
    {
     "name": "stdout",
     "output_type": "stream",
     "text": [
      "Epoch 16/30\n",
      "13/13 [==============================] - 1s 48ms/step - loss: 2.1507 - accuracy: 0.5670 - val_loss: 2.5454 - val_accuracy: 0.5536\n",
      "\n",
      "Epoch 00016: val_loss improved from 2.61397 to 2.54536, saving model to model.h1.1_may_21_model1\n"
     ]
    },
    {
     "name": "stderr",
     "output_type": "stream",
     "text": [
      "WARNING:absl:Found untraced functions such as lstm_cell_4_layer_call_and_return_conditional_losses, lstm_cell_4_layer_call_fn, lstm_cell_5_layer_call_and_return_conditional_losses, lstm_cell_5_layer_call_fn, lstm_cell_4_layer_call_fn while saving (showing 5 of 10). These functions will not be directly callable after loading.\n",
      "WARNING:absl:Found untraced functions such as lstm_cell_4_layer_call_and_return_conditional_losses, lstm_cell_4_layer_call_fn, lstm_cell_5_layer_call_and_return_conditional_losses, lstm_cell_5_layer_call_fn, lstm_cell_4_layer_call_fn while saving (showing 5 of 10). These functions will not be directly callable after loading.\n"
     ]
    },
    {
     "name": "stdout",
     "output_type": "stream",
     "text": [
      "INFO:tensorflow:Assets written to: model.h1.1_may_21_model1/assets\n"
     ]
    },
    {
     "name": "stderr",
     "output_type": "stream",
     "text": [
      "INFO:tensorflow:Assets written to: model.h1.1_may_21_model1/assets\n"
     ]
    },
    {
     "name": "stdout",
     "output_type": "stream",
     "text": [
      "Epoch 17/30\n",
      "13/13 [==============================] - 1s 48ms/step - loss: 2.0399 - accuracy: 0.5790 - val_loss: 2.5351 - val_accuracy: 0.5533\n",
      "\n",
      "Epoch 00017: val_loss improved from 2.54536 to 2.53506, saving model to model.h1.1_may_21_model1\n"
     ]
    },
    {
     "name": "stderr",
     "output_type": "stream",
     "text": [
      "WARNING:absl:Found untraced functions such as lstm_cell_4_layer_call_and_return_conditional_losses, lstm_cell_4_layer_call_fn, lstm_cell_5_layer_call_and_return_conditional_losses, lstm_cell_5_layer_call_fn, lstm_cell_4_layer_call_fn while saving (showing 5 of 10). These functions will not be directly callable after loading.\n",
      "WARNING:absl:Found untraced functions such as lstm_cell_4_layer_call_and_return_conditional_losses, lstm_cell_4_layer_call_fn, lstm_cell_5_layer_call_and_return_conditional_losses, lstm_cell_5_layer_call_fn, lstm_cell_4_layer_call_fn while saving (showing 5 of 10). These functions will not be directly callable after loading.\n"
     ]
    },
    {
     "name": "stdout",
     "output_type": "stream",
     "text": [
      "INFO:tensorflow:Assets written to: model.h1.1_may_21_model1/assets\n"
     ]
    },
    {
     "name": "stderr",
     "output_type": "stream",
     "text": [
      "INFO:tensorflow:Assets written to: model.h1.1_may_21_model1/assets\n"
     ]
    },
    {
     "name": "stdout",
     "output_type": "stream",
     "text": [
      "Epoch 18/30\n",
      "13/13 [==============================] - 1s 49ms/step - loss: 1.9735 - accuracy: 0.5888 - val_loss: 2.4694 - val_accuracy: 0.5642\n",
      "\n",
      "Epoch 00018: val_loss improved from 2.53506 to 2.46939, saving model to model.h1.1_may_21_model1\n"
     ]
    },
    {
     "name": "stderr",
     "output_type": "stream",
     "text": [
      "WARNING:absl:Found untraced functions such as lstm_cell_4_layer_call_and_return_conditional_losses, lstm_cell_4_layer_call_fn, lstm_cell_5_layer_call_and_return_conditional_losses, lstm_cell_5_layer_call_fn, lstm_cell_4_layer_call_fn while saving (showing 5 of 10). These functions will not be directly callable after loading.\n",
      "WARNING:absl:Found untraced functions such as lstm_cell_4_layer_call_and_return_conditional_losses, lstm_cell_4_layer_call_fn, lstm_cell_5_layer_call_and_return_conditional_losses, lstm_cell_5_layer_call_fn, lstm_cell_4_layer_call_fn while saving (showing 5 of 10). These functions will not be directly callable after loading.\n"
     ]
    },
    {
     "name": "stdout",
     "output_type": "stream",
     "text": [
      "INFO:tensorflow:Assets written to: model.h1.1_may_21_model1/assets\n"
     ]
    },
    {
     "name": "stderr",
     "output_type": "stream",
     "text": [
      "INFO:tensorflow:Assets written to: model.h1.1_may_21_model1/assets\n"
     ]
    },
    {
     "name": "stdout",
     "output_type": "stream",
     "text": [
      "Epoch 19/30\n",
      "13/13 [==============================] - 1s 51ms/step - loss: 1.8743 - accuracy: 0.6008 - val_loss: 2.4456 - val_accuracy: 0.5661\n",
      "\n",
      "Epoch 00019: val_loss improved from 2.46939 to 2.44556, saving model to model.h1.1_may_21_model1\n"
     ]
    },
    {
     "name": "stderr",
     "output_type": "stream",
     "text": [
      "WARNING:absl:Found untraced functions such as lstm_cell_4_layer_call_and_return_conditional_losses, lstm_cell_4_layer_call_fn, lstm_cell_5_layer_call_and_return_conditional_losses, lstm_cell_5_layer_call_fn, lstm_cell_4_layer_call_fn while saving (showing 5 of 10). These functions will not be directly callable after loading.\n",
      "WARNING:absl:Found untraced functions such as lstm_cell_4_layer_call_and_return_conditional_losses, lstm_cell_4_layer_call_fn, lstm_cell_5_layer_call_and_return_conditional_losses, lstm_cell_5_layer_call_fn, lstm_cell_4_layer_call_fn while saving (showing 5 of 10). These functions will not be directly callable after loading.\n"
     ]
    },
    {
     "name": "stdout",
     "output_type": "stream",
     "text": [
      "INFO:tensorflow:Assets written to: model.h1.1_may_21_model1/assets\n"
     ]
    },
    {
     "name": "stderr",
     "output_type": "stream",
     "text": [
      "INFO:tensorflow:Assets written to: model.h1.1_may_21_model1/assets\n"
     ]
    },
    {
     "name": "stdout",
     "output_type": "stream",
     "text": [
      "Epoch 20/30\n",
      "13/13 [==============================] - 1s 50ms/step - loss: 1.8059 - accuracy: 0.6101 - val_loss: 2.3713 - val_accuracy: 0.5811\n",
      "\n",
      "Epoch 00020: val_loss improved from 2.44556 to 2.37130, saving model to model.h1.1_may_21_model1\n"
     ]
    },
    {
     "name": "stderr",
     "output_type": "stream",
     "text": [
      "WARNING:absl:Found untraced functions such as lstm_cell_4_layer_call_and_return_conditional_losses, lstm_cell_4_layer_call_fn, lstm_cell_5_layer_call_and_return_conditional_losses, lstm_cell_5_layer_call_fn, lstm_cell_4_layer_call_fn while saving (showing 5 of 10). These functions will not be directly callable after loading.\n",
      "WARNING:absl:Found untraced functions such as lstm_cell_4_layer_call_and_return_conditional_losses, lstm_cell_4_layer_call_fn, lstm_cell_5_layer_call_and_return_conditional_losses, lstm_cell_5_layer_call_fn, lstm_cell_4_layer_call_fn while saving (showing 5 of 10). These functions will not be directly callable after loading.\n"
     ]
    },
    {
     "name": "stdout",
     "output_type": "stream",
     "text": [
      "INFO:tensorflow:Assets written to: model.h1.1_may_21_model1/assets\n"
     ]
    },
    {
     "name": "stderr",
     "output_type": "stream",
     "text": [
      "INFO:tensorflow:Assets written to: model.h1.1_may_21_model1/assets\n"
     ]
    },
    {
     "name": "stdout",
     "output_type": "stream",
     "text": [
      "Epoch 21/30\n",
      "13/13 [==============================] - 1s 51ms/step - loss: 1.7238 - accuracy: 0.6257 - val_loss: 2.3639 - val_accuracy: 0.5805\n",
      "\n",
      "Epoch 00021: val_loss improved from 2.37130 to 2.36392, saving model to model.h1.1_may_21_model1\n"
     ]
    },
    {
     "name": "stderr",
     "output_type": "stream",
     "text": [
      "WARNING:absl:Found untraced functions such as lstm_cell_4_layer_call_and_return_conditional_losses, lstm_cell_4_layer_call_fn, lstm_cell_5_layer_call_and_return_conditional_losses, lstm_cell_5_layer_call_fn, lstm_cell_4_layer_call_fn while saving (showing 5 of 10). These functions will not be directly callable after loading.\n",
      "WARNING:absl:Found untraced functions such as lstm_cell_4_layer_call_and_return_conditional_losses, lstm_cell_4_layer_call_fn, lstm_cell_5_layer_call_and_return_conditional_losses, lstm_cell_5_layer_call_fn, lstm_cell_4_layer_call_fn while saving (showing 5 of 10). These functions will not be directly callable after loading.\n"
     ]
    },
    {
     "name": "stdout",
     "output_type": "stream",
     "text": [
      "INFO:tensorflow:Assets written to: model.h1.1_may_21_model1/assets\n"
     ]
    },
    {
     "name": "stderr",
     "output_type": "stream",
     "text": [
      "INFO:tensorflow:Assets written to: model.h1.1_may_21_model1/assets\n"
     ]
    },
    {
     "name": "stdout",
     "output_type": "stream",
     "text": [
      "Epoch 22/30\n",
      "13/13 [==============================] - 1s 53ms/step - loss: 1.6513 - accuracy: 0.6342 - val_loss: 2.3058 - val_accuracy: 0.5903\n",
      "\n",
      "Epoch 00022: val_loss improved from 2.36392 to 2.30581, saving model to model.h1.1_may_21_model1\n"
     ]
    },
    {
     "name": "stderr",
     "output_type": "stream",
     "text": [
      "WARNING:absl:Found untraced functions such as lstm_cell_4_layer_call_and_return_conditional_losses, lstm_cell_4_layer_call_fn, lstm_cell_5_layer_call_and_return_conditional_losses, lstm_cell_5_layer_call_fn, lstm_cell_4_layer_call_fn while saving (showing 5 of 10). These functions will not be directly callable after loading.\n",
      "WARNING:absl:Found untraced functions such as lstm_cell_4_layer_call_and_return_conditional_losses, lstm_cell_4_layer_call_fn, lstm_cell_5_layer_call_and_return_conditional_losses, lstm_cell_5_layer_call_fn, lstm_cell_4_layer_call_fn while saving (showing 5 of 10). These functions will not be directly callable after loading.\n"
     ]
    },
    {
     "name": "stdout",
     "output_type": "stream",
     "text": [
      "INFO:tensorflow:Assets written to: model.h1.1_may_21_model1/assets\n"
     ]
    },
    {
     "name": "stderr",
     "output_type": "stream",
     "text": [
      "INFO:tensorflow:Assets written to: model.h1.1_may_21_model1/assets\n"
     ]
    },
    {
     "name": "stdout",
     "output_type": "stream",
     "text": [
      "Epoch 23/30\n",
      "13/13 [==============================] - 1s 49ms/step - loss: 1.5675 - accuracy: 0.6497 - val_loss: 2.2840 - val_accuracy: 0.5966\n",
      "\n",
      "Epoch 00023: val_loss improved from 2.30581 to 2.28403, saving model to model.h1.1_may_21_model1\n"
     ]
    },
    {
     "name": "stderr",
     "output_type": "stream",
     "text": [
      "WARNING:absl:Found untraced functions such as lstm_cell_4_layer_call_and_return_conditional_losses, lstm_cell_4_layer_call_fn, lstm_cell_5_layer_call_and_return_conditional_losses, lstm_cell_5_layer_call_fn, lstm_cell_4_layer_call_fn while saving (showing 5 of 10). These functions will not be directly callable after loading.\n",
      "WARNING:absl:Found untraced functions such as lstm_cell_4_layer_call_and_return_conditional_losses, lstm_cell_4_layer_call_fn, lstm_cell_5_layer_call_and_return_conditional_losses, lstm_cell_5_layer_call_fn, lstm_cell_4_layer_call_fn while saving (showing 5 of 10). These functions will not be directly callable after loading.\n"
     ]
    },
    {
     "name": "stdout",
     "output_type": "stream",
     "text": [
      "INFO:tensorflow:Assets written to: model.h1.1_may_21_model1/assets\n"
     ]
    },
    {
     "name": "stderr",
     "output_type": "stream",
     "text": [
      "INFO:tensorflow:Assets written to: model.h1.1_may_21_model1/assets\n"
     ]
    },
    {
     "name": "stdout",
     "output_type": "stream",
     "text": [
      "Epoch 24/30\n",
      "13/13 [==============================] - 1s 49ms/step - loss: 1.5189 - accuracy: 0.6561 - val_loss: 2.2266 - val_accuracy: 0.6044\n",
      "\n",
      "Epoch 00024: val_loss improved from 2.28403 to 2.22657, saving model to model.h1.1_may_21_model1\n"
     ]
    },
    {
     "name": "stderr",
     "output_type": "stream",
     "text": [
      "WARNING:absl:Found untraced functions such as lstm_cell_4_layer_call_and_return_conditional_losses, lstm_cell_4_layer_call_fn, lstm_cell_5_layer_call_and_return_conditional_losses, lstm_cell_5_layer_call_fn, lstm_cell_4_layer_call_fn while saving (showing 5 of 10). These functions will not be directly callable after loading.\n",
      "WARNING:absl:Found untraced functions such as lstm_cell_4_layer_call_and_return_conditional_losses, lstm_cell_4_layer_call_fn, lstm_cell_5_layer_call_and_return_conditional_losses, lstm_cell_5_layer_call_fn, lstm_cell_4_layer_call_fn while saving (showing 5 of 10). These functions will not be directly callable after loading.\n"
     ]
    },
    {
     "name": "stdout",
     "output_type": "stream",
     "text": [
      "INFO:tensorflow:Assets written to: model.h1.1_may_21_model1/assets\n"
     ]
    },
    {
     "name": "stderr",
     "output_type": "stream",
     "text": [
      "INFO:tensorflow:Assets written to: model.h1.1_may_21_model1/assets\n"
     ]
    },
    {
     "name": "stdout",
     "output_type": "stream",
     "text": [
      "Epoch 25/30\n",
      "13/13 [==============================] - 1s 48ms/step - loss: 1.4428 - accuracy: 0.6730 - val_loss: 2.2158 - val_accuracy: 0.6139\n",
      "\n",
      "Epoch 00025: val_loss improved from 2.22657 to 2.21581, saving model to model.h1.1_may_21_model1\n"
     ]
    },
    {
     "name": "stderr",
     "output_type": "stream",
     "text": [
      "WARNING:absl:Found untraced functions such as lstm_cell_4_layer_call_and_return_conditional_losses, lstm_cell_4_layer_call_fn, lstm_cell_5_layer_call_and_return_conditional_losses, lstm_cell_5_layer_call_fn, lstm_cell_4_layer_call_fn while saving (showing 5 of 10). These functions will not be directly callable after loading.\n",
      "WARNING:absl:Found untraced functions such as lstm_cell_4_layer_call_and_return_conditional_losses, lstm_cell_4_layer_call_fn, lstm_cell_5_layer_call_and_return_conditional_losses, lstm_cell_5_layer_call_fn, lstm_cell_4_layer_call_fn while saving (showing 5 of 10). These functions will not be directly callable after loading.\n"
     ]
    },
    {
     "name": "stdout",
     "output_type": "stream",
     "text": [
      "INFO:tensorflow:Assets written to: model.h1.1_may_21_model1/assets\n"
     ]
    },
    {
     "name": "stderr",
     "output_type": "stream",
     "text": [
      "INFO:tensorflow:Assets written to: model.h1.1_may_21_model1/assets\n"
     ]
    },
    {
     "name": "stdout",
     "output_type": "stream",
     "text": [
      "Epoch 26/30\n",
      "13/13 [==============================] - 1s 45ms/step - loss: 1.3810 - accuracy: 0.6843 - val_loss: 2.2019 - val_accuracy: 0.6066\n",
      "\n",
      "Epoch 00026: val_loss improved from 2.21581 to 2.20194, saving model to model.h1.1_may_21_model1\n"
     ]
    },
    {
     "name": "stderr",
     "output_type": "stream",
     "text": [
      "WARNING:absl:Found untraced functions such as lstm_cell_4_layer_call_and_return_conditional_losses, lstm_cell_4_layer_call_fn, lstm_cell_5_layer_call_and_return_conditional_losses, lstm_cell_5_layer_call_fn, lstm_cell_4_layer_call_fn while saving (showing 5 of 10). These functions will not be directly callable after loading.\n",
      "WARNING:absl:Found untraced functions such as lstm_cell_4_layer_call_and_return_conditional_losses, lstm_cell_4_layer_call_fn, lstm_cell_5_layer_call_and_return_conditional_losses, lstm_cell_5_layer_call_fn, lstm_cell_4_layer_call_fn while saving (showing 5 of 10). These functions will not be directly callable after loading.\n"
     ]
    },
    {
     "name": "stdout",
     "output_type": "stream",
     "text": [
      "INFO:tensorflow:Assets written to: model.h1.1_may_21_model1/assets\n"
     ]
    },
    {
     "name": "stderr",
     "output_type": "stream",
     "text": [
      "INFO:tensorflow:Assets written to: model.h1.1_may_21_model1/assets\n"
     ]
    },
    {
     "name": "stdout",
     "output_type": "stream",
     "text": [
      "Epoch 27/30\n",
      "13/13 [==============================] - 1s 46ms/step - loss: 1.3108 - accuracy: 0.6981 - val_loss: 2.1614 - val_accuracy: 0.6189\n",
      "\n",
      "Epoch 00027: val_loss improved from 2.20194 to 2.16145, saving model to model.h1.1_may_21_model1\n"
     ]
    },
    {
     "name": "stderr",
     "output_type": "stream",
     "text": [
      "WARNING:absl:Found untraced functions such as lstm_cell_4_layer_call_and_return_conditional_losses, lstm_cell_4_layer_call_fn, lstm_cell_5_layer_call_and_return_conditional_losses, lstm_cell_5_layer_call_fn, lstm_cell_4_layer_call_fn while saving (showing 5 of 10). These functions will not be directly callable after loading.\n",
      "WARNING:absl:Found untraced functions such as lstm_cell_4_layer_call_and_return_conditional_losses, lstm_cell_4_layer_call_fn, lstm_cell_5_layer_call_and_return_conditional_losses, lstm_cell_5_layer_call_fn, lstm_cell_4_layer_call_fn while saving (showing 5 of 10). These functions will not be directly callable after loading.\n"
     ]
    },
    {
     "name": "stdout",
     "output_type": "stream",
     "text": [
      "INFO:tensorflow:Assets written to: model.h1.1_may_21_model1/assets\n"
     ]
    },
    {
     "name": "stderr",
     "output_type": "stream",
     "text": [
      "INFO:tensorflow:Assets written to: model.h1.1_may_21_model1/assets\n"
     ]
    },
    {
     "name": "stdout",
     "output_type": "stream",
     "text": [
      "Epoch 28/30\n",
      "13/13 [==============================] - 1s 48ms/step - loss: 1.2602 - accuracy: 0.7095 - val_loss: 2.1460 - val_accuracy: 0.6203\n",
      "\n",
      "Epoch 00028: val_loss improved from 2.16145 to 2.14597, saving model to model.h1.1_may_21_model1\n"
     ]
    },
    {
     "name": "stderr",
     "output_type": "stream",
     "text": [
      "WARNING:absl:Found untraced functions such as lstm_cell_4_layer_call_and_return_conditional_losses, lstm_cell_4_layer_call_fn, lstm_cell_5_layer_call_and_return_conditional_losses, lstm_cell_5_layer_call_fn, lstm_cell_4_layer_call_fn while saving (showing 5 of 10). These functions will not be directly callable after loading.\n",
      "WARNING:absl:Found untraced functions such as lstm_cell_4_layer_call_and_return_conditional_losses, lstm_cell_4_layer_call_fn, lstm_cell_5_layer_call_and_return_conditional_losses, lstm_cell_5_layer_call_fn, lstm_cell_4_layer_call_fn while saving (showing 5 of 10). These functions will not be directly callable after loading.\n"
     ]
    },
    {
     "name": "stdout",
     "output_type": "stream",
     "text": [
      "INFO:tensorflow:Assets written to: model.h1.1_may_21_model1/assets\n"
     ]
    },
    {
     "name": "stderr",
     "output_type": "stream",
     "text": [
      "INFO:tensorflow:Assets written to: model.h1.1_may_21_model1/assets\n"
     ]
    },
    {
     "name": "stdout",
     "output_type": "stream",
     "text": [
      "Epoch 29/30\n",
      "13/13 [==============================] - 1s 47ms/step - loss: 1.1869 - accuracy: 0.7230 - val_loss: 2.1201 - val_accuracy: 0.6261\n",
      "\n",
      "Epoch 00029: val_loss improved from 2.14597 to 2.12013, saving model to model.h1.1_may_21_model1\n"
     ]
    },
    {
     "name": "stderr",
     "output_type": "stream",
     "text": [
      "WARNING:absl:Found untraced functions such as lstm_cell_4_layer_call_and_return_conditional_losses, lstm_cell_4_layer_call_fn, lstm_cell_5_layer_call_and_return_conditional_losses, lstm_cell_5_layer_call_fn, lstm_cell_4_layer_call_fn while saving (showing 5 of 10). These functions will not be directly callable after loading.\n",
      "WARNING:absl:Found untraced functions such as lstm_cell_4_layer_call_and_return_conditional_losses, lstm_cell_4_layer_call_fn, lstm_cell_5_layer_call_and_return_conditional_losses, lstm_cell_5_layer_call_fn, lstm_cell_4_layer_call_fn while saving (showing 5 of 10). These functions will not be directly callable after loading.\n"
     ]
    },
    {
     "name": "stdout",
     "output_type": "stream",
     "text": [
      "INFO:tensorflow:Assets written to: model.h1.1_may_21_model1/assets\n"
     ]
    },
    {
     "name": "stderr",
     "output_type": "stream",
     "text": [
      "INFO:tensorflow:Assets written to: model.h1.1_may_21_model1/assets\n"
     ]
    },
    {
     "name": "stdout",
     "output_type": "stream",
     "text": [
      "Epoch 30/30\n",
      "13/13 [==============================] - 1s 45ms/step - loss: 1.1323 - accuracy: 0.7365 - val_loss: 2.1155 - val_accuracy: 0.6280\n",
      "\n",
      "Epoch 00030: val_loss improved from 2.12013 to 2.11547, saving model to model.h1.1_may_21_model1\n"
     ]
    },
    {
     "name": "stderr",
     "output_type": "stream",
     "text": [
      "WARNING:absl:Found untraced functions such as lstm_cell_4_layer_call_and_return_conditional_losses, lstm_cell_4_layer_call_fn, lstm_cell_5_layer_call_and_return_conditional_losses, lstm_cell_5_layer_call_fn, lstm_cell_4_layer_call_fn while saving (showing 5 of 10). These functions will not be directly callable after loading.\n",
      "WARNING:absl:Found untraced functions such as lstm_cell_4_layer_call_and_return_conditional_losses, lstm_cell_4_layer_call_fn, lstm_cell_5_layer_call_and_return_conditional_losses, lstm_cell_5_layer_call_fn, lstm_cell_4_layer_call_fn while saving (showing 5 of 10). These functions will not be directly callable after loading.\n"
     ]
    },
    {
     "name": "stdout",
     "output_type": "stream",
     "text": [
      "INFO:tensorflow:Assets written to: model.h1.1_may_21_model1/assets\n"
     ]
    },
    {
     "name": "stderr",
     "output_type": "stream",
     "text": [
      "INFO:tensorflow:Assets written to: model.h1.1_may_21_model1/assets\n"
     ]
    }
   ],
   "source": [
    "#Train model and save\n",
    "filename_it_1 = 'model.h1.1_may_21_model1'\n",
    "checkpoint_it_1 = ModelCheckpoint(filename_it_1, monitor='val_loss', verbose=1, save_best_only=True, mode='min')\n",
    "history_it_1 = model_it_1.fit(trainItalianX, trainEnglishItalianY.reshape(trainEnglishItalianY.shape[0], trainEnglishItalianY.shape[1],1),\n",
    "                      epochs=30, batch_size=512, validation_split=0.2, callbacks=[checkpoint_it_1], verbose =1)"
   ]
  },
  {
   "cell_type": "code",
   "execution_count": null,
   "id": "V2V9Kx6Q3Gwb",
   "metadata": {
    "colab": {
     "base_uri": "https://localhost:8080/"
    },
    "id": "V2V9Kx6Q3Gwb",
    "outputId": "40344ca7-9146-4060-c2c8-79b2f3b23666"
   },
   "outputs": [
    {
     "name": "stderr",
     "output_type": "stream",
     "text": [
      "/usr/local/lib/python3.7/dist-packages/tensorflow/python/keras/engine/sequential.py:450: UserWarning: `model.predict_classes()` is deprecated and will be removed after 2021-01-01. Please use instead:* `np.argmax(model.predict(x), axis=-1)`,   if your model does multi-class classification   (e.g. if it uses a `softmax` last-layer activation).* `(model.predict(x) > 0.5).astype(\"int32\")`,   if your model does binary classification   (e.g. if it uses a `sigmoid` last-layer activation).\n",
      "  warnings.warn('`model.predict_classes()` is deprecated and '\n"
     ]
    }
   ],
   "source": [
    "#make predictions on test data\n",
    "model_it_pred_1 = load_model('model.h1.1_may_21_model1')\n",
    "preds_it_1 = model_it_pred_1.predict_classes(testItalianX.reshape(testItalianX.shape[0], testItalianX.shape[1]))"
   ]
  },
  {
   "cell_type": "code",
   "execution_count": null,
   "id": "yU8ffPyz3HCz",
   "metadata": {
    "id": "yU8ffPyz3HCz"
   },
   "outputs": [],
   "source": [
    "#Convert predictions into text (English)\n",
    "preds_text_eng_it_1 = []\n",
    "for i in preds_it_1:\n",
    "    temp = []\n",
    "    for j in range(len(i)):\n",
    "        t = get_word(i[j], eng_it_tokenizer)\n",
    "        if j > 0:\n",
    "            if (t == get_word(i[j-1], eng_it_tokenizer)) or (t == None):\n",
    "                temp.append('')\n",
    "            else:\n",
    "                temp.append(t)\n",
    "        else:\n",
    "            if (t == None):\n",
    "                temp.append('')\n",
    "            else:\n",
    "                temp.append(t)\n",
    "    preds_text_eng_it_1.append(' '.join(temp))"
   ]
  },
  {
   "cell_type": "code",
   "execution_count": null,
   "id": "FhYJp2a73HHy",
   "metadata": {
    "id": "FhYJp2a73HHy"
   },
   "outputs": [],
   "source": [
    "#display first 15 predictions\n",
    "pred_df_it_1 = pd.DataFrame({'actual': testIta[:,0], 'predicted': preds_text_eng_it_1})"
   ]
  },
  {
   "cell_type": "code",
   "execution_count": null,
   "id": "UJrI4CmC3HLT",
   "metadata": {
    "id": "UJrI4CmC3HLT"
   },
   "outputs": [],
   "source": [
    "pd.set_option('display.max_colwidth', 200)"
   ]
  },
  {
   "cell_type": "code",
   "execution_count": null,
   "id": "xLvmsHRT3IYw",
   "metadata": {
    "colab": {
     "base_uri": "https://localhost:8080/",
     "height": 514
    },
    "id": "xLvmsHRT3IYw",
    "outputId": "3c2b35f8-e4b9-420d-e78e-e89aa0049ea0"
   },
   "outputs": [
    {
     "data": {
      "text/html": [
       "<div>\n",
       "<style scoped>\n",
       "    .dataframe tbody tr th:only-of-type {\n",
       "        vertical-align: middle;\n",
       "    }\n",
       "\n",
       "    .dataframe tbody tr th {\n",
       "        vertical-align: top;\n",
       "    }\n",
       "\n",
       "    .dataframe thead th {\n",
       "        text-align: right;\n",
       "    }\n",
       "</style>\n",
       "<table border=\"1\" class=\"dataframe\">\n",
       "  <thead>\n",
       "    <tr style=\"text-align: right;\">\n",
       "      <th></th>\n",
       "      <th>actual</th>\n",
       "      <th>predicted</th>\n",
       "    </tr>\n",
       "  </thead>\n",
       "  <tbody>\n",
       "    <tr>\n",
       "      <th>0</th>\n",
       "      <td>im worried</td>\n",
       "      <td>im am</td>\n",
       "    </tr>\n",
       "    <tr>\n",
       "      <th>1</th>\n",
       "      <td>im not dead</td>\n",
       "      <td>im not fat</td>\n",
       "    </tr>\n",
       "    <tr>\n",
       "      <th>2</th>\n",
       "      <td>im guilty</td>\n",
       "      <td>im biased</td>\n",
       "    </tr>\n",
       "    <tr>\n",
       "      <th>3</th>\n",
       "      <td>im for that</td>\n",
       "      <td>im in</td>\n",
       "    </tr>\n",
       "    <tr>\n",
       "      <th>4</th>\n",
       "      <td>tom is numb</td>\n",
       "      <td>tom is</td>\n",
       "    </tr>\n",
       "    <tr>\n",
       "      <th>5</th>\n",
       "      <td>what a drag</td>\n",
       "      <td>ill gave</td>\n",
       "    </tr>\n",
       "    <tr>\n",
       "      <th>6</th>\n",
       "      <td>its broken</td>\n",
       "      <td>he scary</td>\n",
       "    </tr>\n",
       "    <tr>\n",
       "      <th>7</th>\n",
       "      <td>stop whining</td>\n",
       "      <td>stop humming</td>\n",
       "    </tr>\n",
       "    <tr>\n",
       "      <th>8</th>\n",
       "      <td>he helps us</td>\n",
       "      <td>he gave</td>\n",
       "    </tr>\n",
       "    <tr>\n",
       "      <th>9</th>\n",
       "      <td>it stinks</td>\n",
       "      <td>it stink</td>\n",
       "    </tr>\n",
       "    <tr>\n",
       "      <th>10</th>\n",
       "      <td>i cant stop</td>\n",
       "      <td>i cant read</td>\n",
       "    </tr>\n",
       "    <tr>\n",
       "      <th>11</th>\n",
       "      <td>were ready</td>\n",
       "      <td>were busy</td>\n",
       "    </tr>\n",
       "    <tr>\n",
       "      <th>12</th>\n",
       "      <td>find them</td>\n",
       "      <td>take it</td>\n",
       "    </tr>\n",
       "    <tr>\n",
       "      <th>13</th>\n",
       "      <td>please come</td>\n",
       "      <td>please come</td>\n",
       "    </tr>\n",
       "    <tr>\n",
       "      <th>14</th>\n",
       "      <td>dont smoke</td>\n",
       "      <td>dont worry</td>\n",
       "    </tr>\n",
       "  </tbody>\n",
       "</table>\n",
       "</div>"
      ],
      "text/plain": [
       "          actual       predicted\n",
       "0     im worried         im am  \n",
       "1    im not dead     im not fat \n",
       "2      im guilty     im biased  \n",
       "3    im for that         im in  \n",
       "4    tom is numb        tom is  \n",
       "5    what a drag      ill gave  \n",
       "6     its broken      he scary  \n",
       "7   stop whining  stop humming  \n",
       "8    he helps us       he gave  \n",
       "9      it stinks      it stink  \n",
       "10   i cant stop    i cant read \n",
       "11    were ready     were busy  \n",
       "12     find them       take it  \n",
       "13   please come   please come  \n",
       "14    dont smoke    dont worry  "
      ]
     },
     "execution_count": 77,
     "metadata": {
      "tags": []
     },
     "output_type": "execute_result"
    }
   ],
   "source": [
    "pred_df_it_1.head(15)"
   ]
  },
  {
   "cell_type": "markdown",
   "id": "auRbPADs4HNG",
   "metadata": {
    "id": "auRbPADs4HNG"
   },
   "source": [
    "### Italian Baseline Model Metrics"
   ]
  },
  {
   "cell_type": "code",
   "execution_count": null,
   "id": "qnigO34d4KO1",
   "metadata": {
    "colab": {
     "base_uri": "https://localhost:8080/"
    },
    "id": "qnigO34d4KO1",
    "outputId": "c1230e42-2dbd-45a7-c7a9-0b0aa81ed42e"
   },
   "outputs": [
    {
     "name": "stderr",
     "output_type": "stream",
     "text": [
      "/usr/local/lib/python3.7/dist-packages/tensorflow/python/keras/engine/sequential.py:450: UserWarning: `model.predict_classes()` is deprecated and will be removed after 2021-01-01. Please use instead:* `np.argmax(model.predict(x), axis=-1)`,   if your model does multi-class classification   (e.g. if it uses a `softmax` last-layer activation).* `(model.predict(x) > 0.5).astype(\"int32\")`,   if your model does binary classification   (e.g. if it uses a `sigmoid` last-layer activation).\n",
      "  warnings.warn('`model.predict_classes()` is deprecated and '\n"
     ]
    },
    {
     "name": "stdout",
     "output_type": "stream",
     "text": [
      "[[  2  31   0   0]\n",
      " [  2  56  81   0]\n",
      " [  2 318   0   0]\n",
      " ...\n",
      " [ 24  47   0   0]\n",
      " [  1  38 334   0]\n",
      " [  1 115  29   0]]\n",
      "[1 2 1 ... 1 2 1]\n",
      "[1 2 1 ... 1 2 1]\n",
      "Accuracy: 0.7155\n",
      "Precision: 0.7295408483246758\n",
      "Recall: 0.6040596369552188\n"
     ]
    }
   ],
   "source": [
    "#Calculate Italian metrics: accuracy, precision, recall\n",
    "y_pred_it_1 = model_it_1.predict_classes(testItalianX, verbose=0)\n",
    "print(y_pred_it_1)\n",
    "y_pred_it_1 = argmax(y_pred_it_1, axis=1)\n",
    "print(y_pred_it_1)\n",
    "y_test_it_1 = argmax(testEnglishItalianY, axis=1)\n",
    "print(y_test_it_1)\n",
    "\n",
    "from sklearn import metrics\n",
    "print(\"Accuracy:\",metrics.accuracy_score(y_test_it_1, y_pred_it_1))\n",
    "print(\"Precision:\",metrics.precision_score(y_test_it_1, y_pred_it_1, average = \"macro\"))\n",
    "print(\"Recall:\",metrics.recall_score(y_test_it_1, y_pred_it_1, average = \"macro\"))"
   ]
  },
  {
   "cell_type": "code",
   "execution_count": null,
   "id": "cQyhshIX4KUi",
   "metadata": {
    "colab": {
     "base_uri": "https://localhost:8080/"
    },
    "id": "cQyhshIX4KUi",
    "outputId": "9588c16c-2311-4d4d-b62c-b8bf6960b8c4"
   },
   "outputs": [
    {
     "name": "stdout",
     "output_type": "stream",
     "text": [
      "16/16 [==============================] - 2s 16ms/step - loss: 1.3109 - accuracy: 0.7149\n",
      "{'loss': 1.310878038406372, 'accuracy': 0.7149062752723694}\n"
     ]
    }
   ],
   "source": [
    "#Training accuracy\n",
    "metricsModelIt1 = model_it_1.evaluate(trainItalianX, trainEnglishItalianY, batch_size=512, return_dict=True)\n",
    "print(metricsModelIt1)"
   ]
  },
  {
   "cell_type": "code",
   "execution_count": null,
   "id": "MMYoaL-j4Kiv",
   "metadata": {
    "colab": {
     "base_uri": "https://localhost:8080/"
    },
    "id": "MMYoaL-j4Kiv",
    "outputId": "a77d761a-4718-42c9-f3b6-f611751e19ab"
   },
   "outputs": [
    {
     "name": "stdout",
     "output_type": "stream",
     "text": [
      "4/4 [==============================] - 0s 13ms/step - loss: 2.0687 - accuracy: 0.6396\n",
      "Test accuracy: 63.96\n"
     ]
    }
   ],
   "source": [
    "#Test accuracy\n",
    "_, accuracy = model_it_1.evaluate(testItalianX, testEnglishItalianY, batch_size=512)\n",
    "print('Test accuracy: %.2f' % (accuracy*100))"
   ]
  },
  {
   "cell_type": "code",
   "execution_count": null,
   "id": "r4adRYpC4KxR",
   "metadata": {
    "colab": {
     "base_uri": "https://localhost:8080/"
    },
    "id": "r4adRYpC4KxR",
    "outputId": "c01f9508-34d1-4ea8-8d67-4bc80bb91b3f"
   },
   "outputs": [
    {
     "name": "stdout",
     "output_type": "stream",
     "text": [
      "0.4897821150780231\n"
     ]
    },
    {
     "name": "stderr",
     "output_type": "stream",
     "text": [
      "/usr/local/lib/python3.7/dist-packages/nltk/translate/bleu_score.py:490: UserWarning: \n",
      "Corpus/Sentence contains 0 counts of 2-gram overlaps.\n",
      "BLEU scores might be undesirable; use SmoothingFunction().\n",
      "  warnings.warn(_msg)\n"
     ]
    }
   ],
   "source": [
    "# calculate bleu metric\n",
    "\n",
    "references_it_1 = pred_df_it_1.actual\n",
    "candidates_it_1 = pred_df_it_1.predicted\n",
    "score_it_1 = corpus_bleu(references_it_1, candidates_it_1, weights=(1,0,0,0))\n",
    "print(score_it_1)"
   ]
  },
  {
   "cell_type": "code",
   "execution_count": null,
   "id": "twR0RKHs4K67",
   "metadata": {
    "colab": {
     "base_uri": "https://localhost:8080/"
    },
    "id": "twR0RKHs4K67",
    "outputId": "8aa1af31-8b85-445b-dc9e-da29ef510227"
   },
   "outputs": [
    {
     "name": "stderr",
     "output_type": "stream",
     "text": [
      "/usr/local/lib/python3.7/dist-packages/nltk/translate/bleu_score.py:490: UserWarning: \n",
      "Corpus/Sentence contains 0 counts of 2-gram overlaps.\n",
      "BLEU scores might be undesirable; use SmoothingFunction().\n",
      "  warnings.warn(_msg)\n"
     ]
    }
   ],
   "source": [
    "#average BLEU score\n",
    "bleuScoreMeanIta1 = evaluate_test_model1(references_it_1, candidates_it_1)\n"
   ]
  },
  {
   "cell_type": "code",
   "execution_count": null,
   "id": "e4htaTlE4LDn",
   "metadata": {
    "colab": {
     "base_uri": "https://localhost:8080/"
    },
    "id": "e4htaTlE4LDn",
    "outputId": "91223917-859f-4469-9db6-1fc38c74a579"
   },
   "outputs": [
    {
     "name": "stdout",
     "output_type": "stream",
     "text": [
      "Average BLEU score on test data for Italian model 1:  0.6546536707079771\n"
     ]
    }
   ],
   "source": [
    "print(\"Average BLEU score on test data for Italian model 1: \", bleuScoreMeanIta1)"
   ]
  },
  {
   "cell_type": "code",
   "execution_count": null,
   "id": "sj8R2yy7M4Oz",
   "metadata": {
    "colab": {
     "base_uri": "https://localhost:8080/"
    },
    "id": "sj8R2yy7M4Oz",
    "outputId": "864a9a14-bdd8-4172-fd31-ebb59d639d0d"
   },
   "outputs": [
    {
     "name": "stdout",
     "output_type": "stream",
     "text": [
      "{'rouge-1': {'f': 0.3543904727903922, 'p': 0.40383333333333354, 'r': 0.3248333333333337}, 'rouge-2': {'f': 0.09814999923764693, 'p': 0.12833333333333335, 'r': 0.08308333333333333}, 'rouge-l': {'f': 0.3542285680297718, 'p': 0.40425000000000016, 'r': 0.32433333333333364}}\n"
     ]
    }
   ],
   "source": [
    "#Get ROUGE scores.\n",
    "rouge = Rouge()\n",
    "scores_it_1 = rouge.get_scores(candidates_it_1, references_it_1, avg = True)\n",
    "print(scores_it_1)"
   ]
  },
  {
   "cell_type": "markdown",
   "id": "k2E8FB815AV7",
   "metadata": {
    "id": "k2E8FB815AV7"
   },
   "source": [
    "## Italian Final Model"
   ]
  },
  {
   "cell_type": "code",
   "execution_count": null,
   "id": "Vol6TmCZ5RxY",
   "metadata": {
    "id": "Vol6TmCZ5RxY"
   },
   "outputs": [],
   "source": [
    "#Model 2: An attempt at an encoder-decoder model. uses average BLEU as metric.\n",
    "lines_it = io.open(italian_path, encoding = 'UTF-8').read().split('\\n')"
   ]
  },
  {
   "cell_type": "code",
   "execution_count": null,
   "id": "msixz39S5R3-",
   "metadata": {
    "colab": {
     "base_uri": "https://localhost:8080/"
    },
    "id": "msixz39S5R3-",
    "outputId": "e5a0f2e6-d59a-478f-a1f1-5d3351bf7351"
   },
   "outputs": [
    {
     "name": "stderr",
     "output_type": "stream",
     "text": [
      "100%|██████████| 345245/345245 [00:08<00:00, 38669.20it/s]"
     ]
    },
    {
     "name": "stdout",
     "output_type": "stream",
     "text": [
      "['<start> Ciao <end>', '<start> Corri <end>', '<start> Corra <end>', '<start> Correte <end>', '<start> Chi <end>', '<start> Wow <end>', '<start> Salta <end>', '<start> Salti <end>', '<start> Saltate <end>', '<start> Salta. <end>']\n"
     ]
    },
    {
     "name": "stderr",
     "output_type": "stream",
     "text": [
      "\n"
     ]
    }
   ],
   "source": [
    "#Get data\n",
    "italian, english_it = get_data(lines_it)\n",
    "#get manageable sample\n",
    "italian = italian[:10000:]\n",
    "#get manageable sample\n",
    "english_it = english_it[:10000:]\n",
    "print(italian[0:10])"
   ]
  },
  {
   "cell_type": "code",
   "execution_count": null,
   "id": "UWHvmd_a5SH1",
   "metadata": {
    "id": "UWHvmd_a5SH1"
   },
   "outputs": [],
   "source": [
    "#train-test split\n",
    "ita_tr, ita_te, eng_it_tr, eng_it_te = train_test_split(italian, english_it, test_size = 0.2, random_state = 42)"
   ]
  },
  {
   "cell_type": "code",
   "execution_count": null,
   "id": "6vzkI68-6Gah",
   "metadata": {
    "id": "6vzkI68-6Gah"
   },
   "outputs": [],
   "source": [
    "#Tokenizing, padding input language\n",
    "ita_token = Tokenizer(filters = '', lower=False)\n",
    "ita_token.fit_on_texts(ita_tr)\n",
    "ita_tokenized = ita_token.texts_to_sequences(ita_tr)\n",
    "ita_padded = pad_sequences(ita_tokenized, padding='post')"
   ]
  },
  {
   "cell_type": "code",
   "execution_count": null,
   "id": "pV30rpxl6GpR",
   "metadata": {
    "id": "pV30rpxl6GpR"
   },
   "outputs": [],
   "source": [
    "#tokenizing and padding target language\n",
    "eng_it_token = Tokenizer(filters = '', lower = False)\n",
    "eng_it_token.fit_on_texts(eng_it_tr)\n",
    "eng_it_tokenized = eng_it_token.texts_to_sequences(eng_it_tr)\n",
    "eng_it_padded = pad_sequences(eng_it_tokenized, padding='post')"
   ]
  },
  {
   "cell_type": "code",
   "execution_count": null,
   "id": "gv-EvQew6GuS",
   "metadata": {
    "id": "gv-EvQew6GuS"
   },
   "outputs": [],
   "source": [
    "#get vocab size, sequence length\n",
    "num_ip_tokens = len(ita_token.word_index) #Italian\n",
    "num_op_tokens = len(eng_it_token.word_index) #English\n",
    "max_len_ip = ita_padded.shape[1] #Italian\n",
    "max_len_op = eng_it_padded.shape[1] #English"
   ]
  },
  {
   "cell_type": "code",
   "execution_count": null,
   "id": "zNBW2p3b6jyW",
   "metadata": {
    "id": "zNBW2p3b6jyW"
   },
   "outputs": [],
   "source": [
    "#Create tf.data dataset for Italian and set constants\n",
    "BUFFER_SIZE = len(ita_padded)\n",
    "BATCH_SIZE = 64\n",
    "N_BATCH = BUFFER_SIZE // BATCH_SIZE\n",
    "embedding_dim = 256\n",
    "units = 512\n",
    "\n",
    "dataset_it = tf.data.Dataset.from_tensor_slices((ita_padded, eng_it_padded)).shuffle(BUFFER_SIZE)\n",
    "dataset_it = dataset_it.batch(BATCH_SIZE, drop_remainder=True)"
   ]
  },
  {
   "cell_type": "code",
   "execution_count": null,
   "id": "iND9j3vs6j4x",
   "metadata": {
    "id": "iND9j3vs6j4x"
   },
   "outputs": [],
   "source": [
    "#Create encoder and decoder\n",
    "encoder = Encoder(num_ip_tokens + 1, embedding_dim, units, BATCH_SIZE)\n",
    "decoder = Decoder(num_op_tokens + 1, embedding_dim, units, BATCH_SIZE)"
   ]
  },
  {
   "cell_type": "code",
   "execution_count": null,
   "id": "XibFewjA6j74",
   "metadata": {
    "id": "XibFewjA6j74"
   },
   "outputs": [],
   "source": [
    "#Define optimizer and loss function for Italian\n",
    "optimizer_it = tf.keras.optimizers.Adam()\n",
    "\n",
    "def loss_function_it(real, pred):\n",
    "  mask = 1 - np.equal(real, 0)\n",
    "  loss_ = tf.nn.sparse_softmax_cross_entropy_with_logits(labels = real, logits = pred)*mask\n",
    "  return tf.reduce_mean(loss_)\n",
    "#Create checkpoint for Italian\n",
    "checkpoint_dir_it = '/content/drive/MyDrive/ItalianToEnglish/CheckPoint'\n",
    "checkpoint_prefix_it = os.path.join(checkpoint_dir_it, 'ckpt')\n",
    "checkpoint_it = Checkpoint(optimizer=optimizer_it, encoder=encoder, decoder=decoder)"
   ]
  },
  {
   "cell_type": "code",
   "execution_count": null,
   "id": "oUzAOCBS6j__",
   "metadata": {
    "colab": {
     "base_uri": "https://localhost:8080/"
    },
    "id": "oUzAOCBS6j__",
    "outputId": "0a6b76d9-88fe-4d37-816f-210165b86f9c"
   },
   "outputs": [
    {
     "name": "stdout",
     "output_type": "stream",
     "text": [
      "Epoch 1 Batch 0 Loss 4.4459\n",
      "Epoch 1 Loss 2.6251\n",
      "Time taken for 1 epoch 0.25 minutes\n",
      "\n",
      "Epoch 2 Batch 0 Loss 2.1340\n",
      "Epoch 2 Loss 2.0128\n",
      "Time taken for 1 epoch 0.25 minutes\n",
      "\n",
      "Epoch 3 Batch 0 Loss 1.7311\n",
      "Epoch 3 Loss 1.7045\n",
      "Time taken for 1 epoch 0.25 minutes\n",
      "\n",
      "Epoch 4 Batch 0 Loss 1.6175\n",
      "Epoch 4 Loss 1.4323\n",
      "Time taken for 1 epoch 0.25 minutes\n",
      "\n",
      "Epoch 5 Batch 0 Loss 1.2799\n",
      "Epoch 5 Loss 1.2008\n",
      "Time taken for 1 epoch 0.26 minutes\n",
      "\n",
      "Epoch 6 Batch 0 Loss 1.0263\n",
      "Epoch 6 Loss 0.9968\n",
      "Time taken for 1 epoch 0.25 minutes\n",
      "\n",
      "Epoch 7 Batch 0 Loss 0.8044\n",
      "Epoch 7 Loss 0.8147\n",
      "Time taken for 1 epoch 0.25 minutes\n",
      "\n",
      "Epoch 8 Batch 0 Loss 0.6661\n",
      "Epoch 8 Loss 0.6479\n",
      "Time taken for 1 epoch 0.25 minutes\n",
      "\n",
      "Epoch 9 Batch 0 Loss 0.4516\n",
      "Epoch 9 Loss 0.5072\n",
      "Time taken for 1 epoch 0.25 minutes\n",
      "\n",
      "Epoch 10 Batch 0 Loss 0.3869\n",
      "Epoch 10 Loss 0.3812\n",
      "Time taken for 1 epoch 0.25 minutes\n",
      "\n",
      "Epoch 11 Batch 0 Loss 0.2645\n",
      "Epoch 11 Loss 0.2854\n",
      "Time taken for 1 epoch 0.25 minutes\n",
      "\n",
      "Epoch 12 Batch 0 Loss 0.2063\n",
      "Epoch 12 Loss 0.2136\n",
      "Time taken for 1 epoch 0.26 minutes\n",
      "\n",
      "Epoch 13 Batch 0 Loss 0.1200\n",
      "Epoch 13 Loss 0.1617\n",
      "Time taken for 1 epoch 0.25 minutes\n",
      "\n",
      "Epoch 14 Batch 0 Loss 0.1282\n",
      "Epoch 14 Loss 0.1245\n",
      "Time taken for 1 epoch 0.25 minutes\n",
      "\n",
      "Epoch 15 Batch 0 Loss 0.0890\n",
      "Epoch 15 Loss 0.1013\n",
      "Time taken for 1 epoch 0.25 minutes\n",
      "\n",
      "Epoch 16 Batch 0 Loss 0.0827\n",
      "Epoch 16 Loss 0.0854\n",
      "Time taken for 1 epoch 0.25 minutes\n",
      "\n",
      "Epoch 17 Batch 0 Loss 0.0817\n",
      "Epoch 17 Loss 0.0743\n",
      "Time taken for 1 epoch 0.25 minutes\n",
      "\n",
      "Epoch 18 Batch 0 Loss 0.0450\n",
      "Epoch 18 Loss 0.0671\n",
      "Time taken for 1 epoch 0.26 minutes\n",
      "\n",
      "Epoch 19 Batch 0 Loss 0.0475\n",
      "Epoch 19 Loss 0.0643\n",
      "Time taken for 1 epoch 0.25 minutes\n",
      "\n",
      "Epoch 20 Batch 0 Loss 0.0484\n",
      "Epoch 20 Loss 0.0612\n",
      "Time taken for 1 epoch 0.26 minutes\n",
      "\n"
     ]
    }
   ],
   "source": [
    "#Train Italian model\n",
    "EPOCH = 20\n",
    "for epoch in range(EPOCH) :\n",
    "  start = time.time()\n",
    "  #Getting initial encoder states (all zeros)\n",
    "  hidden = encoder.initial_hidden_state()\n",
    "  total_loss = 0\n",
    "  for (batch, (inp, targ)) in enumerate(dataset_it) :\n",
    "    loss = 0\n",
    "    with tf.GradientTape() as tape :\n",
    "      enc_output , enc_hidden = encoder(inp, hidden)\n",
    "      #Setting final encoder states as initial decoder states\n",
    "      dec_hidden = enc_hidden\n",
    "      # Teacher forcing - feeding the target as the next input\n",
    "      #Passing '<start>' token as initial token\n",
    "      dec_input = tf.expand_dims([eng_token.word_index['<start>']]*BATCH_SIZE, 1)\n",
    "      for t in range(1, targ.shape[1]) :\n",
    "        # passing enc_output to the decoder\n",
    "        predictions, dec_hidden, _ = decoder(dec_input, dec_hidden, enc_output)\n",
    "        loss += loss_function_it(targ[:,t], predictions)\n",
    "        # using teacher forcing\n",
    "        dec_input = tf.expand_dims(targ[:,t], 1)\n",
    "    batch_loss = (loss / int(targ.shape[1]))\n",
    "    total_loss += batch_loss        \n",
    "    variables = encoder.variables + decoder.variables\n",
    "    gradients = tape.gradient(loss, variables)\n",
    "    optimizer_it.apply_gradients(zip(gradients, variables))\n",
    "    if batch % 1000 == 0 :\n",
    "      print('Epoch {} Batch {} Loss {:.4f}'.format(epoch + 1, batch, batch_loss.numpy()))\n",
    "    # saving (checkpoint)  the model every 2 epochs\n",
    "  if (epoch + 1)%2 == 0 :\n",
    "    checkpoint_it.save(file_prefix=checkpoint_prefix_it)\n",
    "  print('Epoch {} Loss {:.4f}'.format(epoch + 1, total_loss / N_BATCH))\n",
    "  print('Time taken for 1 epoch {0:0.2f} minutes\\n'.format((time.time() - start)/60))"
   ]
  },
  {
   "cell_type": "markdown",
   "id": "PwbUZcXQ87fL",
   "metadata": {
    "id": "PwbUZcXQ87fL"
   },
   "source": [
    "### Italian Final Model Metrics"
   ]
  },
  {
   "cell_type": "code",
   "execution_count": null,
   "id": "vI41Vp_09HWh",
   "metadata": {
    "colab": {
     "base_uri": "https://localhost:8080/"
    },
    "id": "vI41Vp_09HWh",
    "outputId": "0470bb08-25d1-433f-9046-1e01dde03302"
   },
   "outputs": [
    {
     "name": "stderr",
     "output_type": "stream",
     "text": [
      "/usr/local/lib/python3.7/dist-packages/nltk/translate/bleu_score.py:490: UserWarning: \n",
      "Corpus/Sentence contains 0 counts of 2-gram overlaps.\n",
      "BLEU scores might be undesirable; use SmoothingFunction().\n",
      "  warnings.warn(_msg)\n"
     ]
    }
   ],
   "source": [
    "#Obtain average BLEU score for Italian on the test data\n",
    "bleuScoreMeanIta, referencesIt2, hypothesesIt2 = evaluate_test_model2(ita_te, eng_it_te, encoder, decoder, ita_token, eng_it_token, max_len_ip, max_len_op)"
   ]
  },
  {
   "cell_type": "code",
   "execution_count": null,
   "id": "GNdH3HIM9HaO",
   "metadata": {
    "colab": {
     "base_uri": "https://localhost:8080/"
    },
    "id": "GNdH3HIM9HaO",
    "outputId": "a3d89f36-a227-4a54-ba02-76d9001146dd"
   },
   "outputs": [
    {
     "name": "stdout",
     "output_type": "stream",
     "text": [
      "Average BLEU score on test data for Italian model 2:  0.792876516160249\n"
     ]
    }
   ],
   "source": [
    "print(\"Average BLEU score on test data for Italian model 2: \", bleuScoreMeanIta)"
   ]
  },
  {
   "cell_type": "code",
   "execution_count": null,
   "id": "IzaVX_xSGb7J",
   "metadata": {
    "colab": {
     "base_uri": "https://localhost:8080/"
    },
    "id": "IzaVX_xSGb7J",
    "outputId": "440b11e5-2b2d-442c-b2c9-d5eaef4b55dc"
   },
   "outputs": [
    {
     "name": "stdout",
     "output_type": "stream",
     "text": [
      "{'rouge-1': {'f': 0.24195681536891792, 'p': 0.34045833333333336, 'r': 0.1899333333333319}, 'rouge-2': {'f': 0.0855357134836203, 'p': 0.14287500000000003, 'r': 0.06199999999999993}, 'rouge-l': {'f': 0.24251991061145184, 'p': 0.3425333333333333, 'r': 0.1899333333333319}}\n"
     ]
    }
   ],
   "source": [
    "#Get ROUGE scores.\n",
    "rouge = Rouge()\n",
    "scores_it_2 = rouge.get_scores(hypothesesIt2, referencesIt2, avg = True)\n",
    "print(scores_it_2)"
   ]
  },
  {
   "cell_type": "markdown",
   "id": "8pgkamwMDtBt",
   "metadata": {
    "id": "8pgkamwMDtBt"
   },
   "source": [
    "# French Models"
   ]
  },
  {
   "cell_type": "markdown",
   "id": "iCVK7Rmg94Nf",
   "metadata": {
    "id": "iCVK7Rmg94Nf"
   },
   "source": [
    "## French Preprocessing"
   ]
  },
  {
   "cell_type": "code",
   "execution_count": null,
   "id": "z-elMUOJ97ui",
   "metadata": {
    "id": "z-elMUOJ97ui"
   },
   "outputs": [],
   "source": [
    "#Make sure this file is uploaded to your Google Drive in the same \n",
    "#folder as this notebook.\n",
    "french_path = '/content/gdrive/MyDrive/fra.txt'"
   ]
  },
  {
   "cell_type": "code",
   "execution_count": null,
   "id": "q0VyRxHH3dV7",
   "metadata": {
    "id": "q0VyRxHH3dV7"
   },
   "outputs": [],
   "source": [
    "#load French data\n",
    "data = read_text(french_path)\n",
    "fra_eng = to_lines(data)\n",
    "fra_eng = array(fra_eng)"
   ]
  },
  {
   "cell_type": "code",
   "execution_count": null,
   "id": "PGnu6wax4W1u",
   "metadata": {
    "id": "PGnu6wax4W1u"
   },
   "outputs": [],
   "source": [
    "#get manageable sample\n",
    "fra_eng = fra_eng[:10000,:]"
   ]
  },
  {
   "cell_type": "code",
   "execution_count": null,
   "id": "ZblChkSg4cZT",
   "metadata": {
    "id": "ZblChkSg4cZT"
   },
   "outputs": [],
   "source": [
    "#Remove punctuation\n",
    "fra_eng[:,0] = [s.translate(str.maketrans('','', string.punctuation)) for s in fra_eng[:,0]]\n",
    "fra_eng[:,1] = [s.translate(str.maketrans('','', string.punctuation)) for s in fra_eng[:,1]]"
   ]
  },
  {
   "cell_type": "code",
   "execution_count": null,
   "id": "2CT4Rqfj4cfK",
   "metadata": {
    "id": "2CT4Rqfj4cfK"
   },
   "outputs": [],
   "source": [
    "#Convert to lowercase.\n",
    "for i in range(len(fra_eng)):\n",
    "    fra_eng[i,0]=fra_eng[i,0].lower()\n",
    "    fra_eng[i,1]=fra_eng[i,1].lower()"
   ]
  },
  {
   "cell_type": "code",
   "execution_count": null,
   "id": "Zefgz5K3bS0V",
   "metadata": {
    "colab": {
     "base_uri": "https://localhost:8080/"
    },
    "id": "Zefgz5K3bS0V",
    "outputId": "649e03fb-49a3-4500-911c-2d3d9fa21941"
   },
   "outputs": [
    {
     "name": "stdout",
     "output_type": "stream",
     "text": [
      "27016 English words/tokens in English-French corpus, sample\n",
      "2063 unique English words/tokens in English-French corpus, sample\n",
      "10 most common English word in the English-French sample corpus, stop words included:\n",
      "\"\"i\" \"it\" \"tom\" \"you\" \"im\" \"a\" \"is\" \"me\" \"he\" \"go\"\n",
      "30576 French words/tokens in English-French sample corpus\n",
      "4518 unique French words/tokens in English-French sample corpus\n",
      "10 most common French words in the English-French sample corpus, stop words included:\n",
      "\"je\" \"tom\" \"suis\" \"nous\" \"il\" \"pas\" \"cest\" \"vous\" \"est\" \"jai\"\n"
     ]
    }
   ],
   "source": [
    "#Analyze vocabulary of French dataset.\n",
    "french_words_counter = collections.Counter([word for sentence in fra_eng[:,1] for word in sentence.split()])\n",
    "english_words_counter_fra = collections.Counter([word for sentence in fra_eng[:,0] for word in sentence.split()])\n",
    "print('{} English words/tokens in English-French corpus, sample'.format(len([word for sentence in fra_eng[:,0]\n",
    "                                                                     for word in sentence.split()])))\n",
    "print('{} unique English words/tokens in English-French corpus, sample'.format(len(english_words_counter_fra)))\n",
    "print('10 most common English word in the English-French sample corpus, stop words included:')\n",
    "print('\"\"'+'\" \"'.join(list(zip(*english_words_counter_fra.most_common(10)))[0])+'\"')\n",
    "print('{} French words/tokens in English-French sample corpus'.format(len([word for sentence in fra_eng[:,1] \n",
    "                                                                   for word in sentence.split()])))\n",
    "print('{} unique French words/tokens in English-French sample corpus'.format(len(french_words_counter)))\n",
    "print('10 most common French words in the English-French sample corpus, stop words included:')\n",
    "print('\"'+'\" \"'.join(list(zip(*french_words_counter.most_common(10)))[0])+'\"')"
   ]
  },
  {
   "cell_type": "code",
   "execution_count": null,
   "id": "aYfOe7mqbS5T",
   "metadata": {
    "id": "aYfOe7mqbS5T"
   },
   "outputs": [],
   "source": [
    "#create empty lists\n",
    "eng_l_fra_sample = []\n",
    "fra_l_sample = []\n",
    "#populate lists w/ sentence lengths\n",
    "for i in fra_eng[:,0]:\n",
    "    eng_l_fra_sample.append(len(i.split()))\n",
    "for i in fra_eng[:,1]:\n",
    "    fra_l_sample.append(len(i.split()))"
   ]
  },
  {
   "cell_type": "code",
   "execution_count": null,
   "id": "wwpqjBu3bS-y",
   "metadata": {
    "colab": {
     "base_uri": "https://localhost:8080/"
    },
    "id": "wwpqjBu3bS-y",
    "outputId": "a1d302d8-38cc-4bd9-a486-956af9157a19"
   },
   "outputs": [
    {
     "name": "stdout",
     "output_type": "stream",
     "text": [
      "                  0\n",
      "count  10000.000000\n",
      "mean       2.701600\n",
      "std        0.667085\n",
      "min        1.000000\n",
      "25%        2.000000\n",
      "50%        3.000000\n",
      "75%        3.000000\n",
      "max        5.000000\n",
      "Average English sentence length in English-French sample corpus:  2.7016\n",
      "                  0\n",
      "count  10000.000000\n",
      "mean       3.057600\n",
      "std        1.175083\n",
      "min        1.000000\n",
      "25%        2.000000\n",
      "50%        3.000000\n",
      "75%        4.000000\n",
      "max       10.000000\n",
      "Average French sentence length in English-French sample corpus:  3.0576\n"
     ]
    }
   ],
   "source": [
    "#Display descriptive statistics for English and French sentence lengths\n",
    "df_eng_fra_l_sample = pd.DataFrame(eng_l_fra_sample)\n",
    "print(df_eng_fra_l_sample.describe())\n",
    "print(\"Average English sentence length in English-French sample corpus: \",statistics.mean(df_eng_fra_l_sample.iloc[:,0]))\n",
    "\n",
    "df_fra_l_sample = pd.DataFrame(fra_l_sample)\n",
    "print(df_fra_l_sample.describe())\n",
    "print(\"Average French sentence length in English-French sample corpus: \", statistics.mean(df_fra_l_sample.iloc[:,0]))"
   ]
  },
  {
   "cell_type": "code",
   "execution_count": null,
   "id": "9pkGaYwRbTEF",
   "metadata": {
    "id": "9pkGaYwRbTEF"
   },
   "outputs": [],
   "source": [
    "#create length dataframe\n",
    "length_df_fra_sample = pd.DataFrame({'eng':eng_l_fra_sample, 'fra':fra_l_sample})"
   ]
  },
  {
   "cell_type": "code",
   "execution_count": null,
   "id": "EAPSGFPVc2bR",
   "metadata": {
    "colab": {
     "base_uri": "https://localhost:8080/",
     "height": 281
    },
    "id": "EAPSGFPVc2bR",
    "outputId": "dfeb19f9-7610-48f2-f3e5-18ad8b73ccca"
   },
   "outputs": [
    {
     "data": {
      "image/png": "[encoded data removed]",
      "text/plain": [
       "<Figure size 432x288 with 2 Axes>"
      ]
     },
     "metadata": {
      "needs_background": "light",
      "tags": []
     },
     "output_type": "display_data"
    }
   ],
   "source": [
    "#examine distribution of lengths\n",
    "length_df_fra_sample.hist(bins=30)\n",
    "plt.show()"
   ]
  },
  {
   "cell_type": "code",
   "execution_count": null,
   "id": "qAogp4L74cjf",
   "metadata": {
    "colab": {
     "base_uri": "https://localhost:8080/"
    },
    "id": "qAogp4L74cjf",
    "outputId": "924c4880-3c40-465b-fea7-d0096b36b373"
   },
   "outputs": [
    {
     "name": "stdout",
     "output_type": "stream",
     "text": [
      "English vocabulary size: 2064\n"
     ]
    }
   ],
   "source": [
    "#prep english tokenizer for french translation\n",
    "eng_fr_tokenizer = tokenization(fra_eng[:,0])\n",
    "#get english vocab size for french translation\n",
    "eng_fr_vocab_size = len(eng_fr_tokenizer.word_index)+1\n",
    "eng_fr_length = max_length(fra_eng[:,0])\n",
    "print(\"English vocabulary size: %d\" % eng_fr_vocab_size)"
   ]
  },
  {
   "cell_type": "code",
   "execution_count": null,
   "id": "pwJkxYAw4cnw",
   "metadata": {
    "colab": {
     "base_uri": "https://localhost:8080/"
    },
    "id": "pwJkxYAw4cnw",
    "outputId": "8108377c-d26f-4a1d-b2e7-a1ecaa2cc185"
   },
   "outputs": [
    {
     "name": "stdout",
     "output_type": "stream",
     "text": [
      "French Vocabulary Size: 4769\n"
     ]
    }
   ],
   "source": [
    "#prepare french tokenizer\n",
    "fra_tokenizer = tokenization(fra_eng[:, 1])\n",
    "fra_vocab_size = len(fra_tokenizer.word_index) + 1\n",
    "\n",
    "fra_length = max_length(fra_eng[:,1])\n",
    "print('French Vocabulary Size: %d' % fra_vocab_size)"
   ]
  },
  {
   "cell_type": "markdown",
   "id": "emsHAe7y5BUm",
   "metadata": {
    "id": "emsHAe7y5BUm"
   },
   "source": [
    "## French Baseline Model"
   ]
  },
  {
   "cell_type": "code",
   "execution_count": null,
   "id": "5zWl8QaN8yuA",
   "metadata": {
    "id": "5zWl8QaN8yuA"
   },
   "outputs": [],
   "source": [
    "#Get training, test data\n",
    "trainFra, testFra = train_test_split(fra_eng, test_size=0.2, random_state=12)"
   ]
  },
  {
   "cell_type": "code",
   "execution_count": null,
   "id": "H7CIBJTS8yyY",
   "metadata": {
    "id": "H7CIBJTS8yyY"
   },
   "outputs": [],
   "source": [
    "#prepare training data\n",
    "trainFrenchX = encode_sequences(fra_tokenizer, fra_length, trainFra[:,1])\n",
    "trainEnglishFrenchY = encode_sequences(eng_fr_tokenizer, eng_fr_length, trainFra[:,0])"
   ]
  },
  {
   "cell_type": "code",
   "execution_count": null,
   "id": "RUwuOkYA8zAM",
   "metadata": {
    "id": "RUwuOkYA8zAM"
   },
   "outputs": [],
   "source": [
    "#prepare test data\n",
    "testFrenchX = encode_sequences(fra_tokenizer, fra_length, testFra[:,1])\n",
    "testEnglishFrenchY=encode_sequences(eng_fr_tokenizer, eng_fr_length, testFra[:,0])"
   ]
  },
  {
   "cell_type": "code",
   "execution_count": null,
   "id": "Nw7wmefg8zEF",
   "metadata": {
    "colab": {
     "base_uri": "https://localhost:8080/"
    },
    "id": "Nw7wmefg8zEF",
    "outputId": "e1895c27-ba9c-4f23-b6ec-06a69f80a5ca"
   },
   "outputs": [
    {
     "name": "stdout",
     "output_type": "stream",
     "text": [
      "Model: \"sequential_2\"\n",
      "_________________________________________________________________\n",
      "Layer (type)                 Output Shape              Param #   \n",
      "=================================================================\n",
      "embedding_6 (Embedding)      (None, 10, 512)           2441728   \n",
      "_________________________________________________________________\n",
      "lstm_4 (LSTM)                (None, 512)               2099200   \n",
      "_________________________________________________________________\n",
      "repeat_vector_2 (RepeatVecto (None, 5, 512)            0         \n",
      "_________________________________________________________________\n",
      "lstm_5 (LSTM)                (None, 5, 512)            2099200   \n",
      "_________________________________________________________________\n",
      "dense_10 (Dense)             (None, 5, 2064)           1058832   \n",
      "=================================================================\n",
      "Total params: 7,698,960\n",
      "Trainable params: 7,698,960\n",
      "Non-trainable params: 0\n",
      "_________________________________________________________________\n"
     ]
    }
   ],
   "source": [
    "#Build model\n",
    "model_fr_1 = build_model1(fra_vocab_size, eng_fr_vocab_size, fra_length, eng_fr_length, 512)\n",
    "model_fr_1.summary()\n",
    "rms_fr_1 = optimizers.RMSprop(lr=0.001)\n",
    "model_fr_1.compile(optimizer=rms_fr_1, loss='sparse_categorical_crossentropy', metrics = ['accuracy'])"
   ]
  },
  {
   "cell_type": "code",
   "execution_count": null,
   "id": "kb8oq2qb8zI2",
   "metadata": {
    "colab": {
     "base_uri": "https://localhost:8080/"
    },
    "id": "kb8oq2qb8zI2",
    "outputId": "a877ec5d-178f-441e-963a-87e98b64bf46"
   },
   "outputs": [
    {
     "name": "stdout",
     "output_type": "stream",
     "text": [
      "Epoch 1/30\n",
      "13/13 [==============================] - 7s 167ms/step - loss: 6.1489 - accuracy: 0.3526 - val_loss: 3.9340 - val_accuracy: 0.4796\n",
      "\n",
      "Epoch 00001: val_loss improved from inf to 3.93396, saving model to model.h1.1_may_21_model1\n"
     ]
    },
    {
     "name": "stderr",
     "output_type": "stream",
     "text": [
      "WARNING:absl:Found untraced functions such as lstm_cell_8_layer_call_and_return_conditional_losses, lstm_cell_8_layer_call_fn, lstm_cell_9_layer_call_and_return_conditional_losses, lstm_cell_9_layer_call_fn, lstm_cell_8_layer_call_fn while saving (showing 5 of 10). These functions will not be directly callable after loading.\n",
      "WARNING:absl:Found untraced functions such as lstm_cell_8_layer_call_and_return_conditional_losses, lstm_cell_8_layer_call_fn, lstm_cell_9_layer_call_and_return_conditional_losses, lstm_cell_9_layer_call_fn, lstm_cell_8_layer_call_fn while saving (showing 5 of 10). These functions will not be directly callable after loading.\n"
     ]
    },
    {
     "name": "stdout",
     "output_type": "stream",
     "text": [
      "INFO:tensorflow:Assets written to: model.h1.1_may_21_model1/assets\n"
     ]
    },
    {
     "name": "stderr",
     "output_type": "stream",
     "text": [
      "INFO:tensorflow:Assets written to: model.h1.1_may_21_model1/assets\n"
     ]
    },
    {
     "name": "stdout",
     "output_type": "stream",
     "text": [
      "Epoch 2/30\n",
      "13/13 [==============================] - 1s 55ms/step - loss: 3.7393 - accuracy: 0.4862 - val_loss: 3.4403 - val_accuracy: 0.4985\n",
      "\n",
      "Epoch 00002: val_loss improved from 3.93396 to 3.44032, saving model to model.h1.1_may_21_model1\n"
     ]
    },
    {
     "name": "stderr",
     "output_type": "stream",
     "text": [
      "WARNING:absl:Found untraced functions such as lstm_cell_8_layer_call_and_return_conditional_losses, lstm_cell_8_layer_call_fn, lstm_cell_9_layer_call_and_return_conditional_losses, lstm_cell_9_layer_call_fn, lstm_cell_8_layer_call_fn while saving (showing 5 of 10). These functions will not be directly callable after loading.\n",
      "WARNING:absl:Found untraced functions such as lstm_cell_8_layer_call_and_return_conditional_losses, lstm_cell_8_layer_call_fn, lstm_cell_9_layer_call_and_return_conditional_losses, lstm_cell_9_layer_call_fn, lstm_cell_8_layer_call_fn while saving (showing 5 of 10). These functions will not be directly callable after loading.\n"
     ]
    },
    {
     "name": "stdout",
     "output_type": "stream",
     "text": [
      "INFO:tensorflow:Assets written to: model.h1.1_may_21_model1/assets\n"
     ]
    },
    {
     "name": "stderr",
     "output_type": "stream",
     "text": [
      "INFO:tensorflow:Assets written to: model.h1.1_may_21_model1/assets\n"
     ]
    },
    {
     "name": "stdout",
     "output_type": "stream",
     "text": [
      "Epoch 3/30\n",
      "13/13 [==============================] - 1s 55ms/step - loss: 3.3049 - accuracy: 0.4967 - val_loss: 3.2731 - val_accuracy: 0.5010\n",
      "\n",
      "Epoch 00003: val_loss improved from 3.44032 to 3.27313, saving model to model.h1.1_may_21_model1\n"
     ]
    },
    {
     "name": "stderr",
     "output_type": "stream",
     "text": [
      "WARNING:absl:Found untraced functions such as lstm_cell_8_layer_call_and_return_conditional_losses, lstm_cell_8_layer_call_fn, lstm_cell_9_layer_call_and_return_conditional_losses, lstm_cell_9_layer_call_fn, lstm_cell_8_layer_call_fn while saving (showing 5 of 10). These functions will not be directly callable after loading.\n",
      "WARNING:absl:Found untraced functions such as lstm_cell_8_layer_call_and_return_conditional_losses, lstm_cell_8_layer_call_fn, lstm_cell_9_layer_call_and_return_conditional_losses, lstm_cell_9_layer_call_fn, lstm_cell_8_layer_call_fn while saving (showing 5 of 10). These functions will not be directly callable after loading.\n"
     ]
    },
    {
     "name": "stdout",
     "output_type": "stream",
     "text": [
      "INFO:tensorflow:Assets written to: model.h1.1_may_21_model1/assets\n"
     ]
    },
    {
     "name": "stderr",
     "output_type": "stream",
     "text": [
      "INFO:tensorflow:Assets written to: model.h1.1_may_21_model1/assets\n"
     ]
    },
    {
     "name": "stdout",
     "output_type": "stream",
     "text": [
      "Epoch 4/30\n",
      "13/13 [==============================] - 1s 56ms/step - loss: 3.1393 - accuracy: 0.4993 - val_loss: 3.1813 - val_accuracy: 0.5025\n",
      "\n",
      "Epoch 00004: val_loss improved from 3.27313 to 3.18134, saving model to model.h1.1_may_21_model1\n"
     ]
    },
    {
     "name": "stderr",
     "output_type": "stream",
     "text": [
      "WARNING:absl:Found untraced functions such as lstm_cell_8_layer_call_and_return_conditional_losses, lstm_cell_8_layer_call_fn, lstm_cell_9_layer_call_and_return_conditional_losses, lstm_cell_9_layer_call_fn, lstm_cell_8_layer_call_fn while saving (showing 5 of 10). These functions will not be directly callable after loading.\n",
      "WARNING:absl:Found untraced functions such as lstm_cell_8_layer_call_and_return_conditional_losses, lstm_cell_8_layer_call_fn, lstm_cell_9_layer_call_and_return_conditional_losses, lstm_cell_9_layer_call_fn, lstm_cell_8_layer_call_fn while saving (showing 5 of 10). These functions will not be directly callable after loading.\n"
     ]
    },
    {
     "name": "stdout",
     "output_type": "stream",
     "text": [
      "INFO:tensorflow:Assets written to: model.h1.1_may_21_model1/assets\n"
     ]
    },
    {
     "name": "stderr",
     "output_type": "stream",
     "text": [
      "INFO:tensorflow:Assets written to: model.h1.1_may_21_model1/assets\n"
     ]
    },
    {
     "name": "stdout",
     "output_type": "stream",
     "text": [
      "Epoch 5/30\n",
      "13/13 [==============================] - 1s 55ms/step - loss: 3.0551 - accuracy: 0.5044 - val_loss: 3.1655 - val_accuracy: 0.5051\n",
      "\n",
      "Epoch 00005: val_loss improved from 3.18134 to 3.16549, saving model to model.h1.1_may_21_model1\n"
     ]
    },
    {
     "name": "stderr",
     "output_type": "stream",
     "text": [
      "WARNING:absl:Found untraced functions such as lstm_cell_8_layer_call_and_return_conditional_losses, lstm_cell_8_layer_call_fn, lstm_cell_9_layer_call_and_return_conditional_losses, lstm_cell_9_layer_call_fn, lstm_cell_8_layer_call_fn while saving (showing 5 of 10). These functions will not be directly callable after loading.\n",
      "WARNING:absl:Found untraced functions such as lstm_cell_8_layer_call_and_return_conditional_losses, lstm_cell_8_layer_call_fn, lstm_cell_9_layer_call_and_return_conditional_losses, lstm_cell_9_layer_call_fn, lstm_cell_8_layer_call_fn while saving (showing 5 of 10). These functions will not be directly callable after loading.\n"
     ]
    },
    {
     "name": "stdout",
     "output_type": "stream",
     "text": [
      "INFO:tensorflow:Assets written to: model.h1.1_may_21_model1/assets\n"
     ]
    },
    {
     "name": "stderr",
     "output_type": "stream",
     "text": [
      "INFO:tensorflow:Assets written to: model.h1.1_may_21_model1/assets\n"
     ]
    },
    {
     "name": "stdout",
     "output_type": "stream",
     "text": [
      "Epoch 6/30\n",
      "13/13 [==============================] - 1s 54ms/step - loss: 2.9842 - accuracy: 0.5065 - val_loss: 3.0916 - val_accuracy: 0.5079\n",
      "\n",
      "Epoch 00006: val_loss improved from 3.16549 to 3.09158, saving model to model.h1.1_may_21_model1\n"
     ]
    },
    {
     "name": "stderr",
     "output_type": "stream",
     "text": [
      "WARNING:absl:Found untraced functions such as lstm_cell_8_layer_call_and_return_conditional_losses, lstm_cell_8_layer_call_fn, lstm_cell_9_layer_call_and_return_conditional_losses, lstm_cell_9_layer_call_fn, lstm_cell_8_layer_call_fn while saving (showing 5 of 10). These functions will not be directly callable after loading.\n",
      "WARNING:absl:Found untraced functions such as lstm_cell_8_layer_call_and_return_conditional_losses, lstm_cell_8_layer_call_fn, lstm_cell_9_layer_call_and_return_conditional_losses, lstm_cell_9_layer_call_fn, lstm_cell_8_layer_call_fn while saving (showing 5 of 10). These functions will not be directly callable after loading.\n"
     ]
    },
    {
     "name": "stdout",
     "output_type": "stream",
     "text": [
      "INFO:tensorflow:Assets written to: model.h1.1_may_21_model1/assets\n"
     ]
    },
    {
     "name": "stderr",
     "output_type": "stream",
     "text": [
      "INFO:tensorflow:Assets written to: model.h1.1_may_21_model1/assets\n"
     ]
    },
    {
     "name": "stdout",
     "output_type": "stream",
     "text": [
      "Epoch 7/30\n",
      "13/13 [==============================] - 1s 56ms/step - loss: 2.9220 - accuracy: 0.5061 - val_loss: 3.0583 - val_accuracy: 0.5145\n",
      "\n",
      "Epoch 00007: val_loss improved from 3.09158 to 3.05833, saving model to model.h1.1_may_21_model1\n"
     ]
    },
    {
     "name": "stderr",
     "output_type": "stream",
     "text": [
      "WARNING:absl:Found untraced functions such as lstm_cell_8_layer_call_and_return_conditional_losses, lstm_cell_8_layer_call_fn, lstm_cell_9_layer_call_and_return_conditional_losses, lstm_cell_9_layer_call_fn, lstm_cell_8_layer_call_fn while saving (showing 5 of 10). These functions will not be directly callable after loading.\n",
      "WARNING:absl:Found untraced functions such as lstm_cell_8_layer_call_and_return_conditional_losses, lstm_cell_8_layer_call_fn, lstm_cell_9_layer_call_and_return_conditional_losses, lstm_cell_9_layer_call_fn, lstm_cell_8_layer_call_fn while saving (showing 5 of 10). These functions will not be directly callable after loading.\n"
     ]
    },
    {
     "name": "stdout",
     "output_type": "stream",
     "text": [
      "INFO:tensorflow:Assets written to: model.h1.1_may_21_model1/assets\n"
     ]
    },
    {
     "name": "stderr",
     "output_type": "stream",
     "text": [
      "INFO:tensorflow:Assets written to: model.h1.1_may_21_model1/assets\n"
     ]
    },
    {
     "name": "stdout",
     "output_type": "stream",
     "text": [
      "Epoch 8/30\n",
      "13/13 [==============================] - 1s 58ms/step - loss: 2.8557 - accuracy: 0.5128 - val_loss: 3.0281 - val_accuracy: 0.5131\n",
      "\n",
      "Epoch 00008: val_loss improved from 3.05833 to 3.02808, saving model to model.h1.1_may_21_model1\n"
     ]
    },
    {
     "name": "stderr",
     "output_type": "stream",
     "text": [
      "WARNING:absl:Found untraced functions such as lstm_cell_8_layer_call_and_return_conditional_losses, lstm_cell_8_layer_call_fn, lstm_cell_9_layer_call_and_return_conditional_losses, lstm_cell_9_layer_call_fn, lstm_cell_8_layer_call_fn while saving (showing 5 of 10). These functions will not be directly callable after loading.\n",
      "WARNING:absl:Found untraced functions such as lstm_cell_8_layer_call_and_return_conditional_losses, lstm_cell_8_layer_call_fn, lstm_cell_9_layer_call_and_return_conditional_losses, lstm_cell_9_layer_call_fn, lstm_cell_8_layer_call_fn while saving (showing 5 of 10). These functions will not be directly callable after loading.\n"
     ]
    },
    {
     "name": "stdout",
     "output_type": "stream",
     "text": [
      "INFO:tensorflow:Assets written to: model.h1.1_may_21_model1/assets\n"
     ]
    },
    {
     "name": "stderr",
     "output_type": "stream",
     "text": [
      "INFO:tensorflow:Assets written to: model.h1.1_may_21_model1/assets\n"
     ]
    },
    {
     "name": "stdout",
     "output_type": "stream",
     "text": [
      "Epoch 9/30\n",
      "13/13 [==============================] - 1s 55ms/step - loss: 2.8033 - accuracy: 0.5174 - val_loss: 3.0557 - val_accuracy: 0.5171\n",
      "\n",
      "Epoch 00009: val_loss did not improve from 3.02808\n",
      "Epoch 10/30\n",
      "13/13 [==============================] - 1s 46ms/step - loss: 2.7824 - accuracy: 0.5281 - val_loss: 2.9171 - val_accuracy: 0.5428\n",
      "\n",
      "Epoch 00010: val_loss improved from 3.02808 to 2.91714, saving model to model.h1.1_may_21_model1\n"
     ]
    },
    {
     "name": "stderr",
     "output_type": "stream",
     "text": [
      "WARNING:absl:Found untraced functions such as lstm_cell_8_layer_call_and_return_conditional_losses, lstm_cell_8_layer_call_fn, lstm_cell_9_layer_call_and_return_conditional_losses, lstm_cell_9_layer_call_fn, lstm_cell_8_layer_call_fn while saving (showing 5 of 10). These functions will not be directly callable after loading.\n",
      "WARNING:absl:Found untraced functions such as lstm_cell_8_layer_call_and_return_conditional_losses, lstm_cell_8_layer_call_fn, lstm_cell_9_layer_call_and_return_conditional_losses, lstm_cell_9_layer_call_fn, lstm_cell_8_layer_call_fn while saving (showing 5 of 10). These functions will not be directly callable after loading.\n"
     ]
    },
    {
     "name": "stdout",
     "output_type": "stream",
     "text": [
      "INFO:tensorflow:Assets written to: model.h1.1_may_21_model1/assets\n"
     ]
    },
    {
     "name": "stderr",
     "output_type": "stream",
     "text": [
      "INFO:tensorflow:Assets written to: model.h1.1_may_21_model1/assets\n"
     ]
    },
    {
     "name": "stdout",
     "output_type": "stream",
     "text": [
      "Epoch 11/30\n",
      "13/13 [==============================] - 1s 57ms/step - loss: 2.6467 - accuracy: 0.5403 - val_loss: 2.8357 - val_accuracy: 0.5450\n",
      "\n",
      "Epoch 00011: val_loss improved from 2.91714 to 2.83569, saving model to model.h1.1_may_21_model1\n"
     ]
    },
    {
     "name": "stderr",
     "output_type": "stream",
     "text": [
      "WARNING:absl:Found untraced functions such as lstm_cell_8_layer_call_and_return_conditional_losses, lstm_cell_8_layer_call_fn, lstm_cell_9_layer_call_and_return_conditional_losses, lstm_cell_9_layer_call_fn, lstm_cell_8_layer_call_fn while saving (showing 5 of 10). These functions will not be directly callable after loading.\n",
      "WARNING:absl:Found untraced functions such as lstm_cell_8_layer_call_and_return_conditional_losses, lstm_cell_8_layer_call_fn, lstm_cell_9_layer_call_and_return_conditional_losses, lstm_cell_9_layer_call_fn, lstm_cell_8_layer_call_fn while saving (showing 5 of 10). These functions will not be directly callable after loading.\n"
     ]
    },
    {
     "name": "stdout",
     "output_type": "stream",
     "text": [
      "INFO:tensorflow:Assets written to: model.h1.1_may_21_model1/assets\n"
     ]
    },
    {
     "name": "stderr",
     "output_type": "stream",
     "text": [
      "INFO:tensorflow:Assets written to: model.h1.1_may_21_model1/assets\n"
     ]
    },
    {
     "name": "stdout",
     "output_type": "stream",
     "text": [
      "Epoch 12/30\n",
      "13/13 [==============================] - 1s 57ms/step - loss: 2.5483 - accuracy: 0.5501 - val_loss: 2.8114 - val_accuracy: 0.5526\n",
      "\n",
      "Epoch 00012: val_loss improved from 2.83569 to 2.81145, saving model to model.h1.1_may_21_model1\n"
     ]
    },
    {
     "name": "stderr",
     "output_type": "stream",
     "text": [
      "WARNING:absl:Found untraced functions such as lstm_cell_8_layer_call_and_return_conditional_losses, lstm_cell_8_layer_call_fn, lstm_cell_9_layer_call_and_return_conditional_losses, lstm_cell_9_layer_call_fn, lstm_cell_8_layer_call_fn while saving (showing 5 of 10). These functions will not be directly callable after loading.\n",
      "WARNING:absl:Found untraced functions such as lstm_cell_8_layer_call_and_return_conditional_losses, lstm_cell_8_layer_call_fn, lstm_cell_9_layer_call_and_return_conditional_losses, lstm_cell_9_layer_call_fn, lstm_cell_8_layer_call_fn while saving (showing 5 of 10). These functions will not be directly callable after loading.\n"
     ]
    },
    {
     "name": "stdout",
     "output_type": "stream",
     "text": [
      "INFO:tensorflow:Assets written to: model.h1.1_may_21_model1/assets\n"
     ]
    },
    {
     "name": "stderr",
     "output_type": "stream",
     "text": [
      "INFO:tensorflow:Assets written to: model.h1.1_may_21_model1/assets\n"
     ]
    },
    {
     "name": "stdout",
     "output_type": "stream",
     "text": [
      "Epoch 13/30\n",
      "13/13 [==============================] - 1s 54ms/step - loss: 2.4808 - accuracy: 0.5567 - val_loss: 2.7631 - val_accuracy: 0.5560\n",
      "\n",
      "Epoch 00013: val_loss improved from 2.81145 to 2.76307, saving model to model.h1.1_may_21_model1\n"
     ]
    },
    {
     "name": "stderr",
     "output_type": "stream",
     "text": [
      "WARNING:absl:Found untraced functions such as lstm_cell_8_layer_call_and_return_conditional_losses, lstm_cell_8_layer_call_fn, lstm_cell_9_layer_call_and_return_conditional_losses, lstm_cell_9_layer_call_fn, lstm_cell_8_layer_call_fn while saving (showing 5 of 10). These functions will not be directly callable after loading.\n",
      "WARNING:absl:Found untraced functions such as lstm_cell_8_layer_call_and_return_conditional_losses, lstm_cell_8_layer_call_fn, lstm_cell_9_layer_call_and_return_conditional_losses, lstm_cell_9_layer_call_fn, lstm_cell_8_layer_call_fn while saving (showing 5 of 10). These functions will not be directly callable after loading.\n"
     ]
    },
    {
     "name": "stdout",
     "output_type": "stream",
     "text": [
      "INFO:tensorflow:Assets written to: model.h1.1_may_21_model1/assets\n"
     ]
    },
    {
     "name": "stderr",
     "output_type": "stream",
     "text": [
      "INFO:tensorflow:Assets written to: model.h1.1_may_21_model1/assets\n"
     ]
    },
    {
     "name": "stdout",
     "output_type": "stream",
     "text": [
      "Epoch 14/30\n",
      "13/13 [==============================] - 1s 54ms/step - loss: 2.3723 - accuracy: 0.5698 - val_loss: 2.7110 - val_accuracy: 0.5726\n",
      "\n",
      "Epoch 00014: val_loss improved from 2.76307 to 2.71104, saving model to model.h1.1_may_21_model1\n"
     ]
    },
    {
     "name": "stderr",
     "output_type": "stream",
     "text": [
      "WARNING:absl:Found untraced functions such as lstm_cell_8_layer_call_and_return_conditional_losses, lstm_cell_8_layer_call_fn, lstm_cell_9_layer_call_and_return_conditional_losses, lstm_cell_9_layer_call_fn, lstm_cell_8_layer_call_fn while saving (showing 5 of 10). These functions will not be directly callable after loading.\n",
      "WARNING:absl:Found untraced functions such as lstm_cell_8_layer_call_and_return_conditional_losses, lstm_cell_8_layer_call_fn, lstm_cell_9_layer_call_and_return_conditional_losses, lstm_cell_9_layer_call_fn, lstm_cell_8_layer_call_fn while saving (showing 5 of 10). These functions will not be directly callable after loading.\n"
     ]
    },
    {
     "name": "stdout",
     "output_type": "stream",
     "text": [
      "INFO:tensorflow:Assets written to: model.h1.1_may_21_model1/assets\n"
     ]
    },
    {
     "name": "stderr",
     "output_type": "stream",
     "text": [
      "INFO:tensorflow:Assets written to: model.h1.1_may_21_model1/assets\n"
     ]
    },
    {
     "name": "stdout",
     "output_type": "stream",
     "text": [
      "Epoch 15/30\n",
      "13/13 [==============================] - 1s 54ms/step - loss: 2.3156 - accuracy: 0.5731 - val_loss: 2.6713 - val_accuracy: 0.5765\n",
      "\n",
      "Epoch 00015: val_loss improved from 2.71104 to 2.67127, saving model to model.h1.1_may_21_model1\n"
     ]
    },
    {
     "name": "stderr",
     "output_type": "stream",
     "text": [
      "WARNING:absl:Found untraced functions such as lstm_cell_8_layer_call_and_return_conditional_losses, lstm_cell_8_layer_call_fn, lstm_cell_9_layer_call_and_return_conditional_losses, lstm_cell_9_layer_call_fn, lstm_cell_8_layer_call_fn while saving (showing 5 of 10). These functions will not be directly callable after loading.\n",
      "WARNING:absl:Found untraced functions such as lstm_cell_8_layer_call_and_return_conditional_losses, lstm_cell_8_layer_call_fn, lstm_cell_9_layer_call_and_return_conditional_losses, lstm_cell_9_layer_call_fn, lstm_cell_8_layer_call_fn while saving (showing 5 of 10). These functions will not be directly callable after loading.\n"
     ]
    },
    {
     "name": "stdout",
     "output_type": "stream",
     "text": [
      "INFO:tensorflow:Assets written to: model.h1.1_may_21_model1/assets\n"
     ]
    },
    {
     "name": "stderr",
     "output_type": "stream",
     "text": [
      "INFO:tensorflow:Assets written to: model.h1.1_may_21_model1/assets\n"
     ]
    },
    {
     "name": "stdout",
     "output_type": "stream",
     "text": [
      "Epoch 16/30\n",
      "13/13 [==============================] - 1s 56ms/step - loss: 2.2305 - accuracy: 0.5863 - val_loss: 2.6247 - val_accuracy: 0.5809\n",
      "\n",
      "Epoch 00016: val_loss improved from 2.67127 to 2.62472, saving model to model.h1.1_may_21_model1\n"
     ]
    },
    {
     "name": "stderr",
     "output_type": "stream",
     "text": [
      "WARNING:absl:Found untraced functions such as lstm_cell_8_layer_call_and_return_conditional_losses, lstm_cell_8_layer_call_fn, lstm_cell_9_layer_call_and_return_conditional_losses, lstm_cell_9_layer_call_fn, lstm_cell_8_layer_call_fn while saving (showing 5 of 10). These functions will not be directly callable after loading.\n",
      "WARNING:absl:Found untraced functions such as lstm_cell_8_layer_call_and_return_conditional_losses, lstm_cell_8_layer_call_fn, lstm_cell_9_layer_call_and_return_conditional_losses, lstm_cell_9_layer_call_fn, lstm_cell_8_layer_call_fn while saving (showing 5 of 10). These functions will not be directly callable after loading.\n"
     ]
    },
    {
     "name": "stdout",
     "output_type": "stream",
     "text": [
      "INFO:tensorflow:Assets written to: model.h1.1_may_21_model1/assets\n"
     ]
    },
    {
     "name": "stderr",
     "output_type": "stream",
     "text": [
      "INFO:tensorflow:Assets written to: model.h1.1_may_21_model1/assets\n"
     ]
    },
    {
     "name": "stdout",
     "output_type": "stream",
     "text": [
      "Epoch 17/30\n",
      "13/13 [==============================] - 1s 57ms/step - loss: 2.1437 - accuracy: 0.5978 - val_loss: 2.6373 - val_accuracy: 0.5867\n",
      "\n",
      "Epoch 00017: val_loss did not improve from 2.62472\n",
      "Epoch 18/30\n",
      "13/13 [==============================] - 1s 47ms/step - loss: 2.0926 - accuracy: 0.6061 - val_loss: 2.6386 - val_accuracy: 0.5911\n",
      "\n",
      "Epoch 00018: val_loss did not improve from 2.62472\n",
      "Epoch 19/30\n",
      "13/13 [==============================] - 1s 46ms/step - loss: 2.0282 - accuracy: 0.6130 - val_loss: 2.5680 - val_accuracy: 0.5965\n",
      "\n",
      "Epoch 00019: val_loss improved from 2.62472 to 2.56796, saving model to model.h1.1_may_21_model1\n"
     ]
    },
    {
     "name": "stderr",
     "output_type": "stream",
     "text": [
      "WARNING:absl:Found untraced functions such as lstm_cell_8_layer_call_and_return_conditional_losses, lstm_cell_8_layer_call_fn, lstm_cell_9_layer_call_and_return_conditional_losses, lstm_cell_9_layer_call_fn, lstm_cell_8_layer_call_fn while saving (showing 5 of 10). These functions will not be directly callable after loading.\n",
      "WARNING:absl:Found untraced functions such as lstm_cell_8_layer_call_and_return_conditional_losses, lstm_cell_8_layer_call_fn, lstm_cell_9_layer_call_and_return_conditional_losses, lstm_cell_9_layer_call_fn, lstm_cell_8_layer_call_fn while saving (showing 5 of 10). These functions will not be directly callable after loading.\n"
     ]
    },
    {
     "name": "stdout",
     "output_type": "stream",
     "text": [
      "INFO:tensorflow:Assets written to: model.h1.1_may_21_model1/assets\n"
     ]
    },
    {
     "name": "stderr",
     "output_type": "stream",
     "text": [
      "INFO:tensorflow:Assets written to: model.h1.1_may_21_model1/assets\n"
     ]
    },
    {
     "name": "stdout",
     "output_type": "stream",
     "text": [
      "Epoch 20/30\n",
      "13/13 [==============================] - 1s 57ms/step - loss: 1.9469 - accuracy: 0.6216 - val_loss: 2.5027 - val_accuracy: 0.6094\n",
      "\n",
      "Epoch 00020: val_loss improved from 2.56796 to 2.50267, saving model to model.h1.1_may_21_model1\n"
     ]
    },
    {
     "name": "stderr",
     "output_type": "stream",
     "text": [
      "WARNING:absl:Found untraced functions such as lstm_cell_8_layer_call_and_return_conditional_losses, lstm_cell_8_layer_call_fn, lstm_cell_9_layer_call_and_return_conditional_losses, lstm_cell_9_layer_call_fn, lstm_cell_8_layer_call_fn while saving (showing 5 of 10). These functions will not be directly callable after loading.\n",
      "WARNING:absl:Found untraced functions such as lstm_cell_8_layer_call_and_return_conditional_losses, lstm_cell_8_layer_call_fn, lstm_cell_9_layer_call_and_return_conditional_losses, lstm_cell_9_layer_call_fn, lstm_cell_8_layer_call_fn while saving (showing 5 of 10). These functions will not be directly callable after loading.\n"
     ]
    },
    {
     "name": "stdout",
     "output_type": "stream",
     "text": [
      "INFO:tensorflow:Assets written to: model.h1.1_may_21_model1/assets\n"
     ]
    },
    {
     "name": "stderr",
     "output_type": "stream",
     "text": [
      "INFO:tensorflow:Assets written to: model.h1.1_may_21_model1/assets\n"
     ]
    },
    {
     "name": "stdout",
     "output_type": "stream",
     "text": [
      "Epoch 21/30\n",
      "13/13 [==============================] - 1s 55ms/step - loss: 1.8543 - accuracy: 0.6323 - val_loss: 2.4944 - val_accuracy: 0.6150\n",
      "\n",
      "Epoch 00021: val_loss improved from 2.50267 to 2.49436, saving model to model.h1.1_may_21_model1\n"
     ]
    },
    {
     "name": "stderr",
     "output_type": "stream",
     "text": [
      "WARNING:absl:Found untraced functions such as lstm_cell_8_layer_call_and_return_conditional_losses, lstm_cell_8_layer_call_fn, lstm_cell_9_layer_call_and_return_conditional_losses, lstm_cell_9_layer_call_fn, lstm_cell_8_layer_call_fn while saving (showing 5 of 10). These functions will not be directly callable after loading.\n",
      "WARNING:absl:Found untraced functions such as lstm_cell_8_layer_call_and_return_conditional_losses, lstm_cell_8_layer_call_fn, lstm_cell_9_layer_call_and_return_conditional_losses, lstm_cell_9_layer_call_fn, lstm_cell_8_layer_call_fn while saving (showing 5 of 10). These functions will not be directly callable after loading.\n"
     ]
    },
    {
     "name": "stdout",
     "output_type": "stream",
     "text": [
      "INFO:tensorflow:Assets written to: model.h1.1_may_21_model1/assets\n"
     ]
    },
    {
     "name": "stderr",
     "output_type": "stream",
     "text": [
      "INFO:tensorflow:Assets written to: model.h1.1_may_21_model1/assets\n"
     ]
    },
    {
     "name": "stdout",
     "output_type": "stream",
     "text": [
      "Epoch 22/30\n",
      "13/13 [==============================] - 1s 55ms/step - loss: 1.8178 - accuracy: 0.6367 - val_loss: 2.4395 - val_accuracy: 0.6180\n",
      "\n",
      "Epoch 00022: val_loss improved from 2.49436 to 2.43953, saving model to model.h1.1_may_21_model1\n"
     ]
    },
    {
     "name": "stderr",
     "output_type": "stream",
     "text": [
      "WARNING:absl:Found untraced functions such as lstm_cell_8_layer_call_and_return_conditional_losses, lstm_cell_8_layer_call_fn, lstm_cell_9_layer_call_and_return_conditional_losses, lstm_cell_9_layer_call_fn, lstm_cell_8_layer_call_fn while saving (showing 5 of 10). These functions will not be directly callable after loading.\n",
      "WARNING:absl:Found untraced functions such as lstm_cell_8_layer_call_and_return_conditional_losses, lstm_cell_8_layer_call_fn, lstm_cell_9_layer_call_and_return_conditional_losses, lstm_cell_9_layer_call_fn, lstm_cell_8_layer_call_fn while saving (showing 5 of 10). These functions will not be directly callable after loading.\n"
     ]
    },
    {
     "name": "stdout",
     "output_type": "stream",
     "text": [
      "INFO:tensorflow:Assets written to: model.h1.1_may_21_model1/assets\n"
     ]
    },
    {
     "name": "stderr",
     "output_type": "stream",
     "text": [
      "INFO:tensorflow:Assets written to: model.h1.1_may_21_model1/assets\n"
     ]
    },
    {
     "name": "stdout",
     "output_type": "stream",
     "text": [
      "Epoch 23/30\n",
      "13/13 [==============================] - 1s 53ms/step - loss: 1.7583 - accuracy: 0.6450 - val_loss: 2.4350 - val_accuracy: 0.6189\n",
      "\n",
      "Epoch 00023: val_loss improved from 2.43953 to 2.43504, saving model to model.h1.1_may_21_model1\n"
     ]
    },
    {
     "name": "stderr",
     "output_type": "stream",
     "text": [
      "WARNING:absl:Found untraced functions such as lstm_cell_8_layer_call_and_return_conditional_losses, lstm_cell_8_layer_call_fn, lstm_cell_9_layer_call_and_return_conditional_losses, lstm_cell_9_layer_call_fn, lstm_cell_8_layer_call_fn while saving (showing 5 of 10). These functions will not be directly callable after loading.\n",
      "WARNING:absl:Found untraced functions such as lstm_cell_8_layer_call_and_return_conditional_losses, lstm_cell_8_layer_call_fn, lstm_cell_9_layer_call_and_return_conditional_losses, lstm_cell_9_layer_call_fn, lstm_cell_8_layer_call_fn while saving (showing 5 of 10). These functions will not be directly callable after loading.\n"
     ]
    },
    {
     "name": "stdout",
     "output_type": "stream",
     "text": [
      "INFO:tensorflow:Assets written to: model.h1.1_may_21_model1/assets\n"
     ]
    },
    {
     "name": "stderr",
     "output_type": "stream",
     "text": [
      "INFO:tensorflow:Assets written to: model.h1.1_may_21_model1/assets\n"
     ]
    },
    {
     "name": "stdout",
     "output_type": "stream",
     "text": [
      "Epoch 24/30\n",
      "13/13 [==============================] - 1s 54ms/step - loss: 1.6806 - accuracy: 0.6545 - val_loss: 2.4321 - val_accuracy: 0.6208\n",
      "\n",
      "Epoch 00024: val_loss improved from 2.43504 to 2.43209, saving model to model.h1.1_may_21_model1\n"
     ]
    },
    {
     "name": "stderr",
     "output_type": "stream",
     "text": [
      "WARNING:absl:Found untraced functions such as lstm_cell_8_layer_call_and_return_conditional_losses, lstm_cell_8_layer_call_fn, lstm_cell_9_layer_call_and_return_conditional_losses, lstm_cell_9_layer_call_fn, lstm_cell_8_layer_call_fn while saving (showing 5 of 10). These functions will not be directly callable after loading.\n",
      "WARNING:absl:Found untraced functions such as lstm_cell_8_layer_call_and_return_conditional_losses, lstm_cell_8_layer_call_fn, lstm_cell_9_layer_call_and_return_conditional_losses, lstm_cell_9_layer_call_fn, lstm_cell_8_layer_call_fn while saving (showing 5 of 10). These functions will not be directly callable after loading.\n"
     ]
    },
    {
     "name": "stdout",
     "output_type": "stream",
     "text": [
      "INFO:tensorflow:Assets written to: model.h1.1_may_21_model1/assets\n"
     ]
    },
    {
     "name": "stderr",
     "output_type": "stream",
     "text": [
      "INFO:tensorflow:Assets written to: model.h1.1_may_21_model1/assets\n"
     ]
    },
    {
     "name": "stdout",
     "output_type": "stream",
     "text": [
      "Epoch 25/30\n",
      "13/13 [==============================] - 1s 56ms/step - loss: 1.6539 - accuracy: 0.6587 - val_loss: 2.4003 - val_accuracy: 0.6270\n",
      "\n",
      "Epoch 00025: val_loss improved from 2.43209 to 2.40032, saving model to model.h1.1_may_21_model1\n"
     ]
    },
    {
     "name": "stderr",
     "output_type": "stream",
     "text": [
      "WARNING:absl:Found untraced functions such as lstm_cell_8_layer_call_and_return_conditional_losses, lstm_cell_8_layer_call_fn, lstm_cell_9_layer_call_and_return_conditional_losses, lstm_cell_9_layer_call_fn, lstm_cell_8_layer_call_fn while saving (showing 5 of 10). These functions will not be directly callable after loading.\n",
      "WARNING:absl:Found untraced functions such as lstm_cell_8_layer_call_and_return_conditional_losses, lstm_cell_8_layer_call_fn, lstm_cell_9_layer_call_and_return_conditional_losses, lstm_cell_9_layer_call_fn, lstm_cell_8_layer_call_fn while saving (showing 5 of 10). These functions will not be directly callable after loading.\n"
     ]
    },
    {
     "name": "stdout",
     "output_type": "stream",
     "text": [
      "INFO:tensorflow:Assets written to: model.h1.1_may_21_model1/assets\n"
     ]
    },
    {
     "name": "stderr",
     "output_type": "stream",
     "text": [
      "INFO:tensorflow:Assets written to: model.h1.1_may_21_model1/assets\n"
     ]
    },
    {
     "name": "stdout",
     "output_type": "stream",
     "text": [
      "Epoch 26/30\n",
      "13/13 [==============================] - 1s 56ms/step - loss: 1.5851 - accuracy: 0.6663 - val_loss: 2.3796 - val_accuracy: 0.6325\n",
      "\n",
      "Epoch 00026: val_loss improved from 2.40032 to 2.37960, saving model to model.h1.1_may_21_model1\n"
     ]
    },
    {
     "name": "stderr",
     "output_type": "stream",
     "text": [
      "WARNING:absl:Found untraced functions such as lstm_cell_8_layer_call_and_return_conditional_losses, lstm_cell_8_layer_call_fn, lstm_cell_9_layer_call_and_return_conditional_losses, lstm_cell_9_layer_call_fn, lstm_cell_8_layer_call_fn while saving (showing 5 of 10). These functions will not be directly callable after loading.\n",
      "WARNING:absl:Found untraced functions such as lstm_cell_8_layer_call_and_return_conditional_losses, lstm_cell_8_layer_call_fn, lstm_cell_9_layer_call_and_return_conditional_losses, lstm_cell_9_layer_call_fn, lstm_cell_8_layer_call_fn while saving (showing 5 of 10). These functions will not be directly callable after loading.\n"
     ]
    },
    {
     "name": "stdout",
     "output_type": "stream",
     "text": [
      "INFO:tensorflow:Assets written to: model.h1.1_may_21_model1/assets\n"
     ]
    },
    {
     "name": "stderr",
     "output_type": "stream",
     "text": [
      "INFO:tensorflow:Assets written to: model.h1.1_may_21_model1/assets\n"
     ]
    },
    {
     "name": "stdout",
     "output_type": "stream",
     "text": [
      "Epoch 27/30\n",
      "13/13 [==============================] - 1s 56ms/step - loss: 1.5132 - accuracy: 0.6756 - val_loss: 2.3759 - val_accuracy: 0.6302\n",
      "\n",
      "Epoch 00027: val_loss improved from 2.37960 to 2.37595, saving model to model.h1.1_may_21_model1\n"
     ]
    },
    {
     "name": "stderr",
     "output_type": "stream",
     "text": [
      "WARNING:absl:Found untraced functions such as lstm_cell_8_layer_call_and_return_conditional_losses, lstm_cell_8_layer_call_fn, lstm_cell_9_layer_call_and_return_conditional_losses, lstm_cell_9_layer_call_fn, lstm_cell_8_layer_call_fn while saving (showing 5 of 10). These functions will not be directly callable after loading.\n",
      "WARNING:absl:Found untraced functions such as lstm_cell_8_layer_call_and_return_conditional_losses, lstm_cell_8_layer_call_fn, lstm_cell_9_layer_call_and_return_conditional_losses, lstm_cell_9_layer_call_fn, lstm_cell_8_layer_call_fn while saving (showing 5 of 10). These functions will not be directly callable after loading.\n"
     ]
    },
    {
     "name": "stdout",
     "output_type": "stream",
     "text": [
      "INFO:tensorflow:Assets written to: model.h1.1_may_21_model1/assets\n"
     ]
    },
    {
     "name": "stderr",
     "output_type": "stream",
     "text": [
      "INFO:tensorflow:Assets written to: model.h1.1_may_21_model1/assets\n"
     ]
    },
    {
     "name": "stdout",
     "output_type": "stream",
     "text": [
      "Epoch 28/30\n",
      "13/13 [==============================] - 1s 55ms/step - loss: 1.4739 - accuracy: 0.6823 - val_loss: 2.3464 - val_accuracy: 0.6382\n",
      "\n",
      "Epoch 00028: val_loss improved from 2.37595 to 2.34640, saving model to model.h1.1_may_21_model1\n"
     ]
    },
    {
     "name": "stderr",
     "output_type": "stream",
     "text": [
      "WARNING:absl:Found untraced functions such as lstm_cell_8_layer_call_and_return_conditional_losses, lstm_cell_8_layer_call_fn, lstm_cell_9_layer_call_and_return_conditional_losses, lstm_cell_9_layer_call_fn, lstm_cell_8_layer_call_fn while saving (showing 5 of 10). These functions will not be directly callable after loading.\n",
      "WARNING:absl:Found untraced functions such as lstm_cell_8_layer_call_and_return_conditional_losses, lstm_cell_8_layer_call_fn, lstm_cell_9_layer_call_and_return_conditional_losses, lstm_cell_9_layer_call_fn, lstm_cell_8_layer_call_fn while saving (showing 5 of 10). These functions will not be directly callable after loading.\n"
     ]
    },
    {
     "name": "stdout",
     "output_type": "stream",
     "text": [
      "INFO:tensorflow:Assets written to: model.h1.1_may_21_model1/assets\n"
     ]
    },
    {
     "name": "stderr",
     "output_type": "stream",
     "text": [
      "INFO:tensorflow:Assets written to: model.h1.1_may_21_model1/assets\n"
     ]
    },
    {
     "name": "stdout",
     "output_type": "stream",
     "text": [
      "Epoch 29/30\n",
      "13/13 [==============================] - 1s 57ms/step - loss: 1.4269 - accuracy: 0.6942 - val_loss: 2.3446 - val_accuracy: 0.6406\n",
      "\n",
      "Epoch 00029: val_loss improved from 2.34640 to 2.34456, saving model to model.h1.1_may_21_model1\n"
     ]
    },
    {
     "name": "stderr",
     "output_type": "stream",
     "text": [
      "WARNING:absl:Found untraced functions such as lstm_cell_8_layer_call_and_return_conditional_losses, lstm_cell_8_layer_call_fn, lstm_cell_9_layer_call_and_return_conditional_losses, lstm_cell_9_layer_call_fn, lstm_cell_8_layer_call_fn while saving (showing 5 of 10). These functions will not be directly callable after loading.\n",
      "WARNING:absl:Found untraced functions such as lstm_cell_8_layer_call_and_return_conditional_losses, lstm_cell_8_layer_call_fn, lstm_cell_9_layer_call_and_return_conditional_losses, lstm_cell_9_layer_call_fn, lstm_cell_8_layer_call_fn while saving (showing 5 of 10). These functions will not be directly callable after loading.\n"
     ]
    },
    {
     "name": "stdout",
     "output_type": "stream",
     "text": [
      "INFO:tensorflow:Assets written to: model.h1.1_may_21_model1/assets\n"
     ]
    },
    {
     "name": "stderr",
     "output_type": "stream",
     "text": [
      "INFO:tensorflow:Assets written to: model.h1.1_may_21_model1/assets\n"
     ]
    },
    {
     "name": "stdout",
     "output_type": "stream",
     "text": [
      "Epoch 30/30\n",
      "13/13 [==============================] - 1s 55ms/step - loss: 1.3851 - accuracy: 0.6998 - val_loss: 2.3283 - val_accuracy: 0.6438\n",
      "\n",
      "Epoch 00030: val_loss improved from 2.34456 to 2.32829, saving model to model.h1.1_may_21_model1\n"
     ]
    },
    {
     "name": "stderr",
     "output_type": "stream",
     "text": [
      "WARNING:absl:Found untraced functions such as lstm_cell_8_layer_call_and_return_conditional_losses, lstm_cell_8_layer_call_fn, lstm_cell_9_layer_call_and_return_conditional_losses, lstm_cell_9_layer_call_fn, lstm_cell_8_layer_call_fn while saving (showing 5 of 10). These functions will not be directly callable after loading.\n",
      "WARNING:absl:Found untraced functions such as lstm_cell_8_layer_call_and_return_conditional_losses, lstm_cell_8_layer_call_fn, lstm_cell_9_layer_call_and_return_conditional_losses, lstm_cell_9_layer_call_fn, lstm_cell_8_layer_call_fn while saving (showing 5 of 10). These functions will not be directly callable after loading.\n"
     ]
    },
    {
     "name": "stdout",
     "output_type": "stream",
     "text": [
      "INFO:tensorflow:Assets written to: model.h1.1_may_21_model1/assets\n"
     ]
    },
    {
     "name": "stderr",
     "output_type": "stream",
     "text": [
      "INFO:tensorflow:Assets written to: model.h1.1_may_21_model1/assets\n"
     ]
    }
   ],
   "source": [
    "#Train French model\n",
    "filename_fr_1 = 'model.h1.1_may_21_model1'\n",
    "checkpoint_fr_1 = ModelCheckpoint(filename_fr_1, monitor='val_loss', verbose=1, save_best_only=True, mode='min')\n",
    "history_fr_1 = model_fr_1.fit(trainFrenchX, trainEnglishFrenchY.reshape(trainEnglishFrenchY.shape[0], trainEnglishFrenchY.shape[1],1),\n",
    "                      epochs=30, batch_size=512, validation_split=0.2, callbacks=[checkpoint_fr_1], verbose =1)"
   ]
  },
  {
   "cell_type": "code",
   "execution_count": null,
   "id": "VkJF5yu49uvG",
   "metadata": {
    "colab": {
     "base_uri": "https://localhost:8080/"
    },
    "id": "VkJF5yu49uvG",
    "outputId": "8143914c-dce0-4c57-a9d4-e3b208ed1514"
   },
   "outputs": [
    {
     "name": "stderr",
     "output_type": "stream",
     "text": [
      "/usr/local/lib/python3.7/dist-packages/tensorflow/python/keras/engine/sequential.py:450: UserWarning: `model.predict_classes()` is deprecated and will be removed after 2021-01-01. Please use instead:* `np.argmax(model.predict(x), axis=-1)`,   if your model does multi-class classification   (e.g. if it uses a `softmax` last-layer activation).* `(model.predict(x) > 0.5).astype(\"int32\")`,   if your model does binary classification   (e.g. if it uses a `sigmoid` last-layer activation).\n",
      "  warnings.warn('`model.predict_classes()` is deprecated and '\n"
     ]
    }
   ],
   "source": [
    "#Make predictions on test data\n",
    "model_fr_pred_1 = load_model('model.h1.1_may_21_model1')\n",
    "preds_fr_1 = model_fr_pred_1.predict_classes(testFrenchX.reshape(testFrenchX.shape[0], testFrenchX.shape[1]))"
   ]
  },
  {
   "cell_type": "code",
   "execution_count": null,
   "id": "9vmgqFF59u2o",
   "metadata": {
    "id": "9vmgqFF59u2o"
   },
   "outputs": [],
   "source": [
    "#Convert predictions into text (English)\n",
    "preds_text_eng_fr_1 = []\n",
    "for i in preds_fr_1:\n",
    "    temp = []\n",
    "    for j in range(len(i)):\n",
    "        t = get_word(i[j], eng_fr_tokenizer)\n",
    "        if j > 0:\n",
    "            if (t == get_word(i[j-1], eng_fr_tokenizer)) or (t == None):\n",
    "                temp.append('')\n",
    "            else:\n",
    "                temp.append(t)\n",
    "        else:\n",
    "            if (t == None):\n",
    "                temp.append('')\n",
    "            else:\n",
    "                temp.append(t)\n",
    "    preds_text_eng_fr_1.append(' '.join(temp))"
   ]
  },
  {
   "cell_type": "code",
   "execution_count": null,
   "id": "g1IzjY-t9u7k",
   "metadata": {
    "id": "g1IzjY-t9u7k"
   },
   "outputs": [],
   "source": [
    "#Display first 15 predictions\n",
    "pred_df_fr_1 = pd.DataFrame({'actual': testFra[:,0], 'predicted': preds_text_eng_fr_1})"
   ]
  },
  {
   "cell_type": "code",
   "execution_count": null,
   "id": "Dj_uEpPN9vBD",
   "metadata": {
    "id": "Dj_uEpPN9vBD"
   },
   "outputs": [],
   "source": [
    "pd.set_option('display.max_colwidth', 200)"
   ]
  },
  {
   "cell_type": "code",
   "execution_count": null,
   "id": "rChPn5_H9vFS",
   "metadata": {
    "colab": {
     "base_uri": "https://localhost:8080/",
     "height": 514
    },
    "id": "rChPn5_H9vFS",
    "outputId": "34e40b44-00a0-4cc0-af58-3b7aed885fa6"
   },
   "outputs": [
    {
     "data": {
      "text/html": [
       "<div>\n",
       "<style scoped>\n",
       "    .dataframe tbody tr th:only-of-type {\n",
       "        vertical-align: middle;\n",
       "    }\n",
       "\n",
       "    .dataframe tbody tr th {\n",
       "        vertical-align: top;\n",
       "    }\n",
       "\n",
       "    .dataframe thead th {\n",
       "        text-align: right;\n",
       "    }\n",
       "</style>\n",
       "<table border=\"1\" class=\"dataframe\">\n",
       "  <thead>\n",
       "    <tr style=\"text-align: right;\">\n",
       "      <th></th>\n",
       "      <th>actual</th>\n",
       "      <th>predicted</th>\n",
       "    </tr>\n",
       "  </thead>\n",
       "  <tbody>\n",
       "    <tr>\n",
       "      <th>0</th>\n",
       "      <td>tom is drunk</td>\n",
       "      <td>toms is</td>\n",
       "    </tr>\n",
       "    <tr>\n",
       "      <th>1</th>\n",
       "      <td>you seem busy</td>\n",
       "      <td>you are</td>\n",
       "    </tr>\n",
       "    <tr>\n",
       "      <th>2</th>\n",
       "      <td>im married</td>\n",
       "      <td>im exhausted</td>\n",
       "    </tr>\n",
       "    <tr>\n",
       "      <th>3</th>\n",
       "      <td>whos talking</td>\n",
       "      <td>who singing</td>\n",
       "    </tr>\n",
       "    <tr>\n",
       "      <th>4</th>\n",
       "      <td>eat your peas</td>\n",
       "      <td>the  car</td>\n",
       "    </tr>\n",
       "    <tr>\n",
       "      <th>5</th>\n",
       "      <td>i had no idea</td>\n",
       "      <td>i have no</td>\n",
       "    </tr>\n",
       "    <tr>\n",
       "      <th>6</th>\n",
       "      <td>use them all</td>\n",
       "      <td>get to me</td>\n",
       "    </tr>\n",
       "    <tr>\n",
       "      <th>7</th>\n",
       "      <td>i am very tall</td>\n",
       "      <td>im am too</td>\n",
       "    </tr>\n",
       "    <tr>\n",
       "      <th>8</th>\n",
       "      <td>i have plans</td>\n",
       "      <td>i have the</td>\n",
       "    </tr>\n",
       "    <tr>\n",
       "      <th>9</th>\n",
       "      <td>i hurt tom</td>\n",
       "      <td>we loved tom</td>\n",
       "    </tr>\n",
       "    <tr>\n",
       "      <th>10</th>\n",
       "      <td>suit yourself</td>\n",
       "      <td>do you</td>\n",
       "    </tr>\n",
       "    <tr>\n",
       "      <th>11</th>\n",
       "      <td>i felt scared</td>\n",
       "      <td>i feel cheated</td>\n",
       "    </tr>\n",
       "    <tr>\n",
       "      <th>12</th>\n",
       "      <td>let me go</td>\n",
       "      <td>let me see it</td>\n",
       "    </tr>\n",
       "    <tr>\n",
       "      <th>13</th>\n",
       "      <td>whos crying</td>\n",
       "      <td>whos all</td>\n",
       "    </tr>\n",
       "    <tr>\n",
       "      <th>14</th>\n",
       "      <td>i am ashamed</td>\n",
       "      <td>im won</td>\n",
       "    </tr>\n",
       "  </tbody>\n",
       "</table>\n",
       "</div>"
      ],
      "text/plain": [
       "            actual         predicted\n",
       "0     tom is drunk        toms is   \n",
       "1    you seem busy        you are   \n",
       "2       im married   im exhausted   \n",
       "3     whos talking    who singing   \n",
       "4    eat your peas        the  car  \n",
       "5    i had no idea       i have no  \n",
       "6     use them all       get to me  \n",
       "7   i am very tall       im am too  \n",
       "8     i have plans      i have the  \n",
       "9       i hurt tom    we loved tom  \n",
       "10   suit yourself         do you   \n",
       "11   i felt scared  i feel cheated  \n",
       "12       let me go    let me see it \n",
       "13     whos crying       whos all   \n",
       "14    i am ashamed         im won   "
      ]
     },
     "execution_count": 119,
     "metadata": {
      "tags": []
     },
     "output_type": "execute_result"
    }
   ],
   "source": [
    "pred_df_fr_1.head(15)"
   ]
  },
  {
   "cell_type": "markdown",
   "id": "MiEmRHSA_cr1",
   "metadata": {
    "id": "MiEmRHSA_cr1"
   },
   "source": [
    "### French Baseline Model Metrics"
   ]
  },
  {
   "cell_type": "code",
   "execution_count": null,
   "id": "FrxxvdQO_bax",
   "metadata": {
    "colab": {
     "base_uri": "https://localhost:8080/"
    },
    "id": "FrxxvdQO_bax",
    "outputId": "0d83e531-9ca7-4d52-a93b-65d4653fc8bb"
   },
   "outputs": [
    {
     "name": "stderr",
     "output_type": "stream",
     "text": [
      "/usr/local/lib/python3.7/dist-packages/tensorflow/python/keras/engine/sequential.py:450: UserWarning: `model.predict_classes()` is deprecated and will be removed after 2021-01-01. Please use instead:* `np.argmax(model.predict(x), axis=-1)`,   if your model does multi-class classification   (e.g. if it uses a `softmax` last-layer activation).* `(model.predict(x) > 0.5).astype(\"int32\")`,   if your model does binary classification   (e.g. if it uses a `sigmoid` last-layer activation).\n",
      "  warnings.warn('`model.predict_classes()` is deprecated and '\n"
     ]
    },
    {
     "name": "stdout",
     "output_type": "stream",
     "text": [
      "[[ 53   7   0   0   0]\n",
      " [  4  14   0   0   0]\n",
      " [  5 528   0   0   0]\n",
      " ...\n",
      " [  9  16   8   0   0]\n",
      " [  3   7   0   0   0]\n",
      " [ 53   7   0   0   0]]\n",
      "[0 1 1 ... 1 1 0]\n",
      "[2 1 1 ... 1 2 2]\n",
      "Accuracy: 0.5495\n",
      "Precision: 0.5573137233071319\n",
      "Recall: 0.446090777717565\n"
     ]
    }
   ],
   "source": [
    "#Calculate French metrics: accuracy, precision, recall\n",
    "y_pred_fr_1 = model_fr_1.predict_classes(testFrenchX, verbose=0)\n",
    "print(y_pred_fr_1)\n",
    "y_pred_fr_1 = argmax(y_pred_fr_1, axis=1)\n",
    "print(y_pred_fr_1)\n",
    "y_test_fr_1 = argmax(testEnglishFrenchY, axis=1)\n",
    "print(y_test_fr_1)\n",
    "\n",
    "from sklearn import metrics\n",
    "print(\"Accuracy:\",metrics.accuracy_score(y_test_fr_1, y_pred_fr_1))\n",
    "print(\"Precision:\",metrics.precision_score(y_test_fr_1, y_pred_fr_1, average = \"macro\"))\n",
    "print(\"Recall:\",metrics.recall_score(y_test_fr_1, y_pred_fr_1, average = \"macro\"))"
   ]
  },
  {
   "cell_type": "code",
   "execution_count": null,
   "id": "uKmYLtoi_bnG",
   "metadata": {
    "colab": {
     "base_uri": "https://localhost:8080/"
    },
    "id": "uKmYLtoi_bnG",
    "outputId": "4c8dbbff-7a70-4373-9f5f-c301b1ba5dd2"
   },
   "outputs": [
    {
     "name": "stdout",
     "output_type": "stream",
     "text": [
      "16/16 [==============================] - 2s 18ms/step - loss: 1.5062 - accuracy: 0.6984\n",
      "{'loss': 1.5061962604522705, 'accuracy': 0.6983749866485596}\n"
     ]
    }
   ],
   "source": [
    "#Training accuracy\n",
    "metricsModelFr1 = model_fr_1.evaluate(trainFrenchX, trainEnglishFrenchY, batch_size=512, return_dict=True)\n",
    "print(metricsModelFr1)"
   ]
  },
  {
   "cell_type": "code",
   "execution_count": null,
   "id": "xKGZoaIa_bql",
   "metadata": {
    "colab": {
     "base_uri": "https://localhost:8080/"
    },
    "id": "xKGZoaIa_bql",
    "outputId": "33dd952b-3dac-4a40-a26d-53c6039d7bbb"
   },
   "outputs": [
    {
     "name": "stdout",
     "output_type": "stream",
     "text": [
      "4/4 [==============================] - 0s 16ms/step - loss: 2.3976 - accuracy: 0.6337\n",
      "Test accuracy: 63.37\n"
     ]
    }
   ],
   "source": [
    "#Test accuracy\n",
    "_, accuracy = model_fr_1.evaluate(testFrenchX, testEnglishFrenchY, batch_size=512)\n",
    "print('Test accuracy: %.2f' % (accuracy*100))"
   ]
  },
  {
   "cell_type": "code",
   "execution_count": null,
   "id": "ynTmvrIp_bux",
   "metadata": {
    "colab": {
     "base_uri": "https://localhost:8080/"
    },
    "id": "ynTmvrIp_bux",
    "outputId": "d26c3379-6156-4a78-83f3-33b36bdaedff"
   },
   "outputs": [
    {
     "name": "stdout",
     "output_type": "stream",
     "text": [
      "0.4313206531491118\n"
     ]
    },
    {
     "name": "stderr",
     "output_type": "stream",
     "text": [
      "/usr/local/lib/python3.7/dist-packages/nltk/translate/bleu_score.py:490: UserWarning: \n",
      "Corpus/Sentence contains 0 counts of 2-gram overlaps.\n",
      "BLEU scores might be undesirable; use SmoothingFunction().\n",
      "  warnings.warn(_msg)\n"
     ]
    }
   ],
   "source": [
    "# calculate bleu metric\n",
    "\n",
    "references_fr_1 = pred_df_fr_1.actual\n",
    "candidates_fr_1 = pred_df_fr_1.predicted\n",
    "score_fr_1 = corpus_bleu(references_fr_1, candidates_fr_1, weights=(1,0,0,0))\n",
    "print(score_fr_1)"
   ]
  },
  {
   "cell_type": "code",
   "execution_count": null,
   "id": "P83DFi7E_bzd",
   "metadata": {
    "colab": {
     "base_uri": "https://localhost:8080/"
    },
    "id": "P83DFi7E_bzd",
    "outputId": "10e5cd25-8fb0-4b39-8683-25cc330cad97"
   },
   "outputs": [
    {
     "name": "stderr",
     "output_type": "stream",
     "text": [
      "/usr/local/lib/python3.7/dist-packages/nltk/translate/bleu_score.py:490: UserWarning: \n",
      "Corpus/Sentence contains 0 counts of 2-gram overlaps.\n",
      "BLEU scores might be undesirable; use SmoothingFunction().\n",
      "  warnings.warn(_msg)\n"
     ]
    }
   ],
   "source": [
    "#average BLEU score\n",
    "bleuScoreMeanFra1 = evaluate_test_model1(references_fr_1, candidates_fr_1)"
   ]
  },
  {
   "cell_type": "code",
   "execution_count": null,
   "id": "vPSkZAYhAN68",
   "metadata": {
    "colab": {
     "base_uri": "https://localhost:8080/"
    },
    "id": "vPSkZAYhAN68",
    "outputId": "7d605158-aee3-4fef-d5e0-8a80543eb40e"
   },
   "outputs": [
    {
     "name": "stdout",
     "output_type": "stream",
     "text": [
      "Average BLEU score on test data for French model 1:  0.7745966692414834\n"
     ]
    }
   ],
   "source": [
    "print(\"Average BLEU score on test data for French model 1: \", bleuScoreMeanFra1)"
   ]
  },
  {
   "cell_type": "code",
   "execution_count": null,
   "id": "eJiDcHXzQMyQ",
   "metadata": {
    "colab": {
     "base_uri": "https://localhost:8080/"
    },
    "id": "eJiDcHXzQMyQ",
    "outputId": "aa4470c7-43e4-4f31-c735-29cb743d9c73"
   },
   "outputs": [
    {
     "name": "stdout",
     "output_type": "stream",
     "text": [
      "{'rouge-1': {'f': 0.36350475847248254, 'p': 0.39470833333333366, 'r': 0.3452416666666672}, 'rouge-2': {'f': 0.1086499991485441, 'p': 0.12191666666666669, 'r': 0.10208333333333332}, 'rouge-l': {'f': 0.3630833299019095, 'p': 0.3946250000000004, 'r': 0.3446166666666673}}\n"
     ]
    }
   ],
   "source": [
    "#Get ROUGE scores.\n",
    "rouge = Rouge()\n",
    "scores_fr_1 = rouge.get_scores(candidates_fr_1, references_fr_1, avg = True)\n",
    "print(scores_fr_1)"
   ]
  },
  {
   "cell_type": "markdown",
   "id": "nK0js8YzASOt",
   "metadata": {
    "id": "nK0js8YzASOt"
   },
   "source": [
    "## French Final Model"
   ]
  },
  {
   "cell_type": "code",
   "execution_count": null,
   "id": "2eD2k0cQAd8G",
   "metadata": {
    "id": "2eD2k0cQAd8G"
   },
   "outputs": [],
   "source": [
    "#Model 2: An attempt at an encoder-decoder model. uses average BLEU as metric.\n",
    "lines_fr = io.open(french_path, encoding = 'UTF-8').read().split('\\n')"
   ]
  },
  {
   "cell_type": "code",
   "execution_count": null,
   "id": "C60EYTKOAeBz",
   "metadata": {
    "colab": {
     "base_uri": "https://localhost:8080/"
    },
    "id": "C60EYTKOAeBz",
    "outputId": "7b3ffb16-4905-450a-acda-77e4c62db320"
   },
   "outputs": [
    {
     "name": "stderr",
     "output_type": "stream",
     "text": [
      "100%|██████████| 185584/185584 [00:05<00:00, 33171.58it/s]"
     ]
    },
    {
     "name": "stdout",
     "output_type": "stream",
     "text": [
      "['<start> Va <end>', '<start> Marche. <end>', '<start> Bouge <end>', '<start> Salut <end>', '<start> Salut. <end>', '<start> Cours <end>', '<start> Courez <end>', '<start> Prenez vos jambes a vos cous <end>', '<start> File <end>', '<start> Filez <end>']\n"
     ]
    },
    {
     "name": "stderr",
     "output_type": "stream",
     "text": [
      "\n"
     ]
    }
   ],
   "source": [
    "#Get data\n",
    "french, english_fr = get_data(lines_fr)\n",
    "#get manageable sample\n",
    "french = french[:10000:]\n",
    "#get manageable sample\n",
    "english_fr = english_fr[:10000:]\n",
    "print(french[0:10])"
   ]
  },
  {
   "cell_type": "code",
   "execution_count": null,
   "id": "rw5-4taYAeIU",
   "metadata": {
    "id": "rw5-4taYAeIU"
   },
   "outputs": [],
   "source": [
    "#Get training, test data.\n",
    "fra_tr, fra_te, eng_fr_tr, eng_fr_te = train_test_split(french, english_fr, test_size = 0.2, random_state = 42)"
   ]
  },
  {
   "cell_type": "code",
   "execution_count": null,
   "id": "B379N9kzAeMc",
   "metadata": {
    "id": "B379N9kzAeMc"
   },
   "outputs": [],
   "source": [
    "#Tokenizing, padding input language\n",
    "fra_token = Tokenizer(filters = '', lower=False)\n",
    "fra_token.fit_on_texts(fra_tr)\n",
    "fra_tokenized = fra_token.texts_to_sequences(fra_tr)\n",
    "fra_padded = pad_sequences(fra_tokenized, padding='post')"
   ]
  },
  {
   "cell_type": "code",
   "execution_count": null,
   "id": "cZZ9_gmxAeQP",
   "metadata": {
    "id": "cZZ9_gmxAeQP"
   },
   "outputs": [],
   "source": [
    "#tokenizing and padding target language\n",
    "eng_fr_token = Tokenizer(filters = '', lower = False)\n",
    "eng_fr_token.fit_on_texts(eng_fr_tr)\n",
    "eng_fr_tokenized = eng_fr_token.texts_to_sequences(eng_fr_tr)\n",
    "eng_fr_padded = pad_sequences(eng_fr_tokenized, padding='post')"
   ]
  },
  {
   "cell_type": "code",
   "execution_count": null,
   "id": "urjCYdRLBJir",
   "metadata": {
    "id": "urjCYdRLBJir"
   },
   "outputs": [],
   "source": [
    "#Define maximum sentence length and vocab size.\n",
    "num_ip_tokens = len(fra_token.word_index) #French\n",
    "num_op_tokens = len(eng_fr_token.word_index) #English\n",
    "max_len_ip = fra_padded.shape[1] #French\n",
    "max_len_op = eng_fr_padded.shape[1] #English"
   ]
  },
  {
   "cell_type": "code",
   "execution_count": null,
   "id": "hgM6lWK_BJpX",
   "metadata": {
    "id": "hgM6lWK_BJpX"
   },
   "outputs": [],
   "source": [
    "#Define constants and create a tf.data dataset.\n",
    "BUFFER_SIZE = len(fra_padded)\n",
    "BATCH_SIZE = 64\n",
    "N_BATCH = BUFFER_SIZE // BATCH_SIZE\n",
    "embedding_dim = 256\n",
    "units = 512\n",
    "\n",
    "dataset_fr = tf.data.Dataset.from_tensor_slices((fra_padded, eng_fr_padded)).shuffle(BUFFER_SIZE)\n",
    "dataset_fr = dataset_fr.batch(BATCH_SIZE, drop_remainder=True)"
   ]
  },
  {
   "cell_type": "code",
   "execution_count": null,
   "id": "hVeqh_x5BJ3S",
   "metadata": {
    "id": "hVeqh_x5BJ3S"
   },
   "outputs": [],
   "source": [
    "#Create an encoder and a decoder for French.\n",
    "encoder = Encoder(num_ip_tokens + 1, embedding_dim, units, BATCH_SIZE)\n",
    "decoder = Decoder(num_op_tokens + 1, embedding_dim, units, BATCH_SIZE)"
   ]
  },
  {
   "cell_type": "code",
   "execution_count": null,
   "id": "poTCDpMrBg5R",
   "metadata": {
    "id": "poTCDpMrBg5R"
   },
   "outputs": [],
   "source": [
    "#define an optimizer and a loss function for French\n",
    "optimizer_fr = tf.keras.optimizers.Adam()\n",
    "\n",
    "def loss_function_fr(real, pred):\n",
    "  mask = 1 - np.equal(real, 0)\n",
    "  loss_ = tf.nn.sparse_softmax_cross_entropy_with_logits(labels = real, logits = pred)*mask\n",
    "  return tf.reduce_mean(loss_)\n",
    "#Define checkpoints\n",
    "checkpoint_dir_fr = '/content/drive/MyDrive/FrenchToEnglish/CheckPoint'\n",
    "checkpoint_prefix_fr = os.path.join(checkpoint_dir_fr, 'ckpt')\n",
    "checkpoint_fr = Checkpoint(optimizer=optimizer_fr, encoder=encoder, decoder=decoder)"
   ]
  },
  {
   "cell_type": "code",
   "execution_count": null,
   "id": "IuyZLnmaBg_Z",
   "metadata": {
    "colab": {
     "base_uri": "https://localhost:8080/"
    },
    "id": "IuyZLnmaBg_Z",
    "outputId": "1d021c58-590e-483a-88f1-7a7738a5d9dd"
   },
   "outputs": [
    {
     "name": "stdout",
     "output_type": "stream",
     "text": [
      "Epoch 1 Batch 0 Loss 4.0636\n",
      "Epoch 1 Loss 2.6157\n",
      "Time taken for 1 epoch 0.31 minutes\n",
      "\n",
      "Epoch 2 Batch 0 Loss 2.0949\n",
      "Epoch 2 Loss 2.0001\n",
      "Time taken for 1 epoch 0.30 minutes\n",
      "\n",
      "Epoch 3 Batch 0 Loss 1.7358\n",
      "Epoch 3 Loss 1.7399\n",
      "Time taken for 1 epoch 0.30 minutes\n",
      "\n",
      "Epoch 4 Batch 0 Loss 1.5766\n",
      "Epoch 4 Loss 1.5366\n",
      "Time taken for 1 epoch 0.31 minutes\n",
      "\n",
      "Epoch 5 Batch 0 Loss 1.3452\n",
      "Epoch 5 Loss 1.3378\n",
      "Time taken for 1 epoch 0.31 minutes\n",
      "\n",
      "Epoch 6 Batch 0 Loss 1.1505\n",
      "Epoch 6 Loss 1.1654\n",
      "Time taken for 1 epoch 0.32 minutes\n",
      "\n",
      "Epoch 7 Batch 0 Loss 0.9666\n",
      "Epoch 7 Loss 1.0049\n",
      "Time taken for 1 epoch 0.32 minutes\n",
      "\n",
      "Epoch 8 Batch 0 Loss 0.8352\n",
      "Epoch 8 Loss 0.8592\n",
      "Time taken for 1 epoch 0.30 minutes\n",
      "\n",
      "Epoch 9 Batch 0 Loss 0.6958\n",
      "Epoch 9 Loss 0.7297\n",
      "Time taken for 1 epoch 0.30 minutes\n",
      "\n",
      "Epoch 10 Batch 0 Loss 0.5479\n",
      "Epoch 10 Loss 0.6082\n",
      "Time taken for 1 epoch 0.30 minutes\n",
      "\n",
      "Epoch 11 Batch 0 Loss 0.4149\n",
      "Epoch 11 Loss 0.4983\n",
      "Time taken for 1 epoch 0.30 minutes\n",
      "\n",
      "Epoch 12 Batch 0 Loss 0.4136\n",
      "Epoch 12 Loss 0.4089\n",
      "Time taken for 1 epoch 0.31 minutes\n",
      "\n",
      "Epoch 13 Batch 0 Loss 0.2827\n",
      "Epoch 13 Loss 0.3296\n",
      "Time taken for 1 epoch 0.29 minutes\n",
      "\n",
      "Epoch 14 Batch 0 Loss 0.2675\n",
      "Epoch 14 Loss 0.2681\n",
      "Time taken for 1 epoch 0.30 minutes\n",
      "\n",
      "Epoch 15 Batch 0 Loss 0.1629\n",
      "Epoch 15 Loss 0.2181\n",
      "Time taken for 1 epoch 0.30 minutes\n",
      "\n",
      "Epoch 16 Batch 0 Loss 0.1551\n",
      "Epoch 16 Loss 0.1816\n",
      "Time taken for 1 epoch 0.30 minutes\n",
      "\n",
      "Epoch 17 Batch 0 Loss 0.1525\n",
      "Epoch 17 Loss 0.1507\n",
      "Time taken for 1 epoch 0.30 minutes\n",
      "\n",
      "Epoch 18 Batch 0 Loss 0.1148\n",
      "Epoch 18 Loss 0.1269\n",
      "Time taken for 1 epoch 0.31 minutes\n",
      "\n",
      "Epoch 19 Batch 0 Loss 0.0835\n",
      "Epoch 19 Loss 0.1143\n",
      "Time taken for 1 epoch 0.29 minutes\n",
      "\n",
      "Epoch 20 Batch 0 Loss 0.0566\n",
      "Epoch 20 Loss 0.1027\n",
      "Time taken for 1 epoch 0.29 minutes\n",
      "\n"
     ]
    }
   ],
   "source": [
    "#Train model\n",
    "EPOCH = 20\n",
    "for epoch in range(EPOCH) :\n",
    "  start = time.time()\n",
    "  #Getting initial encoder states (all zeros)\n",
    "  hidden = encoder.initial_hidden_state()\n",
    "  total_loss = 0\n",
    "  for (batch, (inp, targ)) in enumerate(dataset_fr) :\n",
    "    loss = 0\n",
    "    with tf.GradientTape() as tape :\n",
    "      enc_output , enc_hidden = encoder(inp, hidden)\n",
    "      #Setting final encoder states as initial decoder states\n",
    "      dec_hidden = enc_hidden\n",
    "      # Teacher forcing - feeding the target as the next input\n",
    "      #Passing '<start>' token as initial token\n",
    "      dec_input = tf.expand_dims([eng_token.word_index['<start>']]*BATCH_SIZE, 1)\n",
    "      for t in range(1, targ.shape[1]) :\n",
    "        # passing enc_output to the decoder\n",
    "        predictions, dec_hidden, _ = decoder(dec_input, dec_hidden, enc_output)\n",
    "        loss += loss_function_fr(targ[:,t], predictions)\n",
    "        # using teacher forcing\n",
    "        dec_input = tf.expand_dims(targ[:,t], 1)\n",
    "    batch_loss = (loss / int(targ.shape[1]))\n",
    "    total_loss += batch_loss        \n",
    "    variables = encoder.variables + decoder.variables\n",
    "    gradients = tape.gradient(loss, variables)\n",
    "    optimizer_fr.apply_gradients(zip(gradients, variables))\n",
    "    if batch % 1000 == 0 :\n",
    "      print('Epoch {} Batch {} Loss {:.4f}'.format(epoch + 1, batch, batch_loss.numpy()))\n",
    "    # saving (checkpoint)  the model every 2 epochs\n",
    "  if (epoch + 1)%2 == 0 :\n",
    "    checkpoint_fr.save(file_prefix=checkpoint_prefix_fr)\n",
    "  print('Epoch {} Loss {:.4f}'.format(epoch + 1, total_loss / N_BATCH))\n",
    "  print('Time taken for 1 epoch {0:0.2f} minutes\\n'.format((time.time() - start)/60))"
   ]
  },
  {
   "cell_type": "markdown",
   "id": "qOpQ0d13CqS4",
   "metadata": {
    "id": "qOpQ0d13CqS4"
   },
   "source": [
    "### French Final Model Metrics"
   ]
  },
  {
   "cell_type": "code",
   "execution_count": null,
   "id": "SyCoZD21D2oH",
   "metadata": {
    "colab": {
     "base_uri": "https://localhost:8080/"
    },
    "id": "SyCoZD21D2oH",
    "outputId": "48258785-128b-4d20-99eb-bf5c3997c684"
   },
   "outputs": [
    {
     "name": "stderr",
     "output_type": "stream",
     "text": [
      "/usr/local/lib/python3.7/dist-packages/nltk/translate/bleu_score.py:490: UserWarning: \n",
      "Corpus/Sentence contains 0 counts of 2-gram overlaps.\n",
      "BLEU scores might be undesirable; use SmoothingFunction().\n",
      "  warnings.warn(_msg)\n"
     ]
    }
   ],
   "source": [
    "#Get average BLEU score\n",
    "bleuScoreMeanFra, referencesFr2, hypothesesFr2 = evaluate_test_model2(fra_te, eng_fr_te, encoder, decoder, fra_token, eng_fr_token, max_len_ip, max_len_op)"
   ]
  },
  {
   "cell_type": "code",
   "execution_count": null,
   "id": "J3k51AZnD2s2",
   "metadata": {
    "colab": {
     "base_uri": "https://localhost:8080/"
    },
    "id": "J3k51AZnD2s2",
    "outputId": "0fe79f8d-c61b-4c01-a29f-a9fd3ecc7dfc"
   },
   "outputs": [
    {
     "name": "stdout",
     "output_type": "stream",
     "text": [
      "Average BLEU score on test data for French model 2:  0.7545756661354549\n"
     ]
    }
   ],
   "source": [
    "print(\"Average BLEU score on test data for French model 2: \", bleuScoreMeanFra)"
   ]
  },
  {
   "cell_type": "code",
   "execution_count": null,
   "id": "Yx3RERyYP-Qx",
   "metadata": {
    "colab": {
     "base_uri": "https://localhost:8080/"
    },
    "id": "Yx3RERyYP-Qx",
    "outputId": "ec437e13-f5b5-43e3-bde1-0cdd5ad54644"
   },
   "outputs": [
    {
     "name": "stdout",
     "output_type": "stream",
     "text": [
      "{'rouge-1': {'f': 0.15868719131066544, 'p': 0.21183333333333298, 'r': 0.12837499999999946}, 'rouge-2': {'f': 0.05693452320397745, 'p': 0.08837500000000001, 'r': 0.04283333333333336}, 'rouge-l': {'f': 0.15896630386817281, 'p': 0.2131333333333329, 'r': 0.12830833333333277}}\n"
     ]
    }
   ],
   "source": [
    "#Get ROUGE scores.\n",
    "rouge = Rouge()\n",
    "scores_fr_2 = rouge.get_scores(hypothesesFr2, referencesFr2, avg = True)\n",
    "print(scores_fr_2)"
   ]
  }
 ],
 "metadata": {
  "accelerator": "GPU",
  "colab": {
   "collapsed_sections": [],
   "name": "May6_lstmtranslationmodel.ipynb",
   "provenance": [],
   "toc_visible": true
  },
  "kernelspec": {
   "display_name": "Python 3",
   "language": "python",
   "name": "python3"
  },
  "language_info": {
   "codemirror_mode": {
    "name": "ipython",
    "version": 3
   },
   "file_extension": ".py",
   "mimetype": "text/x-python",
   "name": "python",
   "nbconvert_exporter": "python",
   "pygments_lexer": "ipython3",
   "version": "3.8.2"
  }
 },
 "nbformat": 4,
 "nbformat_minor": 5
}
